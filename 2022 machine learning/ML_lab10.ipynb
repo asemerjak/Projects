{
  "nbformat": 4,
  "nbformat_minor": 0,
  "metadata": {
    "colab": {
      "name": "ML_lab10.ipynb",
      "provenance": [],
      "collapsed_sections": []
    },
    "kernelspec": {
      "name": "python3",
      "display_name": "Python 3"
    },
    "language_info": {
      "name": "python"
    }
  },
  "cells": [
    {
      "cell_type": "markdown",
      "source": [
        "**Agata Semerjak**, 402426  \n",
        "środa 17:00"
      ],
      "metadata": {
        "id": "JVUYBEMNWeMS"
      }
    },
    {
      "cell_type": "code",
      "execution_count": null,
      "metadata": {
        "id": "ZchOZMR5SfBN"
      },
      "outputs": [],
      "source": [
        "import numpy as np\n",
        "import pandas as pd\n",
        "import matplotlib.pyplot as plt\n",
        "from sklearn.datasets import load_wine\n",
        "from sklearn.model_selection import train_test_split, cross_val_score\n",
        "from sklearn.tree import DecisionTreeClassifier\n",
        "from sklearn import metrics\n",
        "from sklearn.ensemble import BaggingClassifier, AdaBoostClassifier, GradientBoostingClassifier\n",
        "\n",
        "data = load_wine()\n",
        "y = data.target\n",
        "X = pd.DataFrame(data.data, columns = data.feature_names)\n",
        "\n",
        "X_train, X_test, y_train, y_test = train_test_split(X, y, test_size=0.3, random_state=1)"
      ]
    },
    {
      "cell_type": "markdown",
      "source": [
        "## SIngle decision tree"
      ],
      "metadata": {
        "id": "gDSRP_eJUD6Y"
      }
    },
    {
      "cell_type": "code",
      "source": [
        "single_tree = DecisionTreeClassifier(min_samples_leaf=3, random_state=1)\n",
        "single_tree = single_tree.fit(X, y)\n",
        "\n",
        "print(\"Accuracy:\", metrics.accuracy_score(y_test, single_tree.predict(X_test)))\n",
        "print(\"Cross val score:\", cross_val_score(single_tree, X, y))\n"
      ],
      "metadata": {
        "colab": {
          "base_uri": "https://localhost:8080/"
        },
        "id": "rXj-AI75UDQM",
        "outputId": "3e76c264-ba80-414e-b1f6-e9a9165235c0"
      },
      "execution_count": null,
      "outputs": [
        {
          "output_type": "stream",
          "name": "stdout",
          "text": [
            "Accuracy: 0.9814814814814815\n",
            "Cross val score: [0.94444444 0.80555556 0.80555556 0.91428571 0.97142857]\n"
          ]
        }
      ]
    },
    {
      "cell_type": "markdown",
      "source": [
        "## Bagged decision tree"
      ],
      "metadata": {
        "id": "Gp5tevuuU6Q7"
      }
    },
    {
      "cell_type": "code",
      "source": [
        "bagged_tree = BaggingClassifier(base_estimator = DecisionTreeClassifier(min_samples_leaf=3, random_state=1), random_state=1, n_estimators=50)\n",
        "bagged_tree = bagged_tree.fit(X, y)\n",
        "\n",
        "print(\"Accuracy:\", metrics.accuracy_score(y_test, bagged_tree.predict(X_test)))\n",
        "print(\"Cross val score:\", cross_val_score(bagged_tree, X, y))"
      ],
      "metadata": {
        "colab": {
          "base_uri": "https://localhost:8080/"
        },
        "id": "xA4OmlS4U5tF",
        "outputId": "5b63e4aa-232c-4394-fcfb-9bb5cfee8036"
      },
      "execution_count": null,
      "outputs": [
        {
          "output_type": "stream",
          "name": "stdout",
          "text": [
            "Accuracy: 1.0\n",
            "Cross val score: [0.91666667 0.91666667 0.94444444 0.97142857 1.        ]\n"
          ]
        }
      ]
    },
    {
      "cell_type": "markdown",
      "source": [
        "## AdaBoost algorithm for decision trees"
      ],
      "metadata": {
        "id": "exfQIVLzWrHg"
      }
    },
    {
      "cell_type": "code",
      "source": [
        "ada_boost = AdaBoostClassifier(base_estimator=DecisionTreeClassifier(max_depth=1, min_samples_leaf=3, random_state=1), random_state=1, n_estimators=50, algorithm='SAMME')\n",
        "ada_boost = ada_boost.fit(X, y)\n",
        "\n",
        "print(\"Accuracy:\", metrics.accuracy_score(y_test, ada_boost.predict(X_test)))\n",
        "print(\"Cross val score\", cross_val_score(ada_boost, X, y))"
      ],
      "metadata": {
        "colab": {
          "base_uri": "https://localhost:8080/"
        },
        "id": "IF5f6GnPWqok",
        "outputId": "444a27e3-ccea-41c2-e589-4da6a322505e"
      },
      "execution_count": null,
      "outputs": [
        {
          "output_type": "stream",
          "name": "stdout",
          "text": [
            "Accuracy: 1.0\n",
            "Cross val score [0.83333333 0.91666667 0.91666667 1.         1.        ]\n"
          ]
        }
      ]
    },
    {
      "cell_type": "markdown",
      "source": [
        "## Gradient Boosting algorithm for decision trees"
      ],
      "metadata": {
        "id": "lWo32edcY2H5"
      }
    },
    {
      "cell_type": "code",
      "source": [
        "grad_boost = GradientBoostingClassifier(n_estimators=50, max_depth=1, learning_rate=1, random_state=1, subsample=0.5, min_samples_leaf=3)\n",
        "grad_boost = grad_boost.fit(X, y)\n",
        "\n",
        "print(\"Accuracy:\", metrics.accuracy_score(y_test, grad_boost.predict(X_test)))\n",
        "print(\"Cross val score:\", cross_val_score(grad_boost, X, y), \"\\n\")\n",
        "\n",
        "cs = np.cumsum(grad_boost.oob_improvement_)\n",
        "plt.figure()\n",
        "x_plot = np.linspace(0, len(cs), 50)\n",
        "plt.plot(x_plot, cs)\n",
        "plt.show()"
      ],
      "metadata": {
        "colab": {
          "base_uri": "https://localhost:8080/",
          "height": 317
        },
        "id": "gze2gYnAY58F",
        "outputId": "c7f90b26-d42e-4997-de49-68446e5b5416"
      },
      "execution_count": null,
      "outputs": [
        {
          "output_type": "stream",
          "name": "stdout",
          "text": [
            "Accuracy: 1.0\n",
            "Cross val score: [0.91666667 0.97222222 0.97222222 0.42857143 0.97142857] \n",
            "\n"
          ]
        },
        {
          "output_type": "display_data",
          "data": {
            "text/plain": [
              "<Figure size 432x288 with 1 Axes>"
            ],
            "image/png": "[encoded data removed]"
          },
          "metadata": {
            "needs_background": "light"
          }
        }
      ]
    },
    {
      "cell_type": "markdown",
      "source": [
        "After about 10 iterations there is no improvement."
      ],
      "metadata": {
        "id": "1RGHYsFmnhvV"
      }
    },
    {
      "cell_type": "code",
      "source": [
        ""
      ],
      "metadata": {
        "id": "-NB5lEuEZuuR"
      },
      "execution_count": null,
      "outputs": []
    }
  ]
}