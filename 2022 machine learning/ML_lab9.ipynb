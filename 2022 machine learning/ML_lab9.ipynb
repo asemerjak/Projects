{
  "nbformat": 4,
  "nbformat_minor": 0,
  "metadata": {
    "colab": {
      "name": "ML_lab9.ipynb",
      "provenance": [],
      "collapsed_sections": []
    },
    "kernelspec": {
      "name": "python3",
      "display_name": "Python 3"
    },
    "language_info": {
      "name": "python"
    }
  },
  "cells": [
    {
      "cell_type": "markdown",
      "source": [
        "**Agata Semerjak, 402426**  \n",
        "środa 17:00"
      ],
      "metadata": {
        "id": "49DMyTG4ueFQ"
      }
    },
    {
      "cell_type": "code",
      "source": [
        "import numpy as np  \n",
        "import pandas as pd  \n",
        "import matplotlib.pyplot as plt  \n",
        "from scipy.io import loadmat  \n",
        "from scipy import stats\n",
        "from sklearn import metrics"
      ],
      "metadata": {
        "id": "RGcBiPu3uhpa"
      },
      "execution_count": 1,
      "outputs": []
    },
    {
      "cell_type": "markdown",
      "source": [
        "## Anomaly detection"
      ],
      "metadata": {
        "id": "1aSuAuVjukRo"
      }
    },
    {
      "cell_type": "code",
      "execution_count": 2,
      "metadata": {
        "colab": {
          "base_uri": "https://localhost:8080/"
        },
        "id": "f8qeQObIs0MO",
        "outputId": "72aecdd6-1639-44b8-e303-8f60ef311105"
      },
      "outputs": [
        {
          "output_type": "stream",
          "name": "stdout",
          "text": [
            "Amount of data: (307, 2)\n"
          ]
        }
      ],
      "source": [
        "data = loadmat('ex8data1.mat')  \n",
        "X = data['X']\n",
        "\n",
        "print(\"Amount of data:\", X.shape)"
      ]
    },
    {
      "cell_type": "code",
      "source": [
        "plt.figure()\n",
        "plt.scatter(X[:, 0], X[:, 1])\n",
        "plt.xlabel('Throughput [mb/s]')\n",
        "plt.ylabel('Latency [ms]')\n",
        "plt.title(\"Data plot\")\n",
        "\n",
        "plt.figure()\n",
        "plt.hist(X[:, 0])\n",
        "plt.title(\"Histogram for throughput [mb/s]\")\n",
        "\n",
        "plt.figure()\n",
        "plt.hist(X[:, 1])\n",
        "plt.title(\"Histogram for latency [ms]\")\n",
        "\n",
        "plt.show()\n"
      ],
      "metadata": {
        "colab": {
          "base_uri": "https://localhost:8080/",
          "height": 823
        },
        "id": "DsFHW5VGtVKZ",
        "outputId": "bd3b3a9d-1f77-4792-d7d5-fd3b585c3882"
      },
      "execution_count": 3,
      "outputs": [
        {
          "output_type": "display_data",
          "data": {
            "text/plain": [
              "<Figure size 432x288 with 1 Axes>"
            ],
            "image/png": "[encoded data removed]"
          },
          "metadata": {
            "needs_background": "light"
          }
        },
        {
          "output_type": "display_data",
          "data": {
            "text/plain": [
              "<Figure size 432x288 with 1 Axes>"
            ],
            "image/png": "[encoded data removed]"
          },
          "metadata": {
            "needs_background": "light"
          }
        },
        {
          "output_type": "display_data",
          "data": {
            "text/plain": [
              "<Figure size 432x288 with 1 Axes>"
            ],
            "image/png": "[encoded data removed]"
          },
          "metadata": {
            "needs_background": "light"
          }
        }
      ]
    },
    {
      "cell_type": "markdown",
      "source": [
        "### Gaussian distribution"
      ],
      "metadata": {
        "id": "bMWmnwZ7upBj"
      }
    },
    {
      "cell_type": "code",
      "source": [
        "def estimate_gaussian(X):\n",
        "    mu = []\n",
        "    sigma = []\n",
        "    for i in range(X.shape[1]):\n",
        "        mu.append(np.mean(X[:, i]))\n",
        "        sigma.append(np.var(X[:, i]))\n",
        "    return mu, sigma\n",
        "\n",
        "\n",
        "mu, sigma = estimate_gaussian(X)\n",
        "print(mu, sigma)"
      ],
      "metadata": {
        "colab": {
          "base_uri": "https://localhost:8080/"
        },
        "id": "6UbqwgOGuqZ-",
        "outputId": "8e235684-1391-4a06-de5d-dc350a523862"
      },
      "execution_count": 4,
      "outputs": [
        {
          "output_type": "stream",
          "name": "stdout",
          "text": [
            "[14.112225783945592, 14.99771050813621] [1.8326314134945172, 1.7097453308287784]\n"
          ]
        }
      ]
    },
    {
      "cell_type": "markdown",
      "source": [
        "### Calculate probability"
      ],
      "metadata": {
        "id": "wj4GsuGfvGcX"
      }
    },
    {
      "cell_type": "code",
      "source": [
        "Xval = data['Xval']  \n",
        "yval = data['yval']\n",
        "\n",
        "print(\"Number of data:\", Xval.shape, yval.shape)\n"
      ],
      "metadata": {
        "colab": {
          "base_uri": "https://localhost:8080/"
        },
        "id": "Ju-73ow3vHuv",
        "outputId": "ebc5a707-0e52-436c-c92a-866ad1a0c2e3"
      },
      "execution_count": 5,
      "outputs": [
        {
          "output_type": "stream",
          "name": "stdout",
          "text": [
            "Number of data: (307, 2) (307, 1)\n"
          ]
        }
      ]
    },
    {
      "cell_type": "code",
      "source": [
        "# calculate the probability for X data\n",
        "gauss1 = stats.norm.pdf(X[:50, 0], mu[0], np.sqrt(sigma[0]))\n",
        "gauss2 = stats.norm.pdf(X[:50, 1], mu[1], np.sqrt(sigma[1]))\n",
        "\n",
        "pval = np.zeros((Xval.shape[0], Xval.shape[1]))\n",
        "\n",
        "#calculate the probability for Xval data\n",
        "pval[:, 0] = stats.norm.pdf(Xval[:, 0], mu[0], np.sqrt(sigma[0]))\n",
        "pval[:, 1] = stats.norm.pdf(Xval[:, 1], mu[1], np.sqrt(sigma[1]))\n",
        "\n"
      ],
      "metadata": {
        "id": "9MquIa4SvkUh"
      },
      "execution_count": 6,
      "outputs": []
    },
    {
      "cell_type": "code",
      "source": [
        "def select_threshold(pval, yval):\n",
        "    f1s = []\n",
        "    eps = np.linspace(np.min(pval), np.max(pval), 10000)\n",
        "\n",
        "    for i in range(len(eps)):\n",
        "        e = eps[i]\n",
        "        x = np.where((pval[:, 0] < e), (np.where((pval[:, 1] < e), 1, 1)), (np.where((pval[:, 1] < e), 1, 0)))\n",
        "        f1s.append(metrics.f1_score(yval, x))\n",
        "\n",
        "    best_f1 = np.max(f1s)\n",
        "    best_f1_idx = np.argmax(f1s)\n",
        "    best_eps = eps[best_f1_idx]\n",
        "\n",
        "    return best_eps, best_f1"
      ],
      "metadata": {
        "id": "N91VTmB6wW0d"
      },
      "execution_count": 7,
      "outputs": []
    },
    {
      "cell_type": "code",
      "source": [
        "best_eps, best_f1 = select_threshold(pval, yval)\n",
        "\n",
        "print(best_eps, best_f1)"
      ],
      "metadata": {
        "colab": {
          "base_uri": "https://localhost:8080/"
        },
        "id": "n2hysKrBwXVV",
        "outputId": "0dd1c55d-7aa8-49a1-e6b0-f77a0d6054b8"
      },
      "execution_count": 8,
      "outputs": [
        {
          "output_type": "stream",
          "name": "stdout",
          "text": [
            "0.0003966715195093453 0.8750000000000001\n"
          ]
        }
      ]
    },
    {
      "cell_type": "code",
      "source": [
        "\n",
        "anomal = np.where(pval < best_eps)\n",
        "anomal = list(dict.fromkeys(anomal[0]))\n",
        "\n",
        "plt.figure()\n",
        "plt.scatter(Xval[:, 0], Xval[:, 1])\n",
        "plt.scatter(Xval[anomal[0]:anomal[-1], 0], Xval[anomal[0]:anomal[-1], 1], s=100, facecolors='none', edgecolors='r')\n",
        "plt.xlabel('Throughput [mb/s]')\n",
        "plt.ylabel('Latency [ms]')\n",
        "plt.show()"
      ],
      "metadata": {
        "colab": {
          "base_uri": "https://localhost:8080/",
          "height": 279
        },
        "id": "G3u2cmrov0Z3",
        "outputId": "89e0ee8c-0b1c-48ac-a043-4cb15979f0f1"
      },
      "execution_count": 9,
      "outputs": [
        {
          "output_type": "display_data",
          "data": {
            "text/plain": [
              "<Figure size 432x288 with 1 Axes>"
            ],
            "image/png": "[encoded data removed]"
          },
          "metadata": {
            "needs_background": "light"
          }
        }
      ]
    }
  ]
}