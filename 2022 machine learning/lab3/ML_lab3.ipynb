{
 "cells": [
  {
   "cell_type": "markdown",
   "metadata": {},
   "source": [
    "**Agata Semerjak**, 402426  \n",
    "gr 3a, środa 17:00"
   ]
  },
  {
   "cell_type": "markdown",
   "metadata": {},
   "source": [
    "## Binary logistic regression"
   ]
  },
  {
   "cell_type": "code",
   "execution_count": 1,
   "metadata": {},
   "outputs": [
    {
     "data": {
      "text/html": [
       "<div>\n",
       "<style scoped>\n",
       "    .dataframe tbody tr th:only-of-type {\n",
       "        vertical-align: middle;\n",
       "    }\n",
       "\n",
       "    .dataframe tbody tr th {\n",
       "        vertical-align: top;\n",
       "    }\n",
       "\n",
       "    .dataframe thead th {\n",
       "        text-align: right;\n",
       "    }\n",
       "</style>\n",
       "<table border=\"1\" class=\"dataframe\">\n",
       "  <thead>\n",
       "    <tr style=\"text-align: right;\">\n",
       "      <th></th>\n",
       "      <th>Exam 1</th>\n",
       "      <th>Exam 2</th>\n",
       "      <th>Admitted</th>\n",
       "    </tr>\n",
       "  </thead>\n",
       "  <tbody>\n",
       "    <tr>\n",
       "      <th>0</th>\n",
       "      <td>34.623660</td>\n",
       "      <td>78.024693</td>\n",
       "      <td>0</td>\n",
       "    </tr>\n",
       "    <tr>\n",
       "      <th>1</th>\n",
       "      <td>30.286711</td>\n",
       "      <td>43.894998</td>\n",
       "      <td>0</td>\n",
       "    </tr>\n",
       "    <tr>\n",
       "      <th>2</th>\n",
       "      <td>35.847409</td>\n",
       "      <td>72.902198</td>\n",
       "      <td>0</td>\n",
       "    </tr>\n",
       "    <tr>\n",
       "      <th>3</th>\n",
       "      <td>60.182599</td>\n",
       "      <td>86.308552</td>\n",
       "      <td>1</td>\n",
       "    </tr>\n",
       "    <tr>\n",
       "      <th>4</th>\n",
       "      <td>79.032736</td>\n",
       "      <td>75.344376</td>\n",
       "      <td>1</td>\n",
       "    </tr>\n",
       "  </tbody>\n",
       "</table>\n",
       "</div>"
      ],
      "text/plain": [
       "      Exam 1     Exam 2  Admitted\n",
       "0  34.623660  78.024693         0\n",
       "1  30.286711  43.894998         0\n",
       "2  35.847409  72.902198         0\n",
       "3  60.182599  86.308552         1\n",
       "4  79.032736  75.344376         1"
      ]
     },
     "execution_count": 1,
     "metadata": {},
     "output_type": "execute_result"
    }
   ],
   "source": [
    "import numpy as np\n",
    "import pandas as pd\n",
    "import matplotlib.pyplot as plt\n",
    " \n",
    "import os\n",
    "path = os.getcwd() + '/ex2data1.txt'\n",
    "data = pd.read_csv(path, header=None, names=['Exam 1', 'Exam 2', 'Admitted'])\n",
    "data.head()"
   ]
  },
  {
   "cell_type": "code",
   "execution_count": 2,
   "metadata": {},
   "outputs": [
    {
     "data": {
      "text/html": [
       "<div>\n",
       "<style scoped>\n",
       "    .dataframe tbody tr th:only-of-type {\n",
       "        vertical-align: middle;\n",
       "    }\n",
       "\n",
       "    .dataframe tbody tr th {\n",
       "        vertical-align: top;\n",
       "    }\n",
       "\n",
       "    .dataframe thead th {\n",
       "        text-align: right;\n",
       "    }\n",
       "</style>\n",
       "<table border=\"1\" class=\"dataframe\">\n",
       "  <thead>\n",
       "    <tr style=\"text-align: right;\">\n",
       "      <th></th>\n",
       "      <th>Exam 1</th>\n",
       "      <th>Exam 2</th>\n",
       "      <th>Admitted</th>\n",
       "    </tr>\n",
       "  </thead>\n",
       "  <tbody>\n",
       "    <tr>\n",
       "      <th>count</th>\n",
       "      <td>100.000000</td>\n",
       "      <td>100.000000</td>\n",
       "      <td>100.000000</td>\n",
       "    </tr>\n",
       "    <tr>\n",
       "      <th>mean</th>\n",
       "      <td>65.644274</td>\n",
       "      <td>66.221998</td>\n",
       "      <td>0.600000</td>\n",
       "    </tr>\n",
       "    <tr>\n",
       "      <th>std</th>\n",
       "      <td>19.458222</td>\n",
       "      <td>18.582783</td>\n",
       "      <td>0.492366</td>\n",
       "    </tr>\n",
       "    <tr>\n",
       "      <th>min</th>\n",
       "      <td>30.058822</td>\n",
       "      <td>30.603263</td>\n",
       "      <td>0.000000</td>\n",
       "    </tr>\n",
       "    <tr>\n",
       "      <th>25%</th>\n",
       "      <td>50.919511</td>\n",
       "      <td>48.179205</td>\n",
       "      <td>0.000000</td>\n",
       "    </tr>\n",
       "    <tr>\n",
       "      <th>50%</th>\n",
       "      <td>67.032988</td>\n",
       "      <td>67.682381</td>\n",
       "      <td>1.000000</td>\n",
       "    </tr>\n",
       "    <tr>\n",
       "      <th>75%</th>\n",
       "      <td>80.212529</td>\n",
       "      <td>79.360605</td>\n",
       "      <td>1.000000</td>\n",
       "    </tr>\n",
       "    <tr>\n",
       "      <th>max</th>\n",
       "      <td>99.827858</td>\n",
       "      <td>98.869436</td>\n",
       "      <td>1.000000</td>\n",
       "    </tr>\n",
       "  </tbody>\n",
       "</table>\n",
       "</div>"
      ],
      "text/plain": [
       "           Exam 1      Exam 2    Admitted\n",
       "count  100.000000  100.000000  100.000000\n",
       "mean    65.644274   66.221998    0.600000\n",
       "std     19.458222   18.582783    0.492366\n",
       "min     30.058822   30.603263    0.000000\n",
       "25%     50.919511   48.179205    0.000000\n",
       "50%     67.032988   67.682381    1.000000\n",
       "75%     80.212529   79.360605    1.000000\n",
       "max     99.827858   98.869436    1.000000"
      ]
     },
     "execution_count": 2,
     "metadata": {},
     "output_type": "execute_result"
    }
   ],
   "source": [
    "data.describe()"
   ]
  },
  {
   "cell_type": "code",
   "execution_count": 3,
   "metadata": {},
   "outputs": [
    {
     "name": "stdout",
     "output_type": "stream",
     "text": [
      "   Ones     Exam 1     Exam 2\n",
      "0   1.0  34.623660  78.024693\n",
      "1   1.0  30.286711  43.894998\n",
      "2   1.0  35.847409  72.902198\n",
      "3   1.0  60.182599  86.308552\n",
      "4   1.0  79.032736  75.344376 \n",
      "\n",
      "   Admitted\n",
      "0         0\n",
      "1         0\n",
      "2         0\n",
      "3         1\n",
      "4         1\n"
     ]
    }
   ],
   "source": [
    "data.insert(0, 'Ones', np.ones(len(data))) #adding column of ones at the beggining\n",
    "X = data.drop(['Admitted'], axis=1) #separating independent variables\n",
    "y = data[['Admitted']] #separating dependent variable\n",
    "print(X.head(), \"\\n\")\n",
    "print(y.head())"
   ]
  },
  {
   "cell_type": "code",
   "execution_count": 4,
   "metadata": {},
   "outputs": [
    {
     "data": {
      "image/png": "[encoded data removed]",
      "text/plain": [
       "<Figure size 432x288 with 1 Axes>"
      ]
     },
     "metadata": {
      "needs_background": "light"
     },
     "output_type": "display_data"
    }
   ],
   "source": [
    "X = np.array(X.values) #converting dfs to matrixes\n",
    "y = np.array(y.values)\n",
    "for i in range(len(X)): #plotting the data on 2D plot\n",
    "    if y[i] == 0:\n",
    "        if i == 0:\n",
    "            plt.scatter(X[i][1], X[i][2], c=\"r\", label=\"Not admitted\")\n",
    "        else:\n",
    "            plt.scatter(X[i][1], X[i][2], c=\"r\")\n",
    "    else:\n",
    "        if i == 3:\n",
    "            plt.scatter(X[i][1], X[i][2], c=\"g\", label=\"Admitted\")\n",
    "        else:\n",
    "            plt.scatter(X[i][1], X[i][2], c=\"g\")\n",
    "plt.legend()\n",
    "plt.xlabel(\"Exam 1 score\")\n",
    "plt.ylabel(\"Exam 2 score\")\n",
    "plt.title(\"Exams results plot\")\n",
    "plt.show()"
   ]
  },
  {
   "cell_type": "code",
   "execution_count": 5,
   "metadata": {},
   "outputs": [],
   "source": [
    "def sig(t): #the signum function\n",
    "    return 1/(1 + np.exp(-t))"
   ]
  },
  {
   "cell_type": "code",
   "execution_count": 6,
   "metadata": {},
   "outputs": [
    {
     "data": {
      "image/png": "[encoded data removed]",
      "text/plain": [
       "<Figure size 432x288 with 1 Axes>"
      ]
     },
     "metadata": {
      "needs_background": "light"
     },
     "output_type": "display_data"
    }
   ],
   "source": [
    "t = np.arange(-5, 5.5, 0.5)\n",
    "plt.plot(t, sig(t)) #plotting the signum function\n",
    "plt.xlabel(\"t\")\n",
    "plt.ylabel(\"y\")\n",
    "plt.title(\"Sigmoid function plot\")\n",
    "plt.show()"
   ]
  },
  {
   "cell_type": "code",
   "execution_count": 7,
   "metadata": {},
   "outputs": [
    {
     "name": "stdout",
     "output_type": "stream",
     "text": [
      "Cost function for zero theta: 0.6931471805599452\n"
     ]
    }
   ],
   "source": [
    "def cost(theta, X, y):\n",
    "    m = len(X)\n",
    "    h = sig(X @ theta)\n",
    "    J = ((-y.T)@np.log(h) - (1-y).T@(np.log(1-h)))/m\n",
    "    return J[0]\n",
    "\n",
    "theta = np.zeros(3) #initalizing theta\n",
    "\n",
    "print(\"Cost function for zero theta:\", cost(theta, X, y))"
   ]
  },
  {
   "cell_type": "code",
   "execution_count": 8,
   "metadata": {},
   "outputs": [
    {
     "name": "stdout",
     "output_type": "stream",
     "text": [
      "Theta values:\n",
      " [[1.41957362]\n",
      " [3.35941597]\n",
      " [3.11271333]] \n",
      "\n",
      "Cost function value: [0.20640714]\n"
     ]
    }
   ],
   "source": [
    "def simple_gradient(X, y, theta, alpha, it):\n",
    "    m = len(X)\n",
    "    theta = theta.reshape((3, 1))\n",
    "    for _ in range(it):\n",
    "        theta = theta - alpha/m * (X.T @ (sig(X @ theta) - y)) #updating theta\n",
    "        #theta = theta - alpha/m * ((sig(X @ theta) - y).T @ X) #updating theta\n",
    "    c = cost(theta, X, y)\n",
    "    return theta, c\n",
    "\n",
    "def normalize(X):\n",
    "  meanx = X.mean(axis=0) #computing mean of each column\n",
    "  sigmax = X.std(axis=0) #computing std for each column\n",
    "  X_normalized = X.copy()\n",
    "  X_normalized[:, 1:] = np.multiply((X[:, 1:] - meanx[1:]), 1/sigmax[1:]) #normalizing the data\n",
    "  return meanx, sigmax, X_normalized\n",
    "\n",
    "meanx, sigmax, X_norm = normalize(X)\n",
    "\n",
    "better_theta, c = simple_gradient(X_norm, y, theta, 1, 150)\n",
    "print(\"Theta values:\\n\", better_theta, \"\\n\\nCost function value:\", c)"
   ]
  },
  {
   "cell_type": "code",
   "execution_count": 9,
   "metadata": {},
   "outputs": [
    {
     "name": "stdout",
     "output_type": "stream",
     "text": [
      "Actual values:    [0 0 0 1 1 0 1 1 1 1 0 0 1 1 0 1 1 0 1 1 0 1 0 0 1 1 1 0 0 0 1 1 0 1 0 0 0\n",
      " 1 0 0 1 0 1 0 0 0 1 1 1 1 1 1 1 0 0 0 1 0 1 1 1 0 0 0 0 0 1 0 1 1 0 1 1 1\n",
      " 1 1 1 1 0 0 1 1 1 1 1 1 0 1 1 0 1 1 0 1 1 1 1 1 1 1]\n",
      "\n",
      "Predicted values: [0 0 0 1 1 0 1 0 1 1 1 0 1 1 0 1 0 0 1 1 0 1 0 0 1 1 1 1 0 0 1 1 0 0 0 0 1\n",
      " 1 0 0 1 0 1 1 0 0 1 1 1 1 1 1 1 0 0 0 1 1 1 1 1 0 0 0 0 0 1 0 1 1 0 1 1 1\n",
      " 1 1 1 1 0 1 1 1 1 0 1 1 0 1 1 0 1 1 0 1 1 1 1 1 0 1]\n"
     ]
    }
   ],
   "source": [
    "y_pred = sig(X_norm @ better_theta) #predicting the values according to computed theta\n",
    "y_pred = y_pred[:, 0] #preparing the size for further operations\n",
    "y_pred_bool = (y_pred >= 0.5).astype(int) #setting the threshold to 0.5 and converting predicted values to zeros and ones\n",
    "y = y[:, 0]\n",
    "print(\"Actual values:   \", y)\n",
    "print(\"\\nPredicted values:\", y_pred_bool)"
   ]
  },
  {
   "cell_type": "code",
   "execution_count": 10,
   "metadata": {},
   "outputs": [
    {
     "name": "stdout",
     "output_type": "stream",
     "text": [
      "Confusion matrix:\n",
      " [[34  6]\n",
      " [ 5 55]]\n",
      "\n",
      "True Positives:  34\n",
      "True Negatives:  55\n",
      "False Positives:  6\n",
      "False Negatives:  5\n",
      "\n",
      "True predictions:  89\n",
      "False predictions:  11\n",
      "Accuracy:  89.0 %\n"
     ]
    },
    {
     "data": {
      "image/png": "[encoded data removed]",
      "text/plain": [
       "<Figure size 432x288 with 2 Axes>"
      ]
     },
     "metadata": {
      "needs_background": "light"
     },
     "output_type": "display_data"
    }
   ],
   "source": [
    "from sklearn.metrics import confusion_matrix\n",
    "import seaborn as sns\n",
    "m = confusion_matrix(y, y_pred_bool)\n",
    "\n",
    "print('Confusion matrix:\\n', m)\n",
    "print('\\nTrue Positives: ', m[0, 0])\n",
    "print('True Negatives: ', m[1, 1])\n",
    "print('False Positives: ', m[0, 1])\n",
    "print('False Negatives: ', m[1, 0])\n",
    "print(\"\\nTrue predictions: \", m[0, 0] + m[1, 1])\n",
    "print(\"False predictions: \", m[0, 1] + m[1, 0])\n",
    "print(\"Accuracy: \", (m[0, 0] + m[1, 1])/np.sum(m) * 100, \"%\")\n",
    "\n",
    "cm_matrix = pd.DataFrame(data=m, index=['Actual Positive:1', 'Actual Negative:0'], columns=['Predict Positive:1', 'Predict Negative:0']) #plotting the confusion matrix\n",
    "\n",
    "sns.heatmap(cm_matrix, annot=True, fmt='d', cmap='RdPu')\n",
    "plt.title(\"Confusion matrix plot\")\n",
    "plt.show()"
   ]
  },
  {
   "cell_type": "code",
   "execution_count": 11,
   "metadata": {},
   "outputs": [
    {
     "data": {
      "image/png": "[encoded data removed]",
      "text/plain": [
       "<Figure size 432x288 with 1 Axes>"
      ]
     },
     "metadata": {
      "needs_background": "light"
     },
     "output_type": "display_data"
    }
   ],
   "source": [
    "for i in range(len(X)):\n",
    "    if y[i] == 0:\n",
    "        if i == 0:\n",
    "            plt.scatter(X_norm[i][1], X_norm[i][2], c=\"r\", label=\"Not admitted\")\n",
    "        else:\n",
    "            plt.scatter(X_norm[i][1], X_norm[i][2], c=\"r\")\n",
    "    else:\n",
    "        if i == 3:\n",
    "            plt.scatter(X_norm[i][1], X_norm[i][2], c=\"g\", label=\"Admitted\")\n",
    "        else:\n",
    "            plt.scatter(X_norm[i][1], X_norm[i][2], c=\"g\")\n",
    "\n",
    "c = -better_theta[0] / better_theta[1]\n",
    "m1 = -better_theta[2] / better_theta[1]\n",
    "\n",
    "plt.plot(X_norm[:, 1], m1*X_norm[:, 1] + c, label = \"Decision line\") #plotting the data with decision line on it\n",
    "plt.legend()\n",
    "plt.xlabel(\"Exam 1 score normalized\")\n",
    "plt.ylabel(\"Exam 2 score normalized\")\n",
    "plt.title(\"Exams results plot\")\n",
    "plt.show()"
   ]
  },
  {
   "cell_type": "markdown",
   "metadata": {},
   "source": [
    "## Logistic regression - Python"
   ]
  },
  {
   "cell_type": "code",
   "execution_count": 12,
   "metadata": {},
   "outputs": [
    {
     "data": {
      "image/png": "[encoded data removed]",
      "text/plain": [
       "<Figure size 576x432 with 1 Axes>"
      ]
     },
     "metadata": {},
     "output_type": "display_data"
    }
   ],
   "source": [
    "import numpy as np\n",
    "import matplotlib.pyplot as plt\n",
    "\n",
    "from sklearn.linear_model import LogisticRegression\n",
    "from sklearn import datasets\n",
    "\n",
    "# import some data to play with\n",
    "iris = datasets.load_iris()\n",
    "X = iris.data[:, :2]  # we only take the first two features.\n",
    "Y = iris.target\n",
    "\n",
    "# Create an instance of Logistic Regression Classifier and fit the data.\n",
    "logreg = LogisticRegression(penalty=\"l2\", C=1e4)\n",
    "logreg.fit(X, Y)\n",
    "\n",
    "# Plot the decision boundary. For that, we will assign a color to each\n",
    "# point in the mesh [x_min, x_max]x[y_min, y_max].\n",
    "x_min, x_max = X[:, 0].min() - .5, X[:, 0].max() + .5\n",
    "y_min, y_max = X[:, 1].min() - .5, X[:, 1].max() + .5\n",
    "h = .02  # step size in the mesh\n",
    "xx, yy = np.meshgrid(np.arange(x_min, x_max, h), np.arange(y_min, y_max, h))\n",
    "Z = logreg.predict(np.c_[xx.ravel(), yy.ravel()])\n",
    " \n",
    "# Put the result into a color plot\n",
    "Z = Z.reshape(xx.shape)\n",
    "plt.figure(1, figsize=(8, 6))\n",
    "plt.pcolormesh(xx, yy, Z, cmap=plt.cm.Paired)\n",
    " \n",
    "# Plot also the training points\n",
    "plt.scatter(X[:, 0], X[:, 1], c=Y, edgecolors='k', cmap=plt.cm.Paired)\n",
    "plt.xlabel('Sepal length')\n",
    "plt.ylabel('Sepal width')\n",
    " \n",
    "plt.xlim(xx.min(), xx.max())\n",
    "plt.ylim(yy.min(), yy.max())\n",
    "plt.xticks(())\n",
    "plt.yticks(())\n",
    " \n",
    "plt.show()"
   ]
  },
  {
   "cell_type": "code",
   "execution_count": 13,
   "metadata": {},
   "outputs": [
    {
     "name": "stdout",
     "output_type": "stream",
     "text": [
      "Average probability of belonging to every class: [0.33333206 0.33332895 0.33333898]\n"
     ]
    }
   ],
   "source": [
    "pp = logreg.predict_proba(X)\n",
    "print(\"Average probability of belonging to every class:\", np.mean(pp, axis=0))"
   ]
  },
  {
   "cell_type": "code",
   "execution_count": 14,
   "metadata": {},
   "outputs": [
    {
     "name": "stdout",
     "output_type": "stream",
     "text": [
      "Confusion matrix:\n",
      " [[50  0  0]\n",
      " [ 0 38 12]\n",
      " [ 0 13 37]]\n"
     ]
    },
    {
     "data": {
      "image/png": "[encoded data removed]",
      "text/plain": [
       "<Figure size 432x288 with 2 Axes>"
      ]
     },
     "metadata": {
      "needs_background": "light"
     },
     "output_type": "display_data"
    }
   ],
   "source": [
    "Z = logreg.predict(X)\n",
    "m = confusion_matrix(Y, Z)\n",
    "\n",
    "print('Confusion matrix:\\n', m)\n",
    "\n",
    "cm_matrix = pd.DataFrame(data=m, index=['Actual 0', 'Actual 1', 'Actual 2'], columns=['Predict 0', 'Predict 1', 'Predict 2'])\n",
    "\n",
    "sns.heatmap(cm_matrix, annot=True, fmt='d', cmap='RdPu')\n",
    "plt.title(\"Confusion matrix plot\")\n",
    "plt.show()"
   ]
  },
  {
   "cell_type": "code",
   "execution_count": 15,
   "metadata": {},
   "outputs": [
    {
     "name": "stdout",
     "output_type": "stream",
     "text": [
      "Mean accuracy on the data and labels 0.8333333333333334\n"
     ]
    }
   ],
   "source": [
    "print(\"Mean accuracy on the data and labels\", logreg.score(X, Y))"
   ]
  },
  {
   "cell_type": "code",
   "execution_count": 16,
   "metadata": {},
   "outputs": [
    {
     "name": "stdout",
     "output_type": "stream",
     "text": [
      "              precision    recall  f1-score   support\n",
      "\n",
      "     class 0       1.00      1.00      1.00        50\n",
      "     class 1       0.75      0.76      0.75        50\n",
      "     class 2       0.76      0.74      0.75        50\n",
      "\n",
      "    accuracy                           0.83       150\n",
      "   macro avg       0.83      0.83      0.83       150\n",
      "weighted avg       0.83      0.83      0.83       150\n",
      "\n"
     ]
    }
   ],
   "source": [
    "from sklearn.metrics import classification_report\n",
    "target_names = ['class 0', 'class 1', 'class 2']\n",
    "print(classification_report(Y, Z, target_names=target_names))"
   ]
  },
  {
   "cell_type": "code",
   "execution_count": null,
   "metadata": {},
   "outputs": [],
   "source": []
  }
 ],
 "metadata": {
  "interpreter": {
   "hash": "c468bac67d804d57f893e0f9ada055e3f07962baf7e8a6539193483b2e095161"
  },
  "kernelspec": {
   "display_name": "Python 3.8.3 ('base')",
   "language": "python",
   "name": "python3"
  },
  "language_info": {
   "codemirror_mode": {
    "name": "ipython",
    "version": 3
   },
   "file_extension": ".py",
   "mimetype": "text/x-python",
   "name": "python",
   "nbconvert_exporter": "python",
   "pygments_lexer": "ipython3",
   "version": "3.8.3"
  },
  "orig_nbformat": 4
 },
 "nbformat": 4,
 "nbformat_minor": 2
}
