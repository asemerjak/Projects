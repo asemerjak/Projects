{
 "cells": [
  {
   "cell_type": "markdown",
   "metadata": {},
   "source": [
    "# Eksperymenty"
   ]
  },
  {
   "cell_type": "code",
   "execution_count": 1,
   "metadata": {},
   "outputs": [],
   "source": [
    "from BO2_projekt import Order, Car, select, max_aim, genetic, tabu"
   ]
  },
  {
   "cell_type": "markdown",
   "metadata": {},
   "source": [
    "Utworzenie danych testowych - samochód o wymiarach 2.1 x 2.2 x 4.2, co daje pojemność równą 19.404 oraz 20 zamówień o zróżnicowanych objętościach, odległościach od naszej bazy oraz kierunkach."
   ]
  },
  {
   "cell_type": "code",
   "execution_count": 2,
   "metadata": {},
   "outputs": [],
   "source": [
    "car1 = Car(2.1, 2.2, 4.2, 11)\n",
    "\n",
    "order1 = Order(8, 300, \"n\")\n",
    "order2 = Order(8, 500, \"e\")\n",
    "order4 = Order(1, 100, 'w')\n",
    "order3 = Order(12, 800, \"n\")\n",
    "order5 = Order(2, 200, \"n\")\n",
    "order6 = Order(4, 100, \"e\")\n",
    "order7 = Order(2, 200, 'e')\n",
    "order8 = Order(20, 260, 'e')\n",
    "order9 = Order(2, 200, 'e')\n",
    "order10 = Order(7, 20, 'e')\n",
    "order11 = Order(2, 600, 'w')\n",
    "order12 = Order(12, 400, 'e')\n",
    "order13 = Order(1, 900, 's')\n",
    "order14 = Order(2, 280, 'n')\n",
    "order15 = Order(9, 20, 'e')\n",
    "order16 = Order(1, 800, 'w')\n",
    "order17 = Order(17, 650, 'e')\n",
    "order18 = Order(13, 400, 's')\n",
    "order19 = Order(21, 30, 'n')\n",
    "order20 = Order(17, 250, 'n')\n",
    "\n",
    "order_list = [order1, order2, order3, order4, order5, order6, order7, order8, order9, order10, order11, order12, order13, order14, order15, order16, order17, order18, order19, order20]\n"
   ]
  },
  {
   "cell_type": "markdown",
   "metadata": {},
   "source": [
    "Znalezienie najlepszego rozwiązania metodą dokładną (przeglądu wszystkich możliwych rozwiązań):"
   ]
  },
  {
   "cell_type": "code",
   "execution_count": 13,
   "metadata": {},
   "outputs": [
    {
     "name": "stdout",
     "output_type": "stream",
     "text": [
      "\n",
      "Metoda 'brute force' - najlepsze mozliwe rozwiazanie: 33750.79\n"
     ]
    }
   ],
   "source": [
    "orders = select(order_list, car1)\n",
    "print(\"\\nMetoda 'brute force' - najlepsze możliwe rozwiązanie:\", round(max_aim(orders, car1), 2))\n"
   ]
  },
  {
   "cell_type": "markdown",
   "metadata": {},
   "source": [
    "### Testowanie działania **algorytmu genetycznego**  \n",
    "\n",
    "Dla każdego testu manipulujemy jednym parametrem, pozostałe pozostawiając jako defeaultowe, czyli dla przypomnienia:\n",
    "- *kids_num* - liczba dzieci = 6\n",
    "- *parents_num* - liczba rodziców (czyli ile osobników przetrwa selekcję i zostaną przekazane do krzyżowania) = 6\n",
    "- *parents_mutants_num* - liczba rodziców przekazywanych do mutacji = 3\n",
    "- *kids_mutants_num* - liczba dzieci przekazywanych do mutacji = 2\n",
    "- *best_parents_num* - liczba najlepszych osobników z poprzedniej popalacji przekazywanych do kolejnej populacji = 4\n",
    "- *way_of_crossing* - sposób krzyżowania = *hal-half* - dziecko to pierwsza połowa 'mamy' i druga połowa 'taty'  \n",
    "\n",
    "pozostałe opcje krzyżowania to:\n",
    "+ *start-middle-end* - dziecko to początek mamy, środek taty oraz końcówka mamy\n",
    "+ *random* - punkt \"przecięcia\" rodziców jest wybierany losowo\n",
    "+ *every-other* - co drugi element bierzemy z mamy, a co drugi z taty.\n",
    "\n"
   ]
  },
  {
   "cell_type": "markdown",
   "metadata": {},
   "source": [
    "#### Kod generujący dane uzyskane z testów  \n",
    "Dla każdego parametru algorytm był uruchamiany 10-krotnie, a wyniki zapisywane w macierzach."
   ]
  },
  {
   "cell_type": "code",
   "execution_count": 4,
   "metadata": {},
   "outputs": [],
   "source": [
    "cros = ['half-half', 'random', 'start-middle-end', 'every-other']\n",
    "crossing_aims = []\n",
    "crossing_iters = []\n",
    "for way in cros:\n",
    "    crossing_aim = []\n",
    "    crossing_iter = []\n",
    "    for _ in range(10):\n",
    "        aim, iter = genetic(order_list, car1, 1000, way_of_crossing=way)\n",
    "        crossing_aim.append(aim)\n",
    "        crossing_iter.append(iter)\n",
    "\n",
    "    crossing_aims.append(crossing_aim)\n",
    "    crossing_iters.append(crossing_iter)"
   ]
  },
  {
   "cell_type": "code",
   "execution_count": 5,
   "metadata": {},
   "outputs": [],
   "source": [
    "kids = [2, 5, 10]\n",
    "kids_aims = []\n",
    "kids_iters = []\n",
    "for kid in kids:\n",
    "    kids_aim = []\n",
    "    kids_iter = []\n",
    "    for _ in range(10):\n",
    "        aim, iter = genetic(order_list, car1, 1000, kids_num=kid)\n",
    "        kids_aim.append(aim)\n",
    "        kids_iter.append(iter)\n",
    "\n",
    "    kids_aims.append(kids_aim)\n",
    "    kids_iters.append(kids_iter)"
   ]
  },
  {
   "cell_type": "code",
   "execution_count": 6,
   "metadata": {},
   "outputs": [],
   "source": [
    "parents = [4, 8, 12]\n",
    "parents_aims = []\n",
    "parents_iters = []\n",
    "for parent in parents:\n",
    "    parents_aim = []\n",
    "    parents_iter = []\n",
    "    for _ in range(10):\n",
    "        aim, iter = genetic(order_list, car1, 1000, parents_num=parent)\n",
    "        parents_aim.append(aim)\n",
    "        parents_iter.append(iter)\n",
    "\n",
    "    parents_aims.append(parents_aim)\n",
    "    parents_iters.append(parents_iter)"
   ]
  },
  {
   "cell_type": "code",
   "execution_count": 7,
   "metadata": {},
   "outputs": [],
   "source": [
    "muts = [2, 6, 12]\n",
    "muts_aims = []\n",
    "muts_iters = []\n",
    "for mut in muts:\n",
    "    muts_aim = []\n",
    "    muts_iter = []\n",
    "    for _ in range(10):\n",
    "        aim, iter = genetic(order_list, car1, 1000, kids_mutants_num=mut, parents_mutants_num=mut)\n",
    "        muts_aim.append(aim)\n",
    "        muts_iter.append(iter)\n",
    "\n",
    "    muts_aims.append(muts_aim)\n",
    "    muts_iters.append(muts_iter)"
   ]
  },
  {
   "cell_type": "code",
   "execution_count": 61,
   "metadata": {},
   "outputs": [],
   "source": [
    "iters = [5, 10, 20, 50, 80, 100, 150, 200, 300, 500, 1000]\n",
    "i_aims = []\n",
    "i_iters = []\n",
    "for i in iters:\n",
    "    i_aim = []\n",
    "    i_iter = []\n",
    "    for _ in range(10):\n",
    "        aim, iter = genetic(order_list, car1, i_max=i)\n",
    "        i_aim.append(aim)\n",
    "        i_iter.append(iter)\n",
    "\n",
    "    i_aims.append(i_aim)\n",
    "    i_iters.append(i_iter)"
   ]
  },
  {
   "cell_type": "code",
   "execution_count": 62,
   "metadata": {},
   "outputs": [],
   "source": [
    "new_crossing_aims = [[round(a, 2) for a in b] for b in crossing_aims]\n",
    "new_kids_aims = [[round(a, 2) for a in b] for b in kids_aims]\n",
    "new_parents_aims = [[round(a, 2) for a in b] for b in parents_aims]\n",
    "new_muts_aims = [[round(a, 2) for a in b] for b in muts_aims]\n",
    "new_i_aims = [[round(a, 2) for a in b] for b in i_aims]"
   ]
  },
  {
   "cell_type": "markdown",
   "metadata": {},
   "source": [
    "### Prezentacja oraz omówienie danych pozyskanych z testów."
   ]
  },
  {
   "cell_type": "markdown",
   "metadata": {},
   "source": [
    "1. Sposób krzyżowania"
   ]
  },
  {
   "cell_type": "code",
   "execution_count": 43,
   "metadata": {},
   "outputs": [
    {
     "name": "stdout",
     "output_type": "stream",
     "text": [
      "half-half         [32768.14, 33750.79, 33750.79, 32768.14, 32768.14, 32768.14, 32768.14, 32768.14, 32768.14, 33750.79]\n",
      "random            [32768.14, 32768.14, 33750.79, 32768.14, 26348.11, 32768.14, 33750.79, 32768.14, 32768.14, 32768.14]\n",
      "start-middle-end  [32768.14, 33750.79, 33750.79, 32768.14, 33750.79, 32768.14, 33750.79, 32768.14, 33750.79, 33750.79]\n",
      "every-other       [33750.79, 32768.14, 33750.79, 33750.79, 33750.79, 33750.79, 33750.79, 32768.14, 32768.14, 33750.79]\n"
     ]
    }
   ],
   "source": [
    "for i in range(len(new_crossing_aims)):\n",
    "    print(f'{cros[i]:16}  {new_crossing_aims[i]}')\n"
   ]
  },
  {
   "cell_type": "markdown",
   "metadata": {},
   "source": [
    "Powyższe wyniki przedstawiają wartość funkcji celu uzyskanej dla 10 uruchomień algorytmu dla każdej z wartości parametrów. Żaden ze sposobów krzyżowania nie doprowadził do drastycznej zmiany wyników - za każdym razem otrzymano wynik optymalny (33750.79) lub bliski optymalnemu (~32000). Warto jednak zauważyć, że podczas gdy dla dwóch pierwszych sposobów otrzymano jedynie trzy- oraz dwukrotnie optymalne rozwiązanie (a nawet dla sposobu *random* raz uzyskano rozwiązanie niezadowalające (~26000)), tak dwa pozostałe sposoby krzyżowania dały sześcio- oraz siedmiokrotnie najlepsze możliwe rozwiązanie."
   ]
  },
  {
   "cell_type": "code",
   "execution_count": 44,
   "metadata": {},
   "outputs": [
    {
     "name": "stdout",
     "output_type": "stream",
     "text": [
      "half-half         [211, 14, 8, 172, 9, 3, 35, 69, 104, 16]\n",
      "random            [193, 69, 29, 62, 0, 22, 7, 25, 94, 46]\n",
      "start-middle-end  [38, 26, 10, 134, 3, 169, 19, 37, 23, 66]\n",
      "every-other       [7, 38, 104, 7, 27, 7, 3, 33, 52, 4]\n"
     ]
    }
   ],
   "source": [
    "for i in range(len(crossing_iters)):\n",
    "    print(f'{cros[i]:16}  {crossing_iters[i]}')"
   ]
  },
  {
   "cell_type": "markdown",
   "metadata": {},
   "source": [
    "Sposób krzyżowania prawdopodobnie nie ma wpływu na numer iteracji, w której znaleziono rozwiązanie końcowe."
   ]
  },
  {
   "cell_type": "markdown",
   "metadata": {},
   "source": [
    "2. Liczba dzieci"
   ]
  },
  {
   "cell_type": "code",
   "execution_count": 46,
   "metadata": {},
   "outputs": [
    {
     "name": "stdout",
     "output_type": "stream",
     "text": [
      "liczba dzieci =  2  [32768.14, 32768.14, 32768.14, 33750.79, 32768.14, 32768.14, 32768.14, 32768.14, 33750.79, 32768.14]\n",
      "liczba dzieci =  5  [32768.14, 33750.79, 33750.79, 32768.14, 32768.14, 33750.79, 33750.79, 33750.79, 32768.14, 32768.14]\n",
      "liczba dzieci = 10  [32768.14, 33750.79, 32768.14, 33750.79, 32768.14, 32768.14, 32768.14, 33750.79, 32768.14, 32768.14]\n"
     ]
    }
   ],
   "source": [
    "for i in range(len(new_kids_aims)):\n",
    "    print(f'liczba dzieci = {kids[i]:2}  {new_kids_aims[i]}')"
   ]
  },
  {
   "cell_type": "markdown",
   "metadata": {},
   "source": [
    "Dla każdej z liczby dzieci uzyskaliśmy podobne wyniki."
   ]
  },
  {
   "cell_type": "code",
   "execution_count": 47,
   "metadata": {},
   "outputs": [
    {
     "name": "stdout",
     "output_type": "stream",
     "text": [
      "liczba dzieci =  2  [177, 16, 275, 43, 58, 26, 61, 226, 154, 31]\n",
      "liczba dzieci =  5  [8, 91, 54, 82, 16, 53, 0, 0, 52, 76]\n",
      "liczba dzieci = 10  [32, 10, 19, 53, 159, 104, 30, 6, 58, 34]\n"
     ]
    }
   ],
   "source": [
    "for i in range(len(kids_iters)):\n",
    "    print(f'liczba dzieci = {kids[i]:2}  {kids_iters[i]}')"
   ]
  },
  {
   "cell_type": "markdown",
   "metadata": {},
   "source": [
    "Wraz ze wzostem liczby dzieci, malał numer iteracji, w której uzyskano rozwiązanie optymalne."
   ]
  },
  {
   "cell_type": "markdown",
   "metadata": {},
   "source": [
    "3. Liczba rodziców"
   ]
  },
  {
   "cell_type": "code",
   "execution_count": 50,
   "metadata": {},
   "outputs": [
    {
     "name": "stdout",
     "output_type": "stream",
     "text": [
      "liczba rodziców =  4  [32768.14, 32768.14, 32768.14, 33750.79, 32768.14, 32768.14, 33750.79, 32768.14, 32768.14, 32768.14]\n",
      "liczba rodziców =  8  [33750.79, 32768.14, 33750.79, 32768.14, 32768.14, 33750.79, 33750.79, 32768.14, 32768.14, 33750.79]\n",
      "liczba rodziców = 12  [33750.79, 32768.14, 32768.14, 32768.14, 32768.14, 33750.79, 33750.79, 33750.79, 33750.79, 33750.79]\n"
     ]
    }
   ],
   "source": [
    "for i in range(len(new_parents_aims)):\n",
    "    print(f'liczba rodziców = {parents[i]:2}  {new_parents_aims[i]}')"
   ]
  },
  {
   "cell_type": "markdown",
   "metadata": {},
   "source": [
    "Wraz ze wzrostem liczby rodziców, algorytm częściej docierał do rozwiązania optymalnego (kolejno 2, 5 oraz 6 razy)."
   ]
  },
  {
   "cell_type": "code",
   "execution_count": 51,
   "metadata": {},
   "outputs": [
    {
     "name": "stdout",
     "output_type": "stream",
     "text": [
      "liczba rodziców =  4  [70, 49, 32, 2, 49, 21, 2, 81, 36, 66]\n",
      "liczba rodziców =  8  [2, 6, 41, 22, 10, 22, 24, 27, 151, 17]\n",
      "liczba rodziców = 12  [70, 58, 13, 18, 52, 20, 15, 110, 10, 3]\n"
     ]
    }
   ],
   "source": [
    "for i in range(len(parents_iters)):\n",
    "    print(f'liczba rodziców = {parents[i]:2}  {parents_iters[i]}')"
   ]
  },
  {
   "cell_type": "markdown",
   "metadata": {},
   "source": [
    "Liczba rodziców zdaje się nie mieć dużego wpływu na numer iteracji, w której znaleziono rozwiązanie końcowe."
   ]
  },
  {
   "cell_type": "markdown",
   "metadata": {},
   "source": [
    "4. Liczba mutacji"
   ]
  },
  {
   "cell_type": "code",
   "execution_count": 52,
   "metadata": {},
   "outputs": [
    {
     "name": "stdout",
     "output_type": "stream",
     "text": [
      "liczba mutacji =  2  [33750.79, 33750.79, 32768.14, 32768.14, 32768.14, 33750.79, 33750.79, 33750.79, 33750.79, 32768.14]\n",
      "liczba mutacji =  6  [33750.79, 33750.79, 33750.79, 32768.14, 33750.79, 32768.14, 33750.79, 32768.14, 32768.14, 32768.14]\n",
      "liczba mutacji = 12  [33750.79, 32768.14, 33750.79, 33750.79, 33750.79, 33750.79, 32768.14, 33750.79, 33750.79, 32768.14]\n"
     ]
    }
   ],
   "source": [
    "for i in range(len(new_muts_aims)):\n",
    "    print(f'liczba mutacji = {muts[i]:2}  {new_muts_aims[i]}')"
   ]
  },
  {
   "cell_type": "markdown",
   "metadata": {},
   "source": [
    "Dla każdej liczby mutacji algorytm podobnie często znajdował rozwiązanie optymalne (opdowiednio 6, 5 oraz 7 razy)"
   ]
  },
  {
   "cell_type": "code",
   "execution_count": 53,
   "metadata": {},
   "outputs": [
    {
     "name": "stdout",
     "output_type": "stream",
     "text": [
      "liczba mutacji =  2  [22, 13, 83, 73, 7, 13, 39, 57, 21, 109]\n",
      "liczba mutacji =  6  [10, 4, 2, 5, 2, 7, 9, 7, 7, 7]\n",
      "liczba mutacji = 12  [11, 40, 5, 2, 11, 11, 8, 4, 3, 15]\n"
     ]
    }
   ],
   "source": [
    "for i in range(len(muts_iters)):\n",
    "    print(f'liczba mutacji = {muts[i]:2}  {muts_iters[i]}')"
   ]
  },
  {
   "cell_type": "markdown",
   "metadata": {},
   "source": [
    "Wraz ze wzrostem liczby mutacji, numer iteracji, w której znaleziono ostateczne rozwiązanie wydaje się nieznacznie maleć."
   ]
  },
  {
   "cell_type": "markdown",
   "metadata": {},
   "source": [
    "5. Liczba iteracji"
   ]
  },
  {
   "cell_type": "code",
   "execution_count": 63,
   "metadata": {},
   "outputs": [
    {
     "name": "stdout",
     "output_type": "stream",
     "text": [
      "liczba iteracji =    5  [26348.11, 28914.76, 29304.93, 33750.79, 29286.7, 28175.42, 26909.65, 30813.25, 28175.42, 31984.79]\n",
      "liczba iteracji =   10  [28235.37, 32768.14, 27382.64, 33750.79, 28242.91, 28242.91, 33750.79, 26336.47, 31912.03, 33750.79]\n",
      "liczba iteracji =   20  [30048.54, 28851.42, 31984.79, 33750.79, 32768.14, 33750.79, 33750.79, 28851.42, 28242.91, 32768.14]\n",
      "liczba iteracji =   50  [32768.14, 30813.25, 32768.14, 33750.79, 30813.25, 28851.42, 33750.79, 33750.79, 32768.14, 32768.14]\n",
      "liczba iteracji =   80  [31984.79, 32768.14, 28242.91, 30047.05, 33750.79, 30813.25, 32768.14, 31912.03, 32768.14, 32768.14]\n",
      "liczba iteracji =  100  [32768.14, 32768.14, 30813.25, 33750.79, 33750.79, 31984.79, 32768.14, 33750.79, 30813.25, 31984.79]\n",
      "liczba iteracji =  150  [33750.79, 33750.79, 32768.14, 33750.79, 32768.14, 33750.79, 33750.79, 33750.79, 32768.14, 30813.25]\n",
      "liczba iteracji =  200  [32768.14, 33750.79, 32768.14, 28914.76, 33750.79, 32768.14, 33750.79, 30813.25, 33750.79, 33750.79]\n",
      "liczba iteracji =  300  [32768.14, 33750.79, 33750.79, 32768.14, 33750.79, 33750.79, 32768.14, 32768.14, 33750.79, 32768.14]\n",
      "liczba iteracji =  500  [33750.79, 32768.14, 33750.79, 32768.14, 32768.14, 33750.79, 32768.14, 32768.14, 32768.14, 32768.14]\n",
      "liczba iteracji = 1000  [32768.14, 33750.79, 33750.79, 33750.79, 32768.14, 32768.14, 33750.79, 32768.14, 33750.79, 33750.79]\n"
     ]
    }
   ],
   "source": [
    "for i in range(len(new_i_aims)):\n",
    "    print(f'liczba iteracji = {iters[i]:4}  {new_i_aims[i]}')"
   ]
  },
  {
   "cell_type": "markdown",
   "metadata": {},
   "source": [
    "Algorytm za każdym razem znajduje rozwiązanie optymalne (33750.79) lub jemu bliskie (32768.14) już od 150 iteracji. Warto również zauważyć, że już dla ograniczenia do 10 iteracji raz udało się znaleźć rozwiązanie optymalne, a wyniki dla ograniczenia 5 iteracji również są całkiem dobre."
   ]
  },
  {
   "cell_type": "code",
   "execution_count": 64,
   "metadata": {},
   "outputs": [
    {
     "name": "stdout",
     "output_type": "stream",
     "text": [
      "liczba mutacji =    5  [0, 0, 0, 0, 0, 4, 2, 4, 0, 2]\n",
      "liczba mutacji =   10  [5, 6, 9, 2, 1, 3, 7, 6, 4, 2]\n",
      "liczba mutacji =   20  [6, 2, 15, 8, 9, 4, 17, 5, 0, 9]\n",
      "liczba mutacji =   50  [43, 18, 1, 10, 40, 10, 49, 24, 22, 41]\n",
      "liczba mutacji =   80  [10, 54, 8, 78, 59, 10, 55, 77, 10, 48]\n",
      "liczba mutacji =  100  [75, 38, 16, 27, 2, 9, 7, 16, 46, 24]\n",
      "liczba mutacji =  150  [122, 6, 0, 17, 32, 33, 50, 7, 17, 6]\n",
      "liczba mutacji =  200  [78, 41, 24, 2, 60, 5, 78, 22, 141, 28]\n",
      "liczba mutacji =  300  [144, 14, 17, 157, 19, 23, 28, 121, 253, 14]\n",
      "liczba mutacji =  500  [13, 97, 64, 123, 39, 6, 12, 140, 209, 67]\n",
      "liczba mutacji = 1000  [123, 12, 12, 6, 96, 108, 68, 8, 178, 253]\n"
     ]
    }
   ],
   "source": [
    "for i in range(len(i_iters)):\n",
    "    print(f'liczba mutacji = {iters[i]:4}  {i_iters[i]}')"
   ]
  },
  {
   "cell_type": "markdown",
   "metadata": {},
   "source": [
    "Analizując numer iteracji, w której znaleziono rozwiązanie końcowe, widać, że jedynie w niewielu przypadkach ta liczba przekracza 150 (gdy ma taką możliwość), natomiast maksymalnym wynikiem jest granica około 260 iteracji."
   ]
  },
  {
   "cell_type": "markdown",
   "metadata": {},
   "source": [
    "  "
   ]
  },
  {
   "cell_type": "markdown",
   "metadata": {},
   "source": [
    "  \n",
    "  "
   ]
  },
  {
   "cell_type": "markdown",
   "metadata": {},
   "source": [
    "### Testowanie działania **algorytmu tabu search**  "
   ]
  },
  {
   "cell_type": "code",
   "execution_count": 66,
   "metadata": {},
   "outputs": [],
   "source": [
    "i_t = [5, 10, 20, 50, 100, 150, 300, 500, 1000, 2000, 3000, 4000, 5000]\n",
    "tabu_aims = []\n",
    "tabu_iters = []\n",
    "for it in i_t:\n",
    "    tabu_aim = []\n",
    "    tabu_iter = []\n",
    "    for _ in range(5):\n",
    "        aim, iter = tabu(order_list, car1, it)\n",
    "        tabu_aim.append(aim)\n",
    "        tabu_iter.append(iter)\n",
    "    tabu_aims.append(tabu_aim)\n",
    "    tabu_iters.append(tabu_iter)"
   ]
  },
  {
   "cell_type": "code",
   "execution_count": 67,
   "metadata": {},
   "outputs": [],
   "source": [
    "new_tabu_aims = [[round(a, 2) for a in b] for b in tabu_aims]"
   ]
  },
  {
   "cell_type": "code",
   "execution_count": 69,
   "metadata": {},
   "outputs": [
    {
     "name": "stdout",
     "output_type": "stream",
     "text": [
      "liczba iteracji =    5  [24161.53, 26720.22, 23319.21, 23347.01, 15313.44]\n",
      "liczba iteracji =   10  [19481.83, 19985.73, 18426.19, 25761.65, 12333.55]\n",
      "liczba iteracji =   20  [15035.72, 18967.21, 26019.33, 24484.66, 18717.12]\n",
      "liczba iteracji =   50  [26399.81, 31912.03, 27492.2, 27382.64, 19117.77]\n",
      "liczba iteracji =  100  [31956.25, 27263.73, 31956.25, 29286.7, 28544.58]\n",
      "liczba iteracji =  150  [28152.15, 33750.79, 26263.71, 29834.07, 27486.85]\n",
      "liczba iteracji =  300  [32768.14, 30978.17, 30048.54, 33750.79, 32768.14]\n",
      "liczba iteracji =  500  [31956.25, 33750.79, 26336.47, 30201.27, 33750.79]\n",
      "liczba iteracji = 1000  [33750.79, 31956.25, 33750.79, 31912.03, 31912.03]\n",
      "liczba iteracji = 2000  [33750.79, 31912.03, 31956.25, 33750.79, 33750.79]\n",
      "liczba iteracji = 3000  [33750.79, 33750.79, 33750.79, 33750.79, 33750.79]\n",
      "liczba iteracji = 4000  [33750.79, 33750.79, 33750.79, 33750.79, 33750.79]\n"
     ]
    }
   ],
   "source": [
    "for i in range(len(new_tabu_aims)):\n",
    "    print(f'liczba iteracji = {i_t[i]:4}  {new_tabu_aims[i]}')"
   ]
  },
  {
   "cell_type": "markdown",
   "metadata": {},
   "source": [
    "Na powyższych wynikach wyraźnie widać, że wraz ze wzrostem limitu iteracji, wynik ulega poprawie. Algorytm od 3000 iteracji za każdym razem dociera do rozwiązania optymalnego, natomiast po raz pierwszy znalazł je już dla 150 iteracji."
   ]
  },
  {
   "cell_type": "code",
   "execution_count": 82,
   "metadata": {},
   "outputs": [],
   "source": [
    "lengths = [2, 3, 5, 10, 20, 30, 50, 100, 200, 300, 400, 500]\n",
    "length_aims = []\n",
    "length_iters = []\n",
    "for length in lengths:\n",
    "    length_aim = []\n",
    "    length_iter = []\n",
    "    for _ in range(5):\n",
    "        aim, iter = tabu(order_list, car1, i_max=3000, tabu_length=length)\n",
    "        length_aim.append(aim)\n",
    "        length_iter.append(iter)\n",
    "    length_aims.append(length_aim)\n",
    "    length_iters.append(length_iter)"
   ]
  },
  {
   "cell_type": "code",
   "execution_count": 84,
   "metadata": {},
   "outputs": [
    {
     "name": "stdout",
     "output_type": "stream",
     "text": [
      "rozmiar tabu =    2  [32768.14, 33750.79, 33750.79, 33750.79, 33750.79]\n",
      "rozmiar tabu =    3  [33750.79, 33750.79, 33750.79, 32986.08, 33750.79]\n",
      "rozmiar tabu =    5  [33750.79, 33750.79, 33750.79, 31984.79, 33750.79]\n",
      "rozmiar tabu =   10  [33750.79, 33750.79, 33750.79, 33750.79, 33750.79]\n",
      "rozmiar tabu =   20  [33750.79, 33750.79, 33750.79, 33750.79, 33750.79]\n",
      "rozmiar tabu =   30  [33750.79, 33750.79, 33750.79, 33750.79, 33750.79]\n",
      "rozmiar tabu =   50  [33750.79, 33750.79, 33750.79, 33750.79, 33750.79]\n",
      "rozmiar tabu =  100  [33750.79, 33750.79, 33750.79, 33750.79, 33750.79]\n",
      "rozmiar tabu =  200  [33750.79, 33750.79, 33750.79, 33750.79, 33750.79]\n",
      "rozmiar tabu =  300  [33750.79, 33750.79, 33750.79, 33750.79, 32768.14]\n",
      "rozmiar tabu =  400  [33750.79, 33750.79, 33750.79, 33750.79, 33750.79]\n",
      "rozmiar tabu =  500  [33750.79, 33750.79, 33750.79, 33750.79, 33750.79]\n"
     ]
    }
   ],
   "source": [
    "new_length_aims = [[round(a, 2) for a in b] for b in length_aims]\n",
    "for i in range(len(new_length_aims)):\n",
    "    print(f'rozmiar tabu = {lengths[i]:4}  {new_length_aims[i]}')"
   ]
  },
  {
   "cell_type": "markdown",
   "metadata": {},
   "source": [
    "Jedyny 'gorszy' wynik trafił się dla długości listy tabu równej 2, natomiast dalsze modyfikacje rozmiaru listy nie miały wpływu na wynik końcowy przy liczbie iteracji równej 3000."
   ]
  },
  {
   "cell_type": "code",
   "execution_count": 85,
   "metadata": {},
   "outputs": [
    {
     "name": "stdout",
     "output_type": "stream",
     "text": [
      "liczba iteracji =    2  [2727, 253, 2599, 996, 0]\n",
      "liczba iteracji =    3  [929, 558, 160, 648, 167]\n",
      "liczba iteracji =    5  [48, 129, 1097, 702, 638]\n",
      "liczba iteracji =   10  [1321, 1234, 1192, 852, 380]\n",
      "liczba iteracji =   20  [1483, 2087, 1765, 2347, 1524]\n",
      "liczba iteracji =   30  [2140, 1092, 1406, 152, 2165]\n",
      "liczba iteracji =   50  [304, 41, 307, 1835, 523]\n",
      "liczba iteracji =  100  [1869, 157, 1018, 1079, 9]\n",
      "liczba iteracji =  200  [140, 1234, 70, 2664, 1149]\n",
      "liczba iteracji =  300  [97, 226, 510, 2947, 2388]\n",
      "liczba iteracji =  400  [1445, 381, 216, 117, 887]\n",
      "liczba iteracji =  500  [270, 2004, 325, 2451, 605]\n"
     ]
    }
   ],
   "source": [
    "for i in range(len(new_tabu_aims)):\n",
    "    print(f'liczba iteracji = {lengths[i]:4}  {length_iters[i]}')"
   ]
  },
  {
   "cell_type": "markdown",
   "metadata": {},
   "source": [
    "Rozmiar listy tabu wydaje się nie mieć wpływu na iterację, w której znaleziono ostateczny wynik."
   ]
  },
  {
   "cell_type": "markdown",
   "metadata": {},
   "source": [
    "## Prezentacja wyników wszystkich trzech algorytmów"
   ]
  },
  {
   "cell_type": "code",
   "execution_count": 87,
   "metadata": {},
   "outputs": [
    {
     "name": "stdout",
     "output_type": "stream",
     "text": [
      "\n",
      "Najlepsza możliwa wartość funkcji celu:        33750.7919390138\n",
      "[Vol = 8, Dist = 500, Dir = e;, Vol = 1, Dist = 100, Dir = w;, Vol = 2, Dist = 200, Dir = n;, Vol = 2, Dist = 200, Dir = e;, Vol = 2, Dist = 600, Dir = w;, Vol = 1, Dist = 900, Dir = s;, Vol = 2, Dist = 280, Dir = n;, Vol = 1, Dist = 800, Dir = w;]\n",
      "\n",
      "Algorytm tabu       ===> wartość funkcji celu: 33750.7919390138\n",
      "[Vol = 8, Dist = 500, Dir = e;, Vol = 1, Dist = 100, Dir = w;, Vol = 2, Dist = 200, Dir = e;, Vol = 2, Dist = 200, Dir = e;, Vol = 2, Dist = 600, Dir = w;, Vol = 1, Dist = 900, Dir = s;, Vol = 2, Dist = 280, Dir = n;, Vol = 1, Dist = 800, Dir = w;]\n",
      "\n",
      "Algorytm genetyczny ===> wartość funkcji celu: 33750.7919390138\n",
      "[Vol = 8, Dist = 500, Dir = e;, Vol = 1, Dist = 100, Dir = w;, Vol = 2, Dist = 200, Dir = n;, Vol = 2, Dist = 200, Dir = e;, Vol = 2, Dist = 600, Dir = w;, Vol = 1, Dist = 900, Dir = s;, Vol = 2, Dist = 280, Dir = n;, Vol = 1, Dist = 800, Dir = w;]\n"
     ]
    }
   ],
   "source": [
    "    result_brute, aim_brute = max_aim(orders, car1, full_return=True)\n",
    "    print(\"\\nNajlepsza możliwa wartość funkcji celu:       \", aim_brute)\n",
    "    print(result_brute)\n",
    "    result_tabu, aim_tabu, iter_tabu = tabu(order_list, car1, 10000, full_return=True)\n",
    "    result_genetic, aim_genetic, iter_genetic = genetic(order_list, car1, 300, full_return=True)\n",
    "    print(\"\\nAlgorytm tabu       ===> wartość funkcji celu:\", aim_tabu)\n",
    "    print(result_tabu)\n",
    "    print(\"\\nAlgorytm genetyczny ===> wartość funkcji celu:\", aim_genetic)\n",
    "    print(result_genetic)"
   ]
  }
 ],
 "metadata": {
  "interpreter": {
   "hash": "c468bac67d804d57f893e0f9ada055e3f07962baf7e8a6539193483b2e095161"
  },
  "kernelspec": {
   "display_name": "Python 3.8.3 64-bit ('base': conda)",
   "name": "python3"
  },
  "language_info": {
   "codemirror_mode": {
    "name": "ipython",
    "version": 3
   },
   "file_extension": ".py",
   "mimetype": "text/x-python",
   "name": "python",
   "nbconvert_exporter": "python",
   "pygments_lexer": "ipython3",
   "version": "3.8.3"
  }
 },
 "nbformat": 4,
 "nbformat_minor": 2
}
