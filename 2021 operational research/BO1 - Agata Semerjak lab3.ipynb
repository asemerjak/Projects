{
 "metadata": {
  "language_info": {
   "codemirror_mode": {
    "name": "ipython",
    "version": 3
   },
   "file_extension": ".py",
   "mimetype": "text/x-python",
   "name": "python",
   "nbconvert_exporter": "python",
   "pygments_lexer": "ipython3",
   "version": "3.8.3-final"
  },
  "orig_nbformat": 2,
  "kernelspec": {
   "name": "python3",
   "display_name": "Python 3.8.3 64-bit",
   "metadata": {
    "interpreter": {
     "hash": "c468bac67d804d57f893e0f9ada055e3f07962baf7e8a6539193483b2e095161"
    }
   }
  }
 },
 "nbformat": 4,
 "nbformat_minor": 2,
 "cells": [
  {
   "source": [
    "## **Agata Semerjak, 402426**  \n",
    "gr 1a, środa 14:45  \n",
    "**lab 3** 17.03.2021"
   ],
   "cell_type": "markdown",
   "metadata": {}
  },
  {
   "source": [
    "**Zadanie 1.**"
   ],
   "cell_type": "markdown",
   "metadata": {}
  },
  {
   "cell_type": "code",
   "execution_count": 31,
   "metadata": {},
   "outputs": [],
   "source": [
    "def print_matrix(M):\n",
    "    print(\"%3s\" % ' ', end='')\n",
    "    print(\"%3s\" % ' | ', end='')\n",
    "    for i in range(len(M)):\n",
    "        print(\"%7s\" % str(i), end='')\n",
    "    print(\"\\n\")\n",
    "    print(\"-\"*(7*len(M) + 6))\n",
    "    for r in range(len(M)):\n",
    "        print(\"%3s\" % str(r), end='')\n",
    "        print(\"%3s\" % ' | ', end='')\n",
    "        for c in range(len(M)):\n",
    "            print(\"%7s\" % str(M[r][c]), end='')\n",
    "        print(\"\\n\")"
   ]
  },
  {
   "cell_type": "code",
   "execution_count": 32,
   "metadata": {
    "tags": []
   },
   "outputs": [],
   "source": [
    "import numpy as np\n",
    "\n",
    "def DPA(G, s = 0):\n",
    "    #G to macierz wag\n",
    "    suma = 0 #suma wag krawędzi dodanych do MST\n",
    "    A = [] #zbiór kawędzi MST (tablica krotek (wierzchołek początkowy, wierzchołek końcowy))\n",
    "    alfa = {} #funkcja przyporządkowująca wierzchołkowi jego poprzednika w MST\n",
    "    beta = {} #funkcja przyporządkowująca wierzchołkowi wage krawędzi łączącej go z MST\n",
    "    N = {} #funkcja przyporządkowująca wierzchołkowi jego listę sąsiedztwa\n",
    "    for i in range(len(G)):\n",
    "        N[i] = []\n",
    "        for j in range(len(G)):\n",
    "            if i != j and G[i][j]:\n",
    "                N[i].append(j) #tworzenie list sąsiedztwa\n",
    "                \n",
    "    for u in range(len(G)): #początkowe ustawienie funkcji alfa i beta dla wszystkich wierzchołków\n",
    "        alfa[u] = 0\n",
    "        beta[u] = np.inf\n",
    " \n",
    "    Q = [i for i in range(len(G))] #stworzenie zbioru wierzchołków nienależących jeszcze do MST\n",
    "    beta[s] = 0 #\"obsłużenie\" pierwszego wierzchołka czyli rozpoczęcie tworzenia MST od niego\n",
    "    Q.remove(s) #usunięcie pierwszego wierzchołka ze zbioru\n",
    "    u_ = s #u_ to ostatnio wybrany wierzchołek\n",
    "\n",
    "    while Q != []: \n",
    "        for u in Q:\n",
    "            if u in N[u_]:\n",
    "                if G[u][u_] < beta[u]:\n",
    "                    alfa[u] = u_ #ustawienie prawidłowych wartości alfa i beta dla każdego wierzchołka, który jest sąsiedem u_ (czyli poprzednio wybranego)\n",
    "                    beta[u] = G[u][u_]    \n",
    "        \n",
    "        min_val = np.inf\n",
    "        for key, value in beta.items(): #znalezienie u, dla którego beta[u] jest najmniejsza\n",
    "            if value < min_val and key in Q:\n",
    "                min_val = value\n",
    "                umin = key\n",
    "        u_ = umin\n",
    "        Q.remove(u_)\n",
    "        A.append((alfa[u_], u_)) #utworzenie krawędzi z wybranego u i jego poprzednika w MST\n",
    "        suma += beta[u_] #dodanie wagi nowej krawędzi w MST do całkowitej sumy\n",
    "    return (A, suma)"
   ]
  },
  {
   "source": [
    "**Zadanie 2.**\n",
    "  \n",
    "Najistotniejszą własnością jest spójność grafu, która pozwala w ogóle zastosować ten algorytm (dla grafu niespójnego suma wag wynosiłaby nieskończoność). Istotna może być również powtarzalność wag - wtedy na zbiór krawędzi MST będzie miał wpływ wybór początkowego wierzchołka, jednak suma wag powinna pozostać taka sama."
   ],
   "cell_type": "markdown",
   "metadata": {}
  },
  {
   "cell_type": "code",
   "execution_count": 36,
   "metadata": {
    "tags": [
     "outputPrepend"
    ]
   },
   "outputs": [
    {
     "output_type": "stream",
     "name": "stdout",
     "text": [
      "    5   None      9   None      8      6   None      7\n\n  2 |    None      9   None      9      4   None      5      3\n\n  3 |       9   None      9   None   None   None      8   None\n\n  4 |    None      8      4   None   None      2      1   None\n\n  5 |    None      6   None   None      2   None      6   None\n\n  6 |       3   None      5      8      1      6   None      9\n\n  7 |    None      7      3   None   None   None      9   None\n\n\nKrawędzie MST dla G1: [(0, 6), (6, 4), (4, 5), (4, 2), (2, 7), (0, 1), (6, 3)]\nSuma wag MST dla G1: 26\n\n\n\nG2 = \n    |       0      1      2      3      4      5\n\n------------------------------------------------\n  0 |    None      4      5   None   None   None\n\n  1 |       4   None      3      4   None   None\n\n  2 |       5      3   None      2      6      1\n\n  3 |    None      4      2   None      4      2\n\n  4 |    None   None      6      4   None      5\n\n  5 |    None   None      1      2      5   None\n\n\nKrawędzie MST dla G2: [(0, 1), (1, 2), (2, 5), (2, 3), (3, 4)]\nSuma wag MST dla G2: 14\n\n\n\nG3 = \n    |       0      1      2      3      4      5      6      7\n\n--------------------------------------------------------------\n  0 |    None      5   None      5   None   None      5   None\n\n  1 |       5   None      9   None      8      8   None      8\n\n  2 |    None      9   None      9      9   None      5      9\n\n  3 |       5   None      9   None   None   None      5   None\n\n  4 |    None      8      9   None   None      5      9   None\n\n  5 |    None      8   None   None      5   None      5   None\n\n  6 |       5   None      5      5      9      5   None      9\n\n  7 |    None      9      9   None   None   None      9   None\n\n\nKrawędzie MST dla G3: [(0, 1), (0, 3), (0, 6), (6, 2), (6, 5), (5, 4), (1, 7)]\nSuma wag MST dla G3: 39\n\nKrawędzie MST dla G3: [(5, 4), (5, 6), (6, 0), (0, 1), (6, 2), (6, 3), (6, 7)]\nSuma wag MST dla G3: 39\n\nKrawędzie MST dla G3: [(3, 0), (0, 1), (3, 6), (6, 2), (6, 5), (5, 4), (1, 7)]\nSuma wag MST dla G3: 39\n"
     ]
    }
   ],
   "source": [
    "\n",
    "G1 = [[None, 5, None, 9, None, None, 3, None],\n",
    "    [5, None, 9, None, 8, 6, None, 7],\n",
    "    [None, 9, None, 9, 4, None, 5, 3],\n",
    "    [9, None, 9, None, None, None, 8, None],\n",
    "    [None, 8, 4, None, None, 2, 1, None],\n",
    "    [None, 6, None, None, 2, None, 6, None],\n",
    "    [3, None, 5, 8, 1, 6, None, 9],\n",
    "    [None, 7, 3, None, None, None, 9, None]]\n",
    "print(\"G1 = \")\n",
    "print_matrix(G1)\n",
    "MST_G1, suma_g1 = DPA(G1)\n",
    "print(\"\\nKrawędzie MST dla G1:\", MST_G1)\n",
    "print(\"Suma wag MST dla G1:\", suma_g1)\n",
    "\n",
    "G2 = [[None, 4, 5, None, None, None],\n",
    "    [4, None, 3, 4, None, None],\n",
    "    [5, 3, None, 2, 6, 1],\n",
    "    [None, 4, 2, None, 4, 2],\n",
    "    [None, None, 6, 4, None, 5],\n",
    "    [None, None, 1, 2, 5, None]]\n",
    "print(\"\\n\\n\\nG2 = \")\n",
    "print_matrix(G2)\n",
    "MST_G2, suma_g2 = DPA(G2)\n",
    "print(\"\\nKrawędzie MST dla G2:\", MST_G2)\n",
    "print(\"Suma wag MST dla G2:\", suma_g2)\n",
    "\n",
    "G3 = [[None, 5, None, 5, None, None, 5, None],\n",
    "    [5, None, 9, None, 8, 8, None, 8],\n",
    "    [None, 9, None, 9, 9, None, 5, 9],\n",
    "    [5, None, 9, None, None, None, 5, None],\n",
    "    [None, 8, 9, None, None, 5, 9, None],\n",
    "    [None, 8, None, None, 5, None, 5, None],\n",
    "    [5, None, 5, 5, 9, 5, None, 9],\n",
    "    [None, 9, 9, None, None, None, 9, None]]\n",
    "print(\"\\n\\n\\nG3 = \")\n",
    "print_matrix(G3)\n",
    "MST_G3, suma_g3 = DPA(G3)\n",
    "MST_G3_2, suma_g3_2 = DPA(G3, s=5)\n",
    "MST_G3_3, suma_g3_3 = DPA(G3, s=3)\n",
    "print(\"\\nKrawędzie MST dla G3:\", MST_G3)\n",
    "print(\"Suma wag MST dla G3:\", suma_g3)\n",
    "print(\"\\nKrawędzie MST dla G3:\", MST_G3_2)\n",
    "print(\"Suma wag MST dla G3:\", suma_g3_2)\n",
    "print(\"\\nKrawędzie MST dla G3:\", MST_G3_3)\n",
    "print(\"Suma wag MST dla G3:\", suma_g3_3)"
   ]
  },
  {
   "source": [
    "Powyższe wyniki pokazują, że dla grafu, w którym wagi są powtarzalne (G3) istnieje kilka MST zawierających różne krawędzie w zależności od wierzchołka który wybierzemy jako startowy. Za każdym razem jednak suma wag MST jest stała i niezależna od wierzchołka startowego. Rezultaty są zgodne z oczekiwaniami\n"
   ],
   "cell_type": "markdown",
   "metadata": {}
  },
  {
   "source": [
    "**Zadanie 3**\n",
    "  \n",
    "Algorytm Kruskala korzysta z listy wszystkich krawędzi grafu, która jest posortowana rosnąco według wag. Wybieramy po kolei krawędzie, odrzucając te, które tworzą cykl z krawędziami juz obecnymi w naszym MST - gdy w MST mamy wszystkie wierzchołki, to rezultat jest gotowy.  \n",
    "Największą złożoność obliczeniową ma krok sprawdzjący, czy dana krawędź nie utworzy cyklu, który należy wykonać dla każdej krawędzi. Złożone może również być sortowanie listy (w zależności od konkretnego przypadku oraz sposobu sortowania)."
   ],
   "cell_type": "markdown",
   "metadata": {}
  },
  {
   "source": [
    "**Zadanie 4**\n",
    "  \n",
    "Praktyczną interpretacją może być np rozprowadzanie energii do miasta. Wtedy początkowym wierzchołkiem byłaby elektrownia, a poszczególne domostwa kolejnymi węzłami. Wagi krawędzi mogłyby reprezentować np długość przewodu lub jego jakość (im wyższy koszt, tym gorszej jakości przewód, a co za tym idzie, prowadzący do większych strat energii). Ograniczeniem mogłaby być długość przeowdu - wtedy należałoby dołożyć po drodze źródło 'dokładające' energię. Rozwiązanie tego problemu jest możliwe za pomocą algorytmu Djikstry Prima, nakładając odpowiednie ograniczenia na maksymalną odległość od wierzchołka początkowego, czyli elektrowni."
   ],
   "cell_type": "markdown",
   "metadata": {}
  }
 ]
}