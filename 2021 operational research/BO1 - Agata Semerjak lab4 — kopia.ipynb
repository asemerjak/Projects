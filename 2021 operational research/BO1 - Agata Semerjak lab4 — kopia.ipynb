{
 "metadata": {
  "language_info": {
   "codemirror_mode": {
    "name": "ipython",
    "version": 3
   },
   "file_extension": ".py",
   "mimetype": "text/x-python",
   "name": "python",
   "nbconvert_exporter": "python",
   "pygments_lexer": "ipython3",
   "version": "3.8.3-final"
  },
  "orig_nbformat": 2,
  "kernelspec": {
   "name": "python3",
   "display_name": "Python 3.8.3 64-bit ('agaxx': virtualenv)",
   "metadata": {
    "interpreter": {
     "hash": "c468bac67d804d57f893e0f9ada055e3f07962baf7e8a6539193483b2e095161"
    }
   }
  }
 },
 "nbformat": 4,
 "nbformat_minor": 2,
 "cells": [
  {
   "source": [
    "## **Agata Semerjak, 402426**  \n",
    "gr 1a, środa 14:45  \n",
    "**lab 6** 14.04.2021"
   ],
   "cell_type": "markdown",
   "metadata": {}
  },
  {
   "source": [
    "**Zadanie 1.**"
   ],
   "cell_type": "markdown",
   "metadata": {}
  },
  {
   "cell_type": "code",
   "execution_count": 1,
   "metadata": {},
   "outputs": [],
   "source": [
    "def print_matrix(M):\n",
    "    print(\"%3s\" % ' ', end='')\n",
    "    print(\"%3s\" % ' | ', end='')\n",
    "    for i in range(len(M)):\n",
    "        print(\"%7s\" % str(i), end='')\n",
    "    print(\"\\n\")\n",
    "    print(\"-\"*(7*len(M) + 6))\n",
    "    for r in range(len(M)):\n",
    "        print(\"%3s\" % str(r), end='')\n",
    "        print(\"%3s\" % ' | ', end='')\n",
    "        for c in range(len(M)):\n",
    "            print(\"%7s\" % str(M[r][c]), end='')\n",
    "        print(\"\\n\")"
   ]
  },
  {
   "cell_type": "code",
   "execution_count": 2,
   "metadata": {
    "tags": []
   },
   "outputs": [],
   "source": [
    "import numpy as np\n",
    "\n",
    "def G_TSP(G):\n",
    "    #G to macierz wag\n",
    "    E = [] #zbiór krawędzi grafu\n",
    "    def myFunc(e):\n",
    "        return e[2]\n",
    "\n",
    "    for i in range(len(G)):\n",
    "        #route[i] = []\n",
    "        for j in range(len(G)):\n",
    "            if G[i][j] is not None:\n",
    "                E.append([i, j, G[i][j]]) #uzupełnianie krawędzi\n",
    "    sort(E, key=myFunc)\n",
    "    Q = [i for i in range(len(G))]\n",
    "    route = []\n",
    "    for edge in E:\n",
    "        if edge[1]\n",
    "\n"
   ]
  }
 ]
}