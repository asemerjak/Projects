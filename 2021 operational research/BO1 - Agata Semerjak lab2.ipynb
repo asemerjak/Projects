{
 "metadata": {
  "language_info": {
   "codemirror_mode": {
    "name": "ipython",
    "version": 3
   },
   "file_extension": ".py",
   "mimetype": "text/x-python",
   "name": "python",
   "nbconvert_exporter": "python",
   "pygments_lexer": "ipython3",
   "version": "3.8.3-final"
  },
  "orig_nbformat": 2,
  "kernelspec": {
   "name": "python3",
   "display_name": "Python 3.8.3 64-bit",
   "metadata": {
    "interpreter": {
     "hash": "c468bac67d804d57f893e0f9ada055e3f07962baf7e8a6539193483b2e095161"
    }
   }
  }
 },
 "nbformat": 4,
 "nbformat_minor": 2,
 "cells": [
  {
   "source": [
    "## **Agata Semerjak, 402426**  \n",
    "gr 1a, środa 14:45  \n",
    "**lab 2** 10.03.2021"
   ],
   "cell_type": "markdown",
   "metadata": {}
  },
  {
   "source": [
    "**Zadanie 1.**\n",
    "  \n",
    "1. Macierz sąsiedztwa \n",
    "- zalety:\n",
    "  * sprawdzenie czy dana krawędź w grafie istnieje lub jaką ma wagę wymaga jedynie jednej instrukcji (G\\[i]\\[j]) i jest dosyć szybkie\n",
    "\n",
    "- wady:\n",
    "  * dla większej liczby wierzchołków zajmuje sporo miejsca, nawet gdy nie ma w grafie wielu połączeń (czyli wykorzystuje zbyt wiele miejsca dla małej ilości danych)\n",
    "  * znalezienie sąsiadujących wierzchołków danego wierzchołka wymaga sprawdzenia każdej komórki danego wiersza\n",
    "  \n",
    "  \n",
    "2. Lista sąsiedztwa\n",
    "- zalety:\n",
    "  * wszystkich sąsiadów danego wierzchołka uzyskujemy w stałym czasie i za pomocą jednej instrukcji\n",
    "  * zajmuje mało pamięci, szczególnie w przypadku grafu rzadkiego\n",
    "- wady:\n",
    "  * sprawdzenie istnienia krawędzi może być czasochłonne (wymaga przejścia przez wszystkich sąsiadów danego wierzchołka)"
   ],
   "cell_type": "markdown",
   "metadata": {}
  },
  {
   "source": [
    "**Zadanie 2**\n",
    "  \n",
    "Wybraną przeze mnie strukturą jest lista sąsiedztwa. Przedstawię ją w formie słownika, którego kluczami będą etykiety wierzchołków, a wartościami listy ich sąsiadów. Przykładowy graf rzędu 10:"
   ],
   "cell_type": "markdown",
   "metadata": {}
  },
  {
   "cell_type": "code",
   "execution_count": null,
   "metadata": {},
   "outputs": [],
   "source": [
    "G10 = {\n",
    "    1 : [2, 4]\n",
    "    2 : [1, 3]\n",
    "    3 : [2, 5, 6, 7, 8, 9]\n",
    "    4 : [1, 3, 5]\n",
    "    5 : [3, 4]\n",
    "    6 : [3, 10]\n",
    "    7 : [3]\n",
    "    8 : [3, 10]\n",
    "    9 : [3]\n",
    "    10 : [6]\n",
    "}"
   ]
  },
  {
   "source": [
    "**Zadanie 3.**\n",
    "  \n",
    "Algorytm przeszukiwania grafu w głąb (DFS) - wersja rekurencyjna. Funkcja jako parametry przyjmuje graf w postaci słownika, w którym kluczem jest wierzchołek, a wartością jego sąsiedzi (czyli lista sąsiedztwa) oraz numer wierzchołka, od którego należy rozpocząć przeszukiwanie, natomiast zwraca listę kolejno odwiedzonych wierzchołków.\n"
   ],
   "cell_type": "markdown",
   "metadata": {}
  },
  {
   "cell_type": "code",
   "execution_count": 2,
   "metadata": {},
   "outputs": [],
   "source": [
    "from typing import List, Dict, Tuple\n",
    "\n",
    "def dfs_recursive(G: Dict[int, List[int]], s: int = 1) -> Tuple[List[int], bool, bool]:\n",
    "    visited: List[int] = [] #lista zbierająca kolejno odwiedzone wierzchołki\n",
    "    connected = True #zmienna informująca o spójności grafu\n",
    "    global cyclic\n",
    "    cyclic = False #zmienna informująca o cykliczności grafu\n",
    "    max_key: int = max(G.keys())\n",
    "    max_val: int = 0\n",
    "    for neighbours in G.values():\n",
    "        if len(neighbours)>0:\n",
    "            if max(neighbours) > max_val:\n",
    "                max_val = max(neighbours)\n",
    "                \n",
    "    last_vertex: int = max([max_key, max_val]) #powyższe operacje miały na celu wyłonienie największego numeru wierzchołka (potrzebny do stwierdzenia spójności)\n",
    "\n",
    "    def dfs_recursive_inside(G: Dict[int, List[int]], s: int) -> List[int]:\n",
    "        visited.append(s) #dodanie do listy obecnego wierzchołka\n",
    "        if s in G.keys(): #warunek zabezieczający przed przypadkiem gdy w słowniku nie ma danego klucza\n",
    "            for u in G[s]: #przejście do pierwszego sąsiada obecnego wierzchołka\n",
    "                if u not in visited:\n",
    "                    dfs_recursive_inside(G, u) #i powtórzenie procedury dla następnego wierzchołka\n",
    "                else:\n",
    "                    global cyclic\n",
    "                    cyclic = True #wykrycie cyklu gdy wrócimy z powrotem do odwiedzonego wcześniej wierzchołka\n",
    "\n",
    "        return visited, cyclic\n",
    "\n",
    "    visited, cyclic = dfs_recursive_inside(G, s)\n",
    "    if len(visited) < last_vertex:\n",
    "        connected = False\n",
    "\n",
    "    return visited, connected, cyclic"
   ]
  },
  {
   "source": [
    "**Zadanie 4**"
   ],
   "cell_type": "markdown",
   "metadata": {}
  },
  {
   "cell_type": "code",
   "execution_count": 4,
   "metadata": {},
   "outputs": [
    {
     "output_type": "stream",
     "name": "stdout",
     "text": [
      "Wierzchołek odwiedzony jako 1 : 1\nWierzchołek odwiedzony jako 2 : 2\nWierzchołek odwiedzony jako 3 : 3\nWierzchołek odwiedzony jako 4 : 4\nCzy graf jest spójny? False\nCzy graf posiada cykl? False \n\nWierzchołek odwiedzony jako 1 : 1\nWierzchołek odwiedzony jako 2 : 2\nWierzchołek odwiedzony jako 3 : 3\nCzy graf jest spójny? True\nCzy graf posiada cykl? True \n\nWierzchołek odwiedzony jako 1 : 1\nWierzchołek odwiedzony jako 2 : 2\nWierzchołek odwiedzony jako 3 : 3\nWierzchołek odwiedzony jako 4 : 4\nWierzchołek odwiedzony jako 5 : 5\nWierzchołek odwiedzony jako 6 : 6\nCzy graf jest spójny? True\nCzy graf posiada cykl? False \n\nWierzchołek odwiedzony jako 1 : 1\nWierzchołek odwiedzony jako 2 : 2\nWierzchołek odwiedzony jako 3 : 3\nCzy graf jest spójny? False\nCzy graf posiada cykl? True \n\n"
     ]
    }
   ],
   "source": [
    "def dfs_display(G, s = 1):\n",
    "    visited, connected, cyclic = dfs_recursive(G, s)\n",
    "    for i in range(len(visited)):\n",
    "        print(\"Wierzchołek odwiedzony jako\", i+1, \":\", visited[i])\n",
    "    print(\"Czy graf jest spójny?\", connected)\n",
    "    print(\"Czy graf posiada cykl?\", cyclic, '\\n')\n",
    "\n",
    "G1 = {1: [2, 3], 3: [4], 5: []} #niespójny, acykliczny\n",
    "dfs_display(G1)\n",
    "\n",
    "G2 = {1: [2], 2: [3], 3: [1]} #spójny, cykliczny\n",
    "dfs_display(G2)\n",
    "\n",
    "G3 = {1: [2, 3], 3: [4, 5], 5: [6]} #spójny, acykliczny\n",
    "dfs_display(G3)\n",
    "\n",
    "G4 = {1: [2], 2: [1, 3], 3: [1], 4: []} #niespójny, cykliczny (jako skierowany)\n",
    "dfs_display(G4)"
   ]
  },
  {
   "cell_type": "code",
   "execution_count": 17,
   "metadata": {},
   "outputs": [
    {
     "output_type": "stream",
     "name": "stdout",
     "text": [
      "([1, 2, 3], False, False)\n"
     ]
    }
   ],
   "source": [
    "from typing import List, Dict, Tuple\n",
    "\n",
    "def dfs_recursive_not_directed(G: Dict[int, List[int]], s: int = 1) -> Tuple[List[int], bool, bool]:\n",
    "    visited: List[int] = [] #lista zbierająca kolejno odwiedzone wierzchołki indeksy listy (+1) to numery przyporządkowywane wierzchołkom\n",
    "    connected = True #zmienna informująca o spójności grafu\n",
    "    global cyclic\n",
    "    cyclic = False #zmienna informująca o cykliczności grafu\n",
    "    max_key: int = max(G.keys())\n",
    "    max_val: int = 0\n",
    "    for neighbours in G.values():\n",
    "        if len(neighbours)>0:\n",
    "            if max(neighbours) > max_val:\n",
    "                max_val = max(neighbours)\n",
    "                \n",
    "    last_vertex: int = max([max_key, max_val]) #powyższe operacje miały na celu wyłonienie największego numeru wierzchołka (potrzebny do stwierdzenia spójności)\n",
    "\n",
    "    def dfs_recursive_inside(G: Dict[int, List[int]], s: int) -> List[int]:\n",
    "        visited.append(s) #dodanie do listy obecnego wierzchołka\n",
    "        if s in G.keys(): #warunek zabezieczający przed przypadkiem gdy w słowniku nie ma danego klucza\n",
    "            for u in G[s]: #przejście do pierwszego sąsiada obecnego wierzchołka\n",
    "                if u not in visited:\n",
    "                    dfs_recursive_inside(G, u) #i powtórzenie procedury dla następnego wierzchołka\n",
    "                else:\n",
    "                    if u not in G[s]: #zabezpieczenie przed wykryciem cyklu w nieskierowanej gałęzi\n",
    "                        global cyclic\n",
    "                        cyclic = True #wykrycie cyklu gdy wrócimy z powrotem do odwiedzonego wcześniej wierzchołka\n",
    "\n",
    "        return visited, cyclic\n",
    "\n",
    "    visited, cyclic = dfs_recursive_inside(G, s)\n",
    "    if len(visited) < last_vertex:\n",
    "        connected = False\n",
    "\n",
    "    return visited, connected, cyclic\n",
    "\n",
    "G4 = {1: [2], 2: [1, 3], 3: [1], 4: []} #niespójny, acykliczny (jako nieskierowany)\n",
    "print(dfs_recursive_not_directed(G4))"
   ]
  },
  {
   "source": [
    "**Zadanie 5**\n",
    "  \n",
    "- Wierzchołek rozpajający grafu można znaleźć poprzez znalezienie wierzchołka, do którego sąsiada nie da się (z dowolnie wybranego punktu) dotrzeć inaczej niż przez ten wierzchołek - czyli gdyby w powyższym algorytmie dopuszczone było powtarzanie wierzchołków, to ten sąsiad nie byłby powtórzony.\n",
    "  \n",
    "- Centrum grafu - odcinamy wszystkie liście, aż nie zostanie nam jeden lub dwa wierzchołki (czyli usuwamy wszystkie wierzchołki i incydentne z nimi gałęzie, które mają tylko jednego sąsiada - nie mają syna)\n",
    "  \n",
    "- Możemy jeszcze zbadać np acentryczność wierzchołka grafu, sprawdzjąc, jak 'głęboko' możemy zajść w DFS. Można znaleźć także rozmiar grafu - liczbę jego krawędzi. Możemy także znaleźć wierzchołek izolowany - jest to wierzchołek, którego zabrakło w liście odwiedzonych wierzchołków podczas DFS. Można też łatwo sprawdzić czy graf jest pełny bądź jest turniejem, analizując największy numer wierzchołka oraz liczbę kluczy i liczebność listy sąsiadów dla każdego klucza."
   ],
   "cell_type": "markdown",
   "metadata": {}
  },
  {
   "cell_type": "code",
   "execution_count": null,
   "metadata": {},
   "outputs": [],
   "source": []
  }
 ]
}