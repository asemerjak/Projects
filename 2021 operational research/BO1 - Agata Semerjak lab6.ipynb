{
 "metadata": {
  "language_info": {
   "codemirror_mode": {
    "name": "ipython",
    "version": 3
   },
   "file_extension": ".py",
   "mimetype": "text/x-python",
   "name": "python",
   "nbconvert_exporter": "python",
   "pygments_lexer": "ipython3",
   "version": "3.8.3-final"
  },
  "orig_nbformat": 2,
  "kernelspec": {
   "name": "python383jvsc74a57bd0c468bac67d804d57f893e0f9ada055e3f07962baf7e8a6539193483b2e095161",
   "display_name": "Python 3.8.3 64-bit"
  }
 },
 "nbformat": 4,
 "nbformat_minor": 2,
 "cells": [
  {
   "source": [
    "## **Agata Semerjak, 402426**  \n",
    "gr 1a, środa 14:45  \n",
    "**lab 6** 14.04.2021"
   ],
   "cell_type": "markdown",
   "metadata": {}
  },
  {
   "source": [
    "**Zadanie 1.**  \n",
    "  \n",
    "Algorytm G-TSP"
   ],
   "cell_type": "markdown",
   "metadata": {}
  },
  {
   "cell_type": "code",
   "execution_count": 18,
   "metadata": {},
   "outputs": [],
   "source": [
    "def print_matrix(M):\n",
    "    print(\"%3s\" % ' ', end='')\n",
    "    print(\"%3s\" % ' | ', end='')\n",
    "    for i in range(len(M)):\n",
    "        print(\"%7s\" % str(i), end='')\n",
    "    print(\"\\n\")\n",
    "    print(\"-\"*(7*len(M) + 6))\n",
    "    for r in range(len(M)):\n",
    "        print(\"%3s\" % str(r), end='')\n",
    "        print(\"%3s\" % ' | ', end='')\n",
    "        for c in range(len(M)):\n",
    "            print(\"%7s\" % str(M[r][c]), end='')\n",
    "        print(\"\\n\")"
   ]
  },
  {
   "cell_type": "code",
   "execution_count": 19,
   "metadata": {
    "tags": []
   },
   "outputs": [],
   "source": [
    "import numpy as np\n",
    "\n",
    "def is_cyclic(G):\n",
    "    visited = {u : False for u in G} #słownik odwiedzonych wierzchołków\n",
    "    cycle = [False] #zmienna przechowująca informację o znalezeiniu cyklu (w postaci tablicy po to by można było ją przekazać jako parametr do funkcji i tam też zmodyfikować)\n",
    "    for u in G:\n",
    "        if not visited[u]:\n",
    "            DFS(G, u, cycle, u, visited) #DFS dla każdego wierzchołka zatrzymujące się w momencie znalezienia cyklu\n",
    "        if cycle[0]:\n",
    "            break\n",
    "    return cycle[0]\n",
    "\n",
    "def DFS(G, u, cycle, prev, visited):\n",
    "    if cycle[0]:\n",
    "        return #zatrzymanie gdy cykl istnieje\n",
    "    visited[u] = True #oznaczenie bieżącego wierzchołka jako odwiedzony\n",
    "    for v in G[u]: #dla każdego sąsiada u przejście DFS i przerwanie w momencie znalezienia cyklu (czyli gdy dotrzemy do już odwiedzonego wierzchołka)\n",
    "        if visited[v] and v != prev:\n",
    "            cycle[0] = True\n",
    "            return\n",
    "        if not visited[v]:\n",
    "            DFS(G, v, cycle, u, visited)\n",
    "\n",
    "\n",
    "def G_TSP(G):\n",
    "    #G to macierz wag\n",
    "    E = [] #zbiór krawędzi grafu\n",
    "    route_graph = {}\n",
    "    def myFunc(e):\n",
    "        start, stop, weight = e\n",
    "        return e #funkcja zwracająca wagę krawędzi (potrzebna do sortowania)\n",
    "\n",
    "    for i in range(len(G)):\n",
    "        route_graph[i] = []\n",
    "        for j in range(len(G)):\n",
    "            if G[i][j] is not None and i>=j:\n",
    "                E.append((i, j, G[i][j])) #uzupełnianie krawędzi\n",
    "                \n",
    "    E.sort(key=myFunc) #sortowania krawędzi wg rosnących wag\n",
    "    route = [] #lista krawędzi rozwiązania\n",
    "    suma = 0 # suma wag rozwiązania\n",
    "    visited = [] #lista odwiedzonych wierzchołków\n",
    "\n",
    "    while len(route) != len(G) and E != []: #dopóki droga nie będzei zawierała wszystkich wymaganych krawędzi\n",
    "        start, stop, weight = E[0]\n",
    "        E.pop(0)\n",
    "        if ((visited.count(start)<2 and visited.count(stop)<2)): #jeśli dodanie krawędzi nie spowoduje dodania węzła, z którego wychodzą 3 krawędzie\n",
    "            route_graph[start].append(stop) #uzupełnianie nowego grafu zawierającego jedynie rozwiązanie (potrzebne do detekcji cyklu)\n",
    "            route_graph[start].sort()\n",
    "            route_graph[stop].append(start)\n",
    "            route_graph[stop].sort()\n",
    "            if len(route) < len(G) - 1: #jeśli nie jest to ostatnia iteracja\n",
    "                if is_cyclic(route_graph): #sprawdzenie czy dodanie krawędzi stworzyło cykl (za pomocą DFS)\n",
    "                    route_graph[start].remove(stop) #usuwanie z grafu jeśli powstał cykl\n",
    "                    route_graph[stop].remove(start)\n",
    "                    continue #wyjście z danego obiegu pętli\n",
    "                \n",
    "            route.append((start, stop)) #dodanie krawędzi do rozwiązania\n",
    "            visited.append(start) #uzupełnienie odwiedzonych węzłów\n",
    "            visited.append(stop)\n",
    "            suma += weight #uzupełnienie sumarycznej wagi\n",
    "\n",
    "    return route, suma #zwraca listę krawędzi oraz sumę wag rozwiązania\n",
    "\n",
    "def print_solution(route, suma): #funkcja zmieniająca listę krawędzi na ścieżkę\n",
    "    route_list = []\n",
    "    Q = route\n",
    "    u, v = Q[0]\n",
    "    route_list.append(u)\n",
    "    route_list.append(v)\n",
    "    Q.pop(0)\n",
    "    while Q != []:\n",
    "        for u_, v_ in Q:\n",
    "            if u_ == v or u_ == u:\n",
    "                route_list.append(v_)\n",
    "                u = u_\n",
    "                v = v_\n",
    "                Q.remove((u_, v_))\n",
    "                \n",
    "            elif v_ == u or v_ == v:\n",
    "                route_list.append(u_)\n",
    "                u = u_\n",
    "                v = v_\n",
    "                Q.remove((u_, v_))\n",
    "    print(\"droga: \", route_list)\n",
    "    print(\"suma wag: \", suma)\n"
   ]
  },
  {
   "source": [
    "**Zadanie 2.**\n",
    "  \n",
    "Z punktu widzenia algorytmu nie jest istotny wierzchołek startowy, gdyż pracuje on na samych krawędziach. Niezależnie od wierzchołka zawsze zwróci on tę samą ścieżkę. Algorytm został zaimplementowany dla grafów nieskierowanych pełnych."
   ],
   "cell_type": "markdown",
   "metadata": {}
  },
  {
   "cell_type": "code",
   "execution_count": 20,
   "metadata": {},
   "outputs": [
    {
     "output_type": "stream",
     "name": "stdout",
     "text": [
      "    |       0      1      2      3\n\n----------------------------------\n  0 |    None     10     15     20\n\n  1 |      10   None     35     25\n\n  2 |      15     35   None     30\n\n  3 |      20     25     30   None\n\n[(1, 0), (2, 0), (3, 1), (3, 2)] 80\ndroga:  [1, 0, 2, 3, 1]\nsuma wag:  80\n"
     ]
    }
   ],
   "source": [
    "G1 = [[None, 10, 15, 20], [10, None, 35, 25], [15, 35, None, 30], [20, 25, 30, None]]\n",
    "print_matrix(G1)\n",
    "route, suma = G_TSP(G1)\n",
    "print(route, suma)\n",
    "print_solution(route, suma)"
   ]
  },
  {
   "cell_type": "code",
   "execution_count": 21,
   "metadata": {},
   "outputs": [
    {
     "output_type": "stream",
     "name": "stdout",
     "text": [
      "    |       0      1      2      3      4      5      6      7\n\n--------------------------------------------------------------\n  0 |    None      2      2      4      3     10     11     13\n\n  1 |       2   None      2      9     22     21      1     13\n\n  2 |       2      2   None      8      2      1     11     41\n\n  3 |       4      9      8   None      1      2     12      3\n\n  4 |       3     22      2      1   None     21      4      5\n\n  5 |      10     21      1      2     21   None      2      2\n\n  6 |      11      1     11     12      4      2   None      2\n\n  7 |      13     13     41      3      5      2      2   None\n\n[(1, 0), (2, 0), (3, 1), (4, 2), (5, 3), (6, 4), (7, 5), (7, 6)] 25\ndroga:  [1, 0, 2, 4, 6, 7, 5, 3, 1]\nsuma wag:  25\n"
     ]
    }
   ],
   "source": [
    "G2 = [[None, 2, 2, 4, 3, 10, 11, 13],\n",
    "[2, None, 2, 9, 22, 21, 1, 13],\n",
    "[2, 2, None, 8, 2, 1, 11, 41],\n",
    "[4, 9, 8, None, 1, 2, 12, 3],\n",
    "[3, 22, 2, 1, None, 21, 4, 5],\n",
    "[10, 21, 1, 2, 21, None, 2, 2],\n",
    "[11, 1, 11, 12, 4, 2, None, 2],\n",
    "[13, 13, 41, 3, 5, 2, 2, None]]\n",
    "print_matrix(G2)\n",
    "route, suma = G_TSP(G2)\n",
    "print(route, suma)\n",
    "print_solution(route, suma)"
   ]
  },
  {
   "cell_type": "code",
   "execution_count": 22,
   "metadata": {},
   "outputs": [
    {
     "output_type": "stream",
     "name": "stdout",
     "text": [
      "    |       0      1      2      3      4      5      6      7      8      9\n\n----------------------------------------------------------------------------\n  0 |    None      5     15      9     15     15      3     15      3      3\n\n  1 |       5   None      9     15      8      6     15      7     15     15\n\n  2 |      15      9   None      9      4     15      5      3     15      2\n\n  3 |       9     15      9   None     15     15      8     15     15      9\n\n  4 |      15      8      4     15   None      2      1     15      7      5\n\n  5 |      15      6     15     15      2   None      6     15     15     15\n\n  6 |       3     15      5      8      1      6   None      9      5      6\n\n  7 |      15      7      3     15     15     15      9   None      8     15\n\n  8 |       8      7      3     15      6     15     15     15   None     15\n\n  9 |      15     15      3      9     15      8      9     15      7   None\n\n[(1, 0), (2, 0), (3, 1), (4, 2), (5, 3), (6, 4), (7, 5), (8, 6), (9, 7), (9, 8)] 107\ndroga:  [1, 0, 2, 4, 6, 8, 9, 7, 5, 3, 1]\nsuma wag:  107\n"
     ]
    }
   ],
   "source": [
    "G3 = [[None, 5, 15, 9, 15, 15, 3,15, 3, 3],\n",
    "    [5, None, 9, 15, 8, 6, 15, 7, 15, 15],\n",
    "    [15, 9, None, 9, 4, 15, 5, 3, 15, 2],\n",
    "    [9, 15, 9, None, 15, 15, 8, 15, 15, 9],\n",
    "    [15, 8, 4, 15, None, 2, 1, 15, 7, 5],\n",
    "    [15, 6, 15, 15, 2, None, 6, 15, 15, 15],\n",
    "    [3, 15, 5, 8, 1, 6, None, 9, 5, 6],\n",
    "    [15, 7, 3, 15, 15, 15, 9, None, 8, 15],\n",
    "    [8, 7, 3, 15, 6, 15, 15, 15, None, 15],\n",
    "    [15, 15, 3, 9, 15, 8, 9, 15, 7, None]]\n",
    "print_matrix(G3)\n",
    "route, suma = G_TSP(G3)\n",
    "print(route, suma)\n",
    "print_solution(route, suma)"
   ]
  },
  {
   "source": [
    "Algorytm zwraca poprawne wyniki dla wszystkich przyjętych przykładów."
   ],
   "cell_type": "markdown",
   "metadata": {}
  },
  {
   "source": [
    "**Zadanie 3.**\n",
    "  \n",
    "Główna pętla algorytmu wykona się maksymalnie n^2 razy (n - liczba krawędzi). W każdej iteracji następuje sprawdzenie, czy daną krawędź można dołączyć do rozwiązania. Złożoność obliczeniowa algorytmu zależy od sposobu sprawdzania tego warunku, a także od sposobu sortowania kolejki krawędzi. Przyjmuje się, że złożoność ta wynosi O(n^2log(n)).  \n",
    "Najistotniejszą cechą algorytmu G-TSP jest fakt, że jest to algorytm zachłanny pracujący na posortowanych krawędziach, a co za tym idzie - krawędzie nie są dołączane po kolei wzdłuż ścieżki ani nie od konkretnego wierzchołka. Dodatkowe przyjęte rozwiązanie jest gotowe, nie trzeba szukać 'lepszych rozwiązań' w kolejnych krokach (w odróżnieniu od np algorytmu 2-opt)."
   ],
   "cell_type": "markdown",
   "metadata": {}
  }
 ]
}