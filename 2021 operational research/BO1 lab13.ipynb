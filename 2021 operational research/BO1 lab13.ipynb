{
 "metadata": {
  "language_info": {
   "codemirror_mode": {
    "name": "ipython",
    "version": 3
   },
   "file_extension": ".py",
   "mimetype": "text/x-python",
   "name": "python",
   "nbconvert_exporter": "python",
   "pygments_lexer": "ipython3",
   "version": "3.8.3"
  },
  "orig_nbformat": 2,
  "kernelspec": {
   "name": "python383jvsc74a57bd0c468bac67d804d57f893e0f9ada055e3f07962baf7e8a6539193483b2e095161",
   "display_name": "Python 3.8.3 64-bit ('base': conda)"
  }
 },
 "nbformat": 4,
 "nbformat_minor": 2,
 "cells": [
  {
   "source": [
    "## **Laboratorium 13 - Metoda podziału i ograniczeń – algorytm Little’a dla zagadnienia komiwojażera**\n",
    "  \n",
    "### Barbara Pobiedzińska, 400781\n",
    "### Agata Semerjak, 402426  \n",
    "### Monika Sukiennik, 401060  \n",
    "### Maciej Wieloch, 303080  \n",
    "gr 1a, środa 14:45  \n",
    "02.06.2021"
   ],
   "cell_type": "markdown",
   "metadata": {}
  },
  {
   "source": [
    "**Zadanie 1.**  \n",
    "  \n",
    "Należało zaimplementować algorytm Little'a dla problemu TSP o rozmiarze n >= 6. Naszą daną wejściową była macierz kosztów reprezentowana za pomocą elementu array z biblioteki numpy.  \n",
    "Poniżej zamieszczamy naszą implementacje algorytmu wraz z opisem."
   ],
   "cell_type": "markdown",
   "metadata": {}
  },
  {
   "cell_type": "code",
   "execution_count": 1,
   "metadata": {},
   "outputs": [],
   "source": [
    "# funkcja służąca do printowania macierzy\n",
    "def print_matrix(M):\n",
    "    print(\"%3s\" % ' ', end='')\n",
    "    print(\"%3s\" % ' | ', end='')\n",
    "    for i in range(len(M)):\n",
    "        print(\"%7s\" % str(i), end='')\n",
    "    print(\"\\n\")\n",
    "    print(\"-\"*(7*len(M) + 6))\n",
    "    for r in range(len(M)):\n",
    "        print(\"%3s\" % str(r), end='')\n",
    "        print(\"%3s\" % ' | ', end='')\n",
    "        for c in range(len(M)):\n",
    "            print(\"%7s\" % str(M[r, c]), end='')\n",
    "        print(\"\\n\")"
   ]
  },
  {
   "source": [
    "1. Funkcja odpowiedzialna za redukcję macierzy:"
   ],
   "cell_type": "markdown",
   "metadata": {}
  },
  {
   "cell_type": "code",
   "execution_count": 2,
   "metadata": {},
   "outputs": [],
   "source": [
    "import numpy as np\n",
    "import sys\n",
    "inf = np.inf\n",
    "\n",
    "def reduction(mat):\n",
    "    global LB\n",
    "    reduced_mat = mat.copy() # wykonujemy kopię macierzy wejściowej, by wprowadzone zmiany nie zmodyfikowały oryginału\n",
    "    min_rows = np.amin(reduced_mat, axis=1) # obliczamy minimalne wartości dla każdego wiersza\n",
    "    for i in range(len(min_rows)):\n",
    "        reduced_mat[i] -= min_rows[i] # od każdego wiersza odejmujemy minamalną wartość w nim znalezioną\n",
    "    reduced_mat = reduced_mat.transpose() # transponujemy macierz, by wykonać tę samą operację na kolumnach\n",
    "\n",
    "    min_cols = np.amin(reduced_mat, axis=1) # obliczamy minimalne wartości dla każdej kolumny\n",
    "    for i in range(len(min_cols)):\n",
    "        reduced_mat[i] -= min_cols[i] # od każdej kolumny odejmujemy minamalną wartość w niej znalezioną\n",
    "    reduced_mat = reduced_mat.transpose() # dokonujemy ponownej transpozycji macierzy, by przywrócić ją do stanu początkowego\n",
    "\n",
    "    lower_bound = min_rows.sum() + min_cols.sum() # obliczmy dolne ograniczenie dla tego kroku - suma najmniejszych wartości w rzędach i kolumnach (w wejściowej macierzy)\n",
    "    LB = LB + lower_bound # modyfikujemy zmienną globalną przechowująca dolne ograniczenie\n",
    "\n",
    "    return reduced_mat"
   ]
  },
  {
   "source": [
    "2. Funkcja odpowiedzialna za wybór przejścia:"
   ],
   "cell_type": "markdown",
   "metadata": {}
  },
  {
   "cell_type": "code",
   "execution_count": 3,
   "metadata": {},
   "outputs": [],
   "source": [
    "def find_max(reduced_mat):\n",
    "    id = -1\n",
    "    max_table = [] # tablica na maksymalne wartości \n",
    "    for i in range(reduced_mat.shape[0]): # iteracja po wierszach macierzy\n",
    "        for j in range(reduced_mat.shape[1]): # iteracja po kolumnach macierzy\n",
    "            if reduced_mat[i, j] == 0: # rozpatrujemy jedynie elementy równe zero\n",
    "                id += 1\n",
    "                max_table.append([(i,j), 0]) # zapamiętujemy współrzędne znalezionego zera\n",
    "\n",
    "                mins_row = reduced_mat[i]\n",
    "                mins_row = np.delete(mins_row, j)\n",
    "                min_in_row = min(mins_row) # szukamy minimalnej wartości w rzędzie, w którym znajduje się nasze zero\n",
    "                reduced_mat = reduced_mat.transpose() # trasponujemy, by zrobić to samo dla kolumny\n",
    "\n",
    "                mins_col = reduced_mat[j]\n",
    "                mins_col = np.delete(mins_col, i)\n",
    "                min_in_col = min(mins_col) # szukamy minimalnej wartości w kolumnie, w której znajduje się nasze zero\n",
    "\n",
    "                reduced_mat = reduced_mat.transpose() # transponujemy ponownie, by powrócić do prawidłowej postaci\n",
    "                max_table[id][1] = (min_in_col + min_in_row) # jako koszt sumujemy znalezione minimalne wartości znalezione w rozpatrywanym wierszu i kolumnie\n",
    "\n",
    "    max_val = max_table[0][1]\n",
    "    id_row = max_table[0][0][0]\n",
    "    id_col = max_table[0][0][1]\n",
    "    for i in range(1, len(max_table)):\n",
    "        if max_table[i][1] > max_val: # wśród wszystkich kosztów szukamy teraz największego\n",
    "            max_val = max_table[i][1]\n",
    "            id_row = max_table[i][0][0]\n",
    "            id_col = max_table[i][0][1]\n",
    "    return int(id_row), int(id_col), max_val # zwracamy znaleziony największy koszt oraz odpowiadające mu wierz i kolumnę"
   ]
  },
  {
   "source": [
    "3. Funkcja aktualizująca macierz kosztów:"
   ],
   "cell_type": "markdown",
   "metadata": {}
  },
  {
   "cell_type": "code",
   "execution_count": 4,
   "metadata": {},
   "outputs": [],
   "source": [
    "def update_matrix(reduced_mat, find_max_result):\n",
    "    id_row, id_col, max_val = find_max_result # rozpakowanie krotki zwróconej przez poprzednią funkcję\n",
    "\n",
    "    reduced_mat[id_col][id_row] = inf # zabronienie przejścia w powrotną stronę\n",
    "\n",
    "    reduced_mat = np.delete(reduced_mat, id_col, 1) # usunięcie z macierzy dnaego wiersza\n",
    "    reduced_mat = np.delete(reduced_mat, id_row, 0) # usunięcie z macierzy danej kolumny\n",
    "\n",
    "    reduced_mat = reduction(reduced_mat) # ponownie wykonanie redukcji zaktualizowanej macierzy\n",
    "\n",
    "    return reduced_mat # zwracamy zaktualizowaną zredukowaną macierz"
   ]
  },
  {
   "source": [
    "4. Funkcja sortująca zwróconą przez główny algorytm ścieżkę:"
   ],
   "cell_type": "markdown",
   "metadata": {}
  },
  {
   "cell_type": "code",
   "execution_count": 5,
   "metadata": {},
   "outputs": [],
   "source": [
    "def sort_path(path):\n",
    "    final_path = [] # tablica przechowująca posortowaną ścieżkę\n",
    "    unique1 = 0 # w celu wyszukania elementów z początku i końca ścieżki\n",
    "    unique2 = 0\n",
    "    for i in range(len(path)): # iteracja po pierwotnie nieuporządkowanej ścieżce\n",
    "        elem1 = path[i][0]\n",
    "        elem2 = path[i][1]\n",
    "        is_unique_1 = True\n",
    "        is_unique_2 = True\n",
    "\n",
    "        for j in range(len(path)): # poszukiwanie elementu, który się nie powtarza (tj jest tylko początkiem lub tylko końcem)\n",
    "            if i == j: # pominięcie dokładnie tego samego elementu\n",
    "                continue\n",
    "            if elem1 == path[j][1]: # znaleziono powtórzenie\n",
    "                is_unique_1 = False\n",
    "            if elem2 == path[j][0]:\n",
    "                is_unique_2 = False\n",
    "        if is_unique_1: # jezeli wyszukany element sie nie powtarza\n",
    "            unique1 = elem1\n",
    "        if is_unique_2:\n",
    "            unique2 = elem2\n",
    "\n",
    "    path.append((unique2, unique1)) #dopisanie do ścieżki krawędzi łączącej pierwszy i ostatni element\n",
    "    # sortowanie\n",
    "    piece = path.pop(0)\n",
    "    final_path.append(piece)\n",
    "\n",
    "    while path: \n",
    "        last_elem = final_path[-1][1]\n",
    "        piece = path[0]\n",
    "        i = 0\n",
    "        while piece[0] != last_elem: #wyszukanie elementu który zaczyna się tak jak na razie ścieżka się kończy\n",
    "            i += 1\n",
    "            piece = path[i]\n",
    "\n",
    "        piece = path.pop(i)\n",
    "        final_path.append(piece)\n",
    "\n",
    "    return final_path"
   ]
  },
  {
   "source": [
    "5. Główna funkcja obsługująca cały algorytm:"
   ],
   "cell_type": "markdown",
   "metadata": {}
  },
  {
   "cell_type": "code",
   "execution_count": 6,
   "metadata": {},
   "outputs": [],
   "source": [
    "def TSP(matrix):\n",
    "    global LB\n",
    "    LB = 0 # początkowa wartość dolnego ograniczenia\n",
    "\n",
    "    result = matrix.copy()\n",
    "\n",
    "    result = reduction(result) # redukcja macierzy\n",
    "    result_max = find_max(result) # znalezienie odpowiedniej krawędzi\n",
    "\n",
    "    rows_tab = [i for i in range(len(result))] # tablice przechowujące pierwotną prawidłową indeksację  wierzchołków\n",
    "    cols_tab = [i for i in range(len(result))]\n",
    "\n",
    "    path = [(rows_tab.pop(result_max[0]), cols_tab.pop(result_max[1]))]\n",
    "\n",
    "    while len(result) != 2: # dopóki macierz nie zostanie sprowadzona do rozmiaru 2x2\n",
    "        print(\"\\nMacierz\\n\", result)\n",
    "        print(\"LB:\", LB)\n",
    "        result = update_matrix(result, result_max) # aktualizacja macierzy kosztów\n",
    "        result_max = find_max(result) # znalezienie odpowiedniego przejścia\n",
    "        path.append((rows_tab.pop(result_max[0]), cols_tab.pop(result_max[1]))) # uzupełnienie ścieżki\n",
    "\n",
    "    print(\"\\nMacierz\\n\", result)\n",
    "    print(\"LB:\", LB)\n",
    "\n",
    "    path = sort_path(path) # posortowanie ścieżki\n",
    "\n",
    "    return path, LB"
   ]
  },
  {
   "cell_type": "code",
   "execution_count": 7,
   "metadata": {},
   "outputs": [
    {
     "output_type": "stream",
     "name": "stdout",
     "text": [
      "    |       0      1      2      3      4      5\n\n------------------------------------------------\n  0 |     inf    7.0   10.0    9.0    1.0    7.0\n\n  1 |    10.0    inf    3.0   10.0   11.0    3.0\n\n  2 |    14.0    2.0    inf   10.0    3.0    3.0\n\n  3 |     3.0    3.0    8.0    inf   12.0    8.0\n\n  4 |     9.0    8.0   11.0    8.0    inf    2.0\n\n  5 |    11.0    9.0    5.0   12.0    9.0    inf\n\n\nMacierz\n [[inf  6.  9.  2.  0.  6.]\n [ 7. inf  0.  1.  8.  0.]\n [12.  0. inf  2.  1.  1.]\n [ 0.  0.  5. inf  9.  5.]\n [ 7.  6.  9.  0. inf  0.]\n [ 6.  4.  0.  1.  4. inf]]\nLB: 22.0\n\nMacierz\n [[ 6.  9. inf  0.  6.]\n [inf  0.  1.  8.  0.]\n [ 0. inf  2.  1.  1.]\n [ 6.  9.  0. inf  0.]\n [ 4.  0.  1.  4. inf]]\nLB: 22.0\n\nMacierz\n [[inf  0.  1.  0.]\n [ 0. inf  2.  1.]\n [inf  9.  0.  0.]\n [ 4.  0.  1. inf]]\nLB: 22.0\n\nMacierz\n [[inf  1.  0.]\n [ 9.  0.  0.]\n [ 0.  1. inf]]\nLB: 22.0\n\nMacierz\n [[ 0. inf]\n [ 0.  0.]]\nLB: 23.0\n\nŚcieżka: [(3, 0), (0, 4), (4, 5), (5, 2), (2, 1), (1, 3)]\ndolne ograniczenie: 23.0 \n\n\n\n    |       0      1      2      3      4\n\n-----------------------------------------\n  0 |     inf   10.0    8.0   19.0   12.0\n\n  1 |    10.0    inf   20.0    6.0    3.0\n\n  2 |     8.0   20.0    inf    4.0    2.0\n\n  3 |    19.0    6.0    4.0    inf    7.0\n\n  4 |    12.0    3.0    2.0    7.0    inf\n\n\nMacierz\n [[inf  1.  0.  9.  4.]\n [ 1. inf 17.  1.  0.]\n [ 0. 17. inf  0.  0.]\n [ 9.  1.  0. inf  3.]\n [ 4.  0.  0.  3. inf]]\nLB: 28.0\n\nMacierz\n [[ 0. inf  1.  0.]\n [inf 17.  0.  0.]\n [ 7.  0. inf  2.]\n [ 3.  0.  3. inf]]\nLB: 30.0\n\nMacierz\n [[17.  0.  0.]\n [ 0. inf  2.]\n [ 0.  3. inf]]\nLB: 30.0\n\nMacierz\n [[inf  0.]\n [ 0. inf]]\nLB: 32.0\n\nŚcieżka: [(0, 2), (2, 3), (3, 4), (4, 1), (1, 0)]\ndolne ograniczenie: 32.0\n"
     ]
    }
   ],
   "source": [
    "def main():\n",
    "    table1 = np.array([[inf, 7, 10, 9, 1, 7],\n",
    "                      [10, inf, 3, 10, 11, 3],\n",
    "                      [14, 2, inf, 10, 3, 3],\n",
    "                      [3, 3, 8, inf, 12, 8],\n",
    "                      [9, 8, 11, 8, inf, 2],\n",
    "                      [11, 9, 5, 12, 9, inf]])\n",
    "\n",
    "    table2 = np.array([[inf, 10, 8, 19, 12],\n",
    "                      [10, inf, 20, 6, 3],\n",
    "                      [8, 20, inf, 4, 2],\n",
    "                      [19, 6, 4, inf, 7],\n",
    "                      [12, 3, 2, 7, inf]])\n",
    "\n",
    "    print_matrix(table1)\n",
    "    path1, lower_bound1 = TSP(table1)\n",
    "    print(\"\\nŚcieżka:\", path1)\n",
    "    print(\"dolne ograniczenie:\", lower_bound1, \"\\n\\n\\n\")\n",
    "\n",
    "    print_matrix(table2)\n",
    "    path2, lower_bound2 = TSP(table2)\n",
    "    print(\"\\nŚcieżka:\", path2)\n",
    "    print(\"dolne ograniczenie:\", lower_bound2)\n",
    "\n",
    "main()"
   ]
  },
  {
   "source": [
    "Poniżej zamieszczamy ręczne rozwiązanie obu obliczonych przykładów, co potwierdza poprawność naszej implementacji algorytmu."
   ],
   "cell_type": "markdown",
   "metadata": {}
  },
  {
   "source": [
    "<img src=\"obliczenia.png\">"
   ],
   "cell_type": "markdown",
   "metadata": {}
  },
  {
   "source": [
    "**Wnioski**\n",
    "  \n",
    "Algorytm Little'a dla problemu komiwojażera okazał się dużo bardziej złożony niż implementowane wcześniej podejścia zachłanne. Mimo to, dzięki pracy grupowej udało się nam zrealizować w pełni działający algorytm. Ta wersja rozwiązania problemu wyróżnia się tym, że zwraca ona *wprost* trasę optymalną, a nie jedynie jej *aproksymację*. Ze względu na jego złożoność i jej eksponencjalny wzrost razem ze zwiększaniem liczby wierzchołków grafu (miast do odwiedzenia), nie jest opłacalne użycie tego algorytmu dla problemów o większej liczbe miast (np. 40)."
   ],
   "cell_type": "markdown",
   "metadata": {}
  }
 ]
}