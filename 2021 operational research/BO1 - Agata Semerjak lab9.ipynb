{
 "metadata": {
  "language_info": {
   "codemirror_mode": {
    "name": "ipython",
    "version": 3
   },
   "file_extension": ".py",
   "mimetype": "text/x-python",
   "name": "python",
   "nbconvert_exporter": "python",
   "pygments_lexer": "ipython3",
   "version": "3.8.3"
  },
  "orig_nbformat": 2,
  "kernelspec": {
   "name": "python383jvsc74a57bd0c468bac67d804d57f893e0f9ada055e3f07962baf7e8a6539193483b2e095161",
   "display_name": "Python 3.8.3 64-bit"
  }
 },
 "nbformat": 4,
 "nbformat_minor": 2,
 "cells": [
  {
   "source": [
    "## **Agata Semerjak, 402426**  \n",
    "gr 1a, środa 14:45  \n",
    "**lab 9** 5.05.2021"
   ],
   "cell_type": "markdown",
   "metadata": {}
  },
  {
   "source": [
    "**Zadanie 1.**  \n",
    "  \n",
    "Algorytm Johnsona dla problemu 2 maszyn."
   ],
   "cell_type": "markdown",
   "metadata": {}
  },
  {
   "cell_type": "code",
   "execution_count": 1,
   "metadata": {},
   "outputs": [],
   "source": [
    "import numpy as np\n",
    "\n",
    "def Johnosn_2machines(m):\n",
    "    m = m.astype(float)\n",
    "    last_idx = m.shape[1] - 1\n",
    "    size = last_idx + 1\n",
    "    new_order = np.array([[None for _ in range(size)], [None for _ in range(size)]]) #pusta macierz czasów\n",
    "    new_tasks = [None for _ in range(size)] #tablica nowej kolejnosci zadan\n",
    "    for _ in range(size):\n",
    "        i, j = np.unravel_index(np.nanargmin(m, axis=None), m.shape) #indeksy najmniejszego elementu\n",
    "        if i == 0: #jeśli leży w 1 wierszu\n",
    "            idx = 0\n",
    "            while new_order[0, idx] is not None:\n",
    "                idx += 1 #ustawienie indeksu na pierwsze wolne miejsce od lewej\n",
    "        elif i == 1:\n",
    "            idx = last_idx\n",
    "            while new_order[0, idx] is not None:\n",
    "                idx -= 1 #ustawienie indeksu na pierwsze wolne miejsce od końca\n",
    "\n",
    "        new_order[0, idx] = m[0, j] #wstawienie danych z wejściowej macirzy czasów do wynikowej\n",
    "        new_order[1, idx] = m[1, j]\n",
    "        new_tasks[idx] = j+1 #uzupełnienie kolejności zadań\n",
    "\n",
    "        m[0, j] = np.NaN #wykreślenie z macierzy wejściowej kolumny, w której znajdował się element minimalny\n",
    "        m[1, j] = np.NaN\n",
    "\n",
    "    time = new_order.copy().astype(int) #macierz terminów\n",
    "    temp = 0\n",
    "    for i in range(time.shape[1]):\n",
    "        time[0, i] += temp #uzupełnienie pierwszego wiersza (tj czas poprzednika + czas)\n",
    "        temp = time[0, i]\n",
    "\n",
    "    left = 0\n",
    "    for i in range(time.shape[1]): #uzupełnienie drugiego wiersza (tj max(ponad, po lewej) + czas)\n",
    "        up = time[0, i] #czas elementu ponad\n",
    "        if left > up:\n",
    "            time[1, i] += left #jeśli element po lewej jest większy to jego dodajemy do czasu\n",
    "        else:\n",
    "            time[1, i] += up #jeśli element ponad jest większy to jego dodajemy do czasu\n",
    "        left = time[1, i] #czas elementu po lewej\n",
    "\n",
    "    return new_order.astype(int), time, new_tasks"
   ]
  },
  {
   "source": [
    "Przykład działania dla macierzy z konspektu:"
   ],
   "cell_type": "markdown",
   "metadata": {}
  },
  {
   "cell_type": "code",
   "execution_count": 4,
   "metadata": {},
   "outputs": [
    {
     "output_type": "stream",
     "name": "stdout",
     "text": [
      "Macierz wejściowa:\n[[ 9  6  8  7 12  3]\n [ 7  3  5 10  4  7]]\n\nUszeregowanie:\n [[ 3  7  9  8 12  6]\n [ 7 10  7  5  4  3]]\n\nTerminy:\n [[ 3 10 19 27 39 45]\n [10 20 27 32 43 48]]\n\nNowa kolejność zadań: [6, 4, 1, 3, 5, 2]\n"
     ]
    }
   ],
   "source": [
    "m = np.array([[9, 6, 8, 7, 12, 3], [7, 3, 5, 10, 4, 7]])\n",
    "def print_john(m):\n",
    "    print(\"Macierz wejściowa:\")\n",
    "    print(m)\n",
    "    uszeregowanie, terminy, kolejnosc = Johnosn_2machines(m)\n",
    "    print(\"\\nUszeregowanie:\\n\", uszeregowanie)\n",
    "    print(\"\\nTerminy:\\n\", terminy)\n",
    "    print(\"\\nNowa kolejność zadań:\", kolejnosc)\n",
    "\n",
    "print_john(m)"
   ]
  },
  {
   "source": [
    "**Zadanie 2.**\n",
    "  \n",
    "Działanie algorytmu dla macierzy czasów dla 10 zadań."
   ],
   "cell_type": "markdown",
   "metadata": {}
  },
  {
   "cell_type": "code",
   "execution_count": 6,
   "metadata": {},
   "outputs": [
    {
     "output_type": "stream",
     "name": "stdout",
     "text": [
      "Macierz wejściowa:\n[[ 4  3  5 10  7  7 10  9 10  9]\n [ 5  6  5 11  8  7 11  6  3  3]]\n\nUszeregowanie:\n [[ 3  4  5  7  7 10 10  9  9 10]\n [ 6  5  5  8  7 11 11  6  3  3]]\n\nTerminy:\n [[ 3  7 12 19 26 36 46 55 64 74]\n [ 9 14 19 27 34 47 58 64 67 77]]\n\nNowa kolejność zadań: [2, 1, 3, 5, 6, 4, 7, 8, 10, 9]\n"
     ]
    }
   ],
   "source": [
    "m = np.random.randint(3, 15, size=(2, 10))\n",
    "print_john(m)"
   ]
  },
  {
   "source": [
    "**Zadanie 3**\n",
    "  \n",
    "Rozwiązywany typ problemu to F | t_jkl | C_max.  \n",
    "Alternatywne sposoby szeregowania powinny dać ten sam czas końcowy.  \n",
    "Założenia dla algorytmu:\n",
    "- dana maszyna może wykonywać maksymalnie jedno zadanie na raz  \n",
    "- operacja nie może być przerwana\n",
    "  \n",
    "Złożoność obliczniowa algorytmu to O(n^2).\n"
   ],
   "cell_type": "markdown",
   "metadata": {}
  }
 ]
}