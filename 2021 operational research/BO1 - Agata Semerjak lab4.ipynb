{
 "metadata": {
  "language_info": {
   "codemirror_mode": {
    "name": "ipython",
    "version": 3
   },
   "file_extension": ".py",
   "mimetype": "text/x-python",
   "name": "python",
   "nbconvert_exporter": "python",
   "pygments_lexer": "ipython3",
   "version": "3.8.3-final"
  },
  "orig_nbformat": 2,
  "kernelspec": {
   "name": "python383jvsc74a57bd0c468bac67d804d57f893e0f9ada055e3f07962baf7e8a6539193483b2e095161",
   "display_name": "Python 3.8.3 64-bit"
  }
 },
 "nbformat": 4,
 "nbformat_minor": 2,
 "cells": [
  {
   "source": [
    "## **Agata Semerjak, 402426**  \n",
    "gr 1a, środa 14:45  \n",
    "**lab 4** 24.03.2021"
   ],
   "cell_type": "markdown",
   "metadata": {}
  },
  {
   "source": [
    "**Zadanie 1.**"
   ],
   "cell_type": "markdown",
   "metadata": {}
  },
  {
   "cell_type": "code",
   "execution_count": 6,
   "metadata": {},
   "outputs": [],
   "source": [
    "def print_matrix(M):\n",
    "    print(\"%3s\" % ' ', end='')\n",
    "    print(\"%3s\" % ' | ', end='')\n",
    "    for i in range(len(M)):\n",
    "        print(\"%7s\" % str(i), end='')\n",
    "    print(\"\\n\")\n",
    "    print(\"-\"*(7*len(M) + 6))\n",
    "    for r in range(len(M)):\n",
    "        print(\"%3s\" % str(r), end='')\n",
    "        print(\"%3s\" % ' | ', end='')\n",
    "        for c in range(len(M)):\n",
    "            print(\"%7s\" % str(M[r][c]), end='')\n",
    "        print(\"\\n\")"
   ]
  },
  {
   "cell_type": "code",
   "execution_count": 7,
   "metadata": {
    "tags": []
   },
   "outputs": [],
   "source": [
    "import numpy as np\n",
    "\n",
    "def Dijkstra(G, s = 0):\n",
    "    #G to macierz wag\n",
    "    p = {} #funkcja przyporządkowująca wierzchołkowi jego poprzednika w ścieżce\n",
    "    d = {} #funkcja przyporządkowująca wierzchołkowi aktualny koszt osiągniecia go z wierzchołka s\n",
    "    N = {} #funkcja przyporządkowująca wierzchołkowi jego listę sąsiedztwa\n",
    "    route = {}\n",
    "\n",
    "    for i in range(len(G)):\n",
    "        N[i] = []\n",
    "        route[i] = []\n",
    "        for j in range(len(G)):\n",
    "            if i != j and G[i][j]:\n",
    "                N[i].append(j) #tworzenie list sąsiedztwa\n",
    "                \n",
    "    for u in range(len(G)): #początkowe ustawienie funkcji p i d dla wszystkich wierzchołków\n",
    "        p[u] = 0\n",
    "        d[u] = np.inf\n",
    " \n",
    "    Q = [i for i in range(len(G))] #stworzenie zbioru wierzchołków \n",
    "    d[s] = 0 #\"obsłużenie\" pierwszego wierzchołka czyli rozpoczęcie tworzenia ścieżki od niego\n",
    "    Q.remove(s) #usunięcie pierwszego wierzchołka ze zbioru\n",
    "    u_ = s #u_ to ostatnio wybrany wierzchołek\n",
    "\n",
    "    while Q != []: \n",
    "        for u in Q:\n",
    "            if u in N[u_]:\n",
    "                if d[u_] + G[u_][u] < d[u]:\n",
    "                    d[u] = d[u_] + G[u_][u] #ustawienie prawidłowych wartości d i p dla każdego wierzchołka, który jest sąsiedem u_ (czyli poprzednio wybranego)\n",
    "                    p[u] = u_\n",
    "                    if s != u_:\n",
    "                        route[u].append(u_)\n",
    "        \n",
    "        min_val = np.inf\n",
    "        for key, value in d.items(): #znalezienie u, dla którego d[u] jest najmniejsze\n",
    "            if value < min_val and key in Q:\n",
    "                min_val = value\n",
    "                umin = key\n",
    "        u_ = umin\n",
    "        Q.remove(u_)\n",
    "\n",
    "    return d, route\n",
    "\n",
    "\n",
    "def Bellman_Ford(G, s = 0):\n",
    "    #G to macierz wag\n",
    "    p = {} #funkcja przyporządkowująca wierzchołkowi jego poprzednika w ścieżce\n",
    "    d = {} #funkcja przyporządkowująca wierzchołkowi aktualny koszt osiągniecia go z wierzchołka s\n",
    "    #route = {} #funkcja układająca drogę, jednak została zakomentowana, ze względu na to, że algorytm jest używany jedynie w algorytmie Johnsona\n",
    "    E = [] #zbiór krawędzi grafu\n",
    "    for i in range(len(G)):\n",
    "        #route[i] = []\n",
    "        for j in range(len(G)):\n",
    "            if G[i][j] is not None:\n",
    "                E.append((i, j, G[i][j])) #uzupełnianie krawędzi\n",
    "\n",
    "    for u in range(len(G)): #początkowe ustawienie funkcji d i p dla wszystkich wierzchołków\n",
    "        p[u] = 0\n",
    "        d[u] = np.inf\n",
    " \n",
    "    d[s] = 0 #\"obsłużenie\" pierwszego wierzchołka czyli rozpoczęcie tworzenia ścieżki od niego\n",
    "\n",
    "    for i in range(len(G) - 1):\n",
    "        for u, v, w in E:\n",
    "            if d[u] + w < d[v]:\n",
    "                d[v] = d[u] + w\n",
    "\n",
    "    for u, v, w in E:\n",
    "        if d[u] + w < d[v]: #wykrycie neatywnego cyklu\n",
    "            raise ValueError(\"Negative Cycle!\")\n",
    "    \n",
    "    '''for v in range(len(G)): #stworzenie drogi\n",
    "        temp_v = v\n",
    "        while p[temp_v] != s:\n",
    "            temp_v = p[temp_v]\n",
    "            route[v].append(temp_v)\n",
    "        route[v].reverse()'''\n",
    "\n",
    "    return d #, route\n",
    "\n",
    "\n",
    "def Johnson(G):\n",
    "    G.append([0 for i in range(len(G)+1)])\n",
    "    for i in range(len(G)):\n",
    "        G[i].append(None)\n",
    "    G[len(G)-1][len(G)-1] = None #dodaję dodatkowy wierzchołek i tworzę odpowiednie połączenia - tzn z wierzchołka można dotrzeć wszędzie, ale z nikąd nie można dotrzeć do tego wierzchołka\n",
    "\n",
    "    modified_weights = Bellman_Ford(G, s=len(G)-1) #uruchomienie Bellmana Forda dla dodanego wierzchołka\n",
    "\n",
    "    G.pop()\n",
    "    for i in range(len(G)):\n",
    "        G[i].pop() #usunięcie dodanego wierzchołka i wszystkich połączeń\n",
    "\n",
    "    for i in range(len(G)):\n",
    "        for j in range(len(G)):\n",
    "            if G[i][j] is not None:\n",
    "                G[i][j] += (modified_weights[i] - modified_weights[j]) #zmodyfikowanie wag wg wzoru\n",
    "                \n",
    "    distances = [None for u in range(len(G))] #macierz kosztów\n",
    "    routes = [None for u in range(len(G))] #macierz dróg\n",
    "    \n",
    "\n",
    "\n",
    "    for u in range(len(G)):\n",
    "        distances[u], routes[u] = Dijkstra(G, s = u) #uruchomienie Djikstry dla każdego wierzchołka\n",
    "\n",
    "    for u in range(len(G)):\n",
    "        for v in range(len(G)):\n",
    "            delta_h = modified_weights[u] - modified_weights[v]\n",
    "            distances[u][v] = distances[u][v] - (modified_weights[u] - modified_weights[v]) #odtworzenie oryginalnych długości\n",
    "            if G[u][v] is not None:\n",
    "                G[u][v] -= delta_h\n",
    "\n",
    "\n",
    "    return (distances, routes)\n",
    "\n",
    "def print_johnson(result):\n",
    "    distances, routes = result\n",
    "    print(\"\\n\")\n",
    "    for i in range(len(distances)):\n",
    "        print(\"Wierzchołek startowy:\", i)\n",
    "        for j in range(len(distances)):\n",
    "            print(\"odległość od wierzchołka nr\", j, ':', distances[i][j], '. Wierzchołki przez które należy przejść:', routes[i][j])\n",
    "        print(\"\\n\")\n"
   ]
  },
  {
   "source": [
    "**Zadanie 2.**\n",
    "\n",
    "Algorytm powinien działać dla grafów skierowanych zarówno z ujemnymi, jak i dodatnimi wagami. Algorytm przerwie działanie gdy otrzyma graf, w którym występuje cykl ujemny."
   ],
   "cell_type": "markdown",
   "metadata": {}
  },
  {
   "cell_type": "code",
   "execution_count": 8,
   "metadata": {
    "tags": []
   },
   "outputs": [
    {
     "output_type": "stream",
     "name": "stdout",
     "text": [
      "G1 = \n    |       0      1      2      3      4      5      6      7      8      9\n\n----------------------------------------------------------------------------\n  0 |    None      5   None      9   None   None      3   None      3      3\n\n  1 |       5   None      9   None      8      6   None      7   None   None\n\n  2 |    None      9   None      9      4   None      5      3   None      2\n\n  3 |       9   None      9   None   None   None      8   None   None      9\n\n  4 |    None      8      4   None   None      2      1   None      7      5\n\n  5 |    None      6   None   None      2   None      6   None   None   None\n\n  6 |       3   None      5      8      1      6   None      9      5      6\n\n  7 |    None      7      3   None   None   None      9   None      8   None\n\n  8 |       8      7      3   None      6   None   None   None      8   None\n\n  9 |    None   None      3      9   None      8      9   None      7   None\n\n\n\nWierzchołek startowy: 0\nodległość od wierzchołka nr 0 : 0 . Wierzchołki przez które należy przejść: []\nodległość od wierzchołka nr 1 : 5 . Wierzchołki przez które należy przejść: []\nodległość od wierzchołka nr 2 : 6 . Wierzchołki przez które należy przejść: [6, 8]\nodległość od wierzchołka nr 3 : 9 . Wierzchołki przez które należy przejść: []\nodległość od wierzchołka nr 4 : 4 . Wierzchołki przez które należy przejść: [6]\nodległość od wierzchołka nr 5 : 6 . Wierzchołki przez które należy przejść: [6, 4]\nodległość od wierzchołka nr 6 : 3 . Wierzchołki przez które należy przejść: []\nodległość od wierzchołka nr 7 : 9 . Wierzchołki przez które należy przejść: [6, 2]\nodległość od wierzchołka nr 8 : 3 . Wierzchołki przez które należy przejść: []\nodległość od wierzchołka nr 9 : 3 . Wierzchołki przez które należy przejść: []\n\n\nWierzchołek startowy: 1\nodległość od wierzchołka nr 0 : 5 . Wierzchołki przez które należy przejść: []\nodległość od wierzchołka nr 1 : 0 . Wierzchołki przez które należy przejść: []\nodległość od wierzchołka nr 2 : 9 . Wierzchołki przez które należy przejść: []\nodległość od wierzchołka nr 3 : 14 . Wierzchołki przez które należy przejść: [0]\nodległość od wierzchołka nr 4 : 8 . Wierzchołki przez które należy przejść: []\nodległość od wierzchołka nr 5 : 6 . Wierzchołki przez które należy przejść: []\nodległość od wierzchołka nr 6 : 8 . Wierzchołki przez które należy przejść: [0]\nodległość od wierzchołka nr 7 : 7 . Wierzchołki przez które należy przejść: []\nodległość od wierzchołka nr 8 : 8 . Wierzchołki przez które należy przejść: [0]\nodległość od wierzchołka nr 9 : 8 . Wierzchołki przez które należy przejść: [0]\n\n\nWierzchołek startowy: 2\nodległość od wierzchołka nr 0 : 8 . Wierzchołki przez które należy przejść: [6]\nodległość od wierzchołka nr 1 : 9 . Wierzchołki przez które należy przejść: []\nodległość od wierzchołka nr 2 : 0 . Wierzchołki przez które należy przejść: []\nodległość od wierzchołka nr 3 : 9 . Wierzchołki przez które należy przejść: []\nodległość od wierzchołka nr 4 : 4 . Wierzchołki przez które należy przejść: []\nodległość od wierzchołka nr 5 : 6 . Wierzchołki przez które należy przejść: [9, 4]\nodległość od wierzchołka nr 6 : 5 . Wierzchołki przez które należy przejść: []\nodległość od wierzchołka nr 7 : 3 . Wierzchołki przez które należy przejść: []\nodległość od wierzchołka nr 8 : 9 . Wierzchołki przez które należy przejść: [9]\nodległość od wierzchołka nr 9 : 2 . Wierzchołki przez które należy przejść: []\n\n\nWierzchołek startowy: 3\nodległość od wierzchołka nr 0 : 9 . Wierzchołki przez które należy przejść: []\nodległość od wierzchołka nr 1 : 14 . Wierzchołki przez które należy przejść: [0]\nodległość od wierzchołka nr 2 : 9 . Wierzchołki przez które należy przejść: []\nodległość od wierzchołka nr 3 : 0 . Wierzchołki przez które należy przejść: []\nodległość od wierzchołka nr 4 : 9 . Wierzchołki przez które należy przejść: [6]\nodległość od wierzchołka nr 5 : 11 . Wierzchołki przez które należy przejść: [6, 4]\nodległość od wierzchołka nr 6 : 8 . Wierzchołki przez które należy przejść: []\nodległość od wierzchołka nr 7 : 12 . Wierzchołki przez które należy przejść: [6, 2]\nodległość od wierzchołka nr 8 : 12 . Wierzchołki przez które należy przejść: [6, 0]\nodległość od wierzchołka nr 9 : 9 . Wierzchołki przez które należy przejść: []\n\n\nWierzchołek startowy: 4\nodległość od wierzchołka nr 0 : 4 . Wierzchołki przez które należy przejść: [6]\nodległość od wierzchołka nr 1 : 8 . Wierzchołki przez które należy przejść: []\nodległość od wierzchołka nr 2 : 4 . Wierzchołki przez które należy przejść: []\nodległość od wierzchołka nr 3 : 9 . Wierzchołki przez które należy przejść: [6]\nodległość od wierzchołka nr 4 : 0 . Wierzchołki przez które należy przejść: []\nodległość od wierzchołka nr 5 : 2 . Wierzchołki przez które należy przejść: []\nodległość od wierzchołka nr 6 : 1 . Wierzchołki przez które należy przejść: []\nodległość od wierzchołka nr 7 : 7 . Wierzchołki przez które należy przejść: [6, 2]\nodległość od wierzchołka nr 8 : 6 . Wierzchołki przez które należy przejść: [6]\nodległość od wierzchołka nr 9 : 5 . Wierzchołki przez które należy przejść: []\n\n\nWierzchołek startowy: 5\nodległość od wierzchołka nr 0 : 6 . Wierzchołki przez które należy przejść: [6]\nodległość od wierzchołka nr 1 : 6 . Wierzchołki przez które należy przejść: []\nodległość od wierzchołka nr 2 : 6 . Wierzchołki przez które należy przejść: [4]\nodległość od wierzchołka nr 3 : 11 . Wierzchołki przez które należy przejść: [6]\nodległość od wierzchołka nr 4 : 2 . Wierzchołki przez które należy przejść: []\nodległość od wierzchołka nr 5 : 0 . Wierzchołki przez które należy przejść: []\nodległość od wierzchołka nr 6 : 3 . Wierzchołki przez które należy przejść: [4]\nodległość od wierzchołka nr 7 : 9 . Wierzchołki przez które należy przejść: [6, 2]\nodległość od wierzchołka nr 8 : 8 . Wierzchołki przez które należy przejść: [4, 6]\nodległość od wierzchołka nr 9 : 7 . Wierzchołki przez które należy przejść: [4]\n\n\nWierzchołek startowy: 6\nodległość od wierzchołka nr 0 : 3 . Wierzchołki przez które należy przejść: []\nodległość od wierzchołka nr 1 : 8 . Wierzchołki przez które należy przejść: [4, 0]\nodległość od wierzchołka nr 2 : 5 . Wierzchołki przez które należy przejść: []\nodległość od wierzchołka nr 3 : 8 . Wierzchołki przez które należy przejść: []\nodległość od wierzchołka nr 4 : 1 . Wierzchołki przez które należy przejść: []\nodległość od wierzchołka nr 5 : 3 . Wierzchołki przez które należy przejść: [4]\nodległość od wierzchołka nr 6 : 0 . Wierzchołki przez które należy przejść: []\nodległość od wierzchołka nr 7 : 8 . Wierzchołki przez które należy przejść: [2]\nodległość od wierzchołka nr 8 : 5 . Wierzchołki przez które należy przejść: []\nodległość od wierzchołka nr 9 : 6 . Wierzchołki przez które należy przejść: []\n\n\nWierzchołek startowy: 7\nodległość od wierzchołka nr 0 : 11 . Wierzchołki przez które należy przejść: [1, 6]\nodległość od wierzchołka nr 1 : 7 . Wierzchołki przez które należy przejść: []\nodległość od wierzchołka nr 2 : 3 . Wierzchołki przez które należy przejść: []\nodległość od wierzchołka nr 3 : 12 . Wierzchołki przez które należy przejść: [2]\nodległość od wierzchołka nr 4 : 7 . Wierzchołki przez które należy przejść: [2]\nodległość od wierzchołka nr 5 : 9 . Wierzchołki przez które należy przejść: [9, 4]\nodległość od wierzchołka nr 6 : 8 . Wierzchołki przez które należy przejść: [2]\nodległość od wierzchołka nr 7 : 0 . Wierzchołki przez które należy przejść: []\nodległość od wierzchołka nr 8 : 8 . Wierzchołki przez które należy przejść: []\nodległość od wierzchołka nr 9 : 5 . Wierzchołki przez które należy przejść: [2]\n\n\nWierzchołek startowy: 8\nodległość od wierzchołka nr 0 : 8 . Wierzchołki przez które należy przejść: []\nodległość od wierzchołka nr 1 : 7 . Wierzchołki przez które należy przejść: []\nodległość od wierzchołka nr 2 : 3 . Wierzchołki przez które należy przejść: []\nodległość od wierzchołka nr 3 : 12 . Wierzchołki przez które należy przejść: [2]\nodległość od wierzchołka nr 4 : 6 . Wierzchołki przez które należy przejść: []\nodległość od wierzchołka nr 5 : 8 . Wierzchołki przez które należy przejść: [9, 4]\nodległość od wierzchołka nr 6 : 7 . Wierzchołki przez które należy przejść: [2, 4]\nodległość od wierzchołka nr 7 : 6 . Wierzchołki przez które należy przejść: [2]\nodległość od wierzchołka nr 8 : 0 . Wierzchołki przez które należy przejść: []\nodległość od wierzchołka nr 9 : 5 . Wierzchołki przez które należy przejść: [2]\n\n\nWierzchołek startowy: 9\nodległość od wierzchołka nr 0 : 11 . Wierzchołki przez które należy przejść: [8, 6]\nodległość od wierzchołka nr 1 : 12 . Wierzchołki przez które należy przejść: [2]\nodległość od wierzchołka nr 2 : 3 . Wierzchołki przez które należy przejść: []\nodległość od wierzchołka nr 3 : 9 . Wierzchołki przez które należy przejść: []\nodległość od wierzchołka nr 4 : 7 . Wierzchołki przez które należy przejść: [2]\nodległość od wierzchołka nr 5 : 8 . Wierzchołki przez które należy przejść: []\nodległość od wierzchołka nr 6 : 8 . Wierzchołki przez które należy przejść: [2]\nodległość od wierzchołka nr 7 : 6 . Wierzchołki przez które należy przejść: [2]\nodległość od wierzchołka nr 8 : 7 . Wierzchołki przez które należy przejść: []\nodległość od wierzchołka nr 9 : 0 . Wierzchołki przez które należy przejść: []\n\n\n"
     ]
    }
   ],
   "source": [
    "G1 = [[None, 5, None, 9, None, None, 3, None, 3, 3],\n",
    "    [5, None, 9, None, 8, 6, None, 7, None, None],\n",
    "    [None, 9, None, 9, 4, None, 5, 3, None, 2],\n",
    "    [9, None, 9, None, None, None, 8, None, None, 9],\n",
    "    [None, 8, 4, None, None, 2, 1, None, 7, 5],\n",
    "    [None, 6, None, None, 2, None, 6, None, None, None],\n",
    "    [3, None, 5, 8, 1, 6, None, 9, 5, 6],\n",
    "    [None, 7, 3, None, None, None, 9, None, 8, None],\n",
    "    [8, 7, 3, None, 6, None, None, None, 8, None],\n",
    "    [None, None, 3, 9, None, 8, 9, None, 7, None]]\n",
    "print(\"G1 = \")\n",
    "print_matrix(G1)\n",
    "d3 = Johnson(G1)\n",
    "print_johnson(d3)"
   ]
  },
  {
   "source": [
    "Algorytm działa poprawnie dla grafu z dodatnimi wagami"
   ],
   "cell_type": "markdown",
   "metadata": {}
  },
  {
   "cell_type": "code",
   "execution_count": 9,
   "metadata": {},
   "outputs": [
    {
     "output_type": "error",
     "ename": "ValueError",
     "evalue": "Negative Cycle!",
     "traceback": [
      "\u001b[1;31m---------------------------------------------------------------------------\u001b[0m",
      "\u001b[1;31mValueError\u001b[0m                                Traceback (most recent call last)",
      "\u001b[1;32m<ipython-input-9-2808e2966d27>\u001b[0m in \u001b[0;36m<module>\u001b[1;34m\u001b[0m\n\u001b[0;32m     10\u001b[0m     [None, None, 3, 9, None, 8, 9, None, -7, None]]\n\u001b[0;32m     11\u001b[0m \u001b[1;33m\u001b[0m\u001b[0m\n\u001b[1;32m---> 12\u001b[1;33m \u001b[0md4\u001b[0m \u001b[1;33m=\u001b[0m \u001b[0mJohnson\u001b[0m\u001b[1;33m(\u001b[0m\u001b[0mG2\u001b[0m\u001b[1;33m)\u001b[0m\u001b[1;33m\u001b[0m\u001b[1;33m\u001b[0m\u001b[0m\n\u001b[0m\u001b[0;32m     13\u001b[0m \u001b[1;33m\u001b[0m\u001b[0m\n\u001b[0;32m     14\u001b[0m \u001b[0mprint_johnson\u001b[0m\u001b[1;33m(\u001b[0m\u001b[0md4\u001b[0m\u001b[1;33m)\u001b[0m\u001b[1;33m\u001b[0m\u001b[1;33m\u001b[0m\u001b[0m\n",
      "\u001b[1;32m<ipython-input-7-c55541aeea96>\u001b[0m in \u001b[0;36mJohnson\u001b[1;34m(G)\u001b[0m\n\u001b[0;32m     87\u001b[0m     \u001b[0mG\u001b[0m\u001b[1;33m[\u001b[0m\u001b[0mlen\u001b[0m\u001b[1;33m(\u001b[0m\u001b[0mG\u001b[0m\u001b[1;33m)\u001b[0m\u001b[1;33m-\u001b[0m\u001b[1;36m1\u001b[0m\u001b[1;33m]\u001b[0m\u001b[1;33m[\u001b[0m\u001b[0mlen\u001b[0m\u001b[1;33m(\u001b[0m\u001b[0mG\u001b[0m\u001b[1;33m)\u001b[0m\u001b[1;33m-\u001b[0m\u001b[1;36m1\u001b[0m\u001b[1;33m]\u001b[0m \u001b[1;33m=\u001b[0m \u001b[1;32mNone\u001b[0m \u001b[1;31m#dodaję dodatkowy wierzchołek i tworzę odpowiednie połączenia - tzn z wierzchołka można dotrzeć wszędzie, ale z nikąd nie można dotrzeć do tego wierzchołka\u001b[0m\u001b[1;33m\u001b[0m\u001b[1;33m\u001b[0m\u001b[0m\n\u001b[0;32m     88\u001b[0m \u001b[1;33m\u001b[0m\u001b[0m\n\u001b[1;32m---> 89\u001b[1;33m     \u001b[0mmodified_weights\u001b[0m \u001b[1;33m=\u001b[0m \u001b[0mBellman_Ford\u001b[0m\u001b[1;33m(\u001b[0m\u001b[0mG\u001b[0m\u001b[1;33m,\u001b[0m \u001b[0ms\u001b[0m\u001b[1;33m=\u001b[0m\u001b[0mlen\u001b[0m\u001b[1;33m(\u001b[0m\u001b[0mG\u001b[0m\u001b[1;33m)\u001b[0m\u001b[1;33m-\u001b[0m\u001b[1;36m1\u001b[0m\u001b[1;33m)\u001b[0m \u001b[1;31m#uruchomienie Bellmana Forda dla dodanego wierzchołka\u001b[0m\u001b[1;33m\u001b[0m\u001b[1;33m\u001b[0m\u001b[0m\n\u001b[0m\u001b[0;32m     90\u001b[0m \u001b[1;33m\u001b[0m\u001b[0m\n\u001b[0;32m     91\u001b[0m     \u001b[0mG\u001b[0m\u001b[1;33m.\u001b[0m\u001b[0mpop\u001b[0m\u001b[1;33m(\u001b[0m\u001b[1;33m)\u001b[0m\u001b[1;33m\u001b[0m\u001b[1;33m\u001b[0m\u001b[0m\n",
      "\u001b[1;32m<ipython-input-7-c55541aeea96>\u001b[0m in \u001b[0;36mBellman_Ford\u001b[1;34m(G, s)\u001b[0m\n\u001b[0;32m     69\u001b[0m     \u001b[1;32mfor\u001b[0m \u001b[0mu\u001b[0m\u001b[1;33m,\u001b[0m \u001b[0mv\u001b[0m\u001b[1;33m,\u001b[0m \u001b[0mw\u001b[0m \u001b[1;32min\u001b[0m \u001b[0mE\u001b[0m\u001b[1;33m:\u001b[0m\u001b[1;33m\u001b[0m\u001b[1;33m\u001b[0m\u001b[0m\n\u001b[0;32m     70\u001b[0m         \u001b[1;32mif\u001b[0m \u001b[0md\u001b[0m\u001b[1;33m[\u001b[0m\u001b[0mu\u001b[0m\u001b[1;33m]\u001b[0m \u001b[1;33m+\u001b[0m \u001b[0mw\u001b[0m \u001b[1;33m<\u001b[0m \u001b[0md\u001b[0m\u001b[1;33m[\u001b[0m\u001b[0mv\u001b[0m\u001b[1;33m]\u001b[0m\u001b[1;33m:\u001b[0m \u001b[1;31m#wykrycie neatywnego cyklu\u001b[0m\u001b[1;33m\u001b[0m\u001b[1;33m\u001b[0m\u001b[0m\n\u001b[1;32m---> 71\u001b[1;33m             \u001b[1;32mraise\u001b[0m \u001b[0mValueError\u001b[0m\u001b[1;33m(\u001b[0m\u001b[1;34m\"Negative Cycle!\"\u001b[0m\u001b[1;33m)\u001b[0m\u001b[1;33m\u001b[0m\u001b[1;33m\u001b[0m\u001b[0m\n\u001b[0m\u001b[0;32m     72\u001b[0m \u001b[1;33m\u001b[0m\u001b[0m\n\u001b[0;32m     73\u001b[0m     '''for v in range(len(G)): #stworzenie drogi\n",
      "\u001b[1;31mValueError\u001b[0m: Negative Cycle!"
     ]
    }
   ],
   "source": [
    "G2 = [[None, -5, None, -9, None, None, -3, None, 3, 3],\n",
    "    [-5, None, 9, None, 8, 6, None, 7, None, None],\n",
    "    [None, 9, None, 9, 4, None, 5, 3, None, 2],\n",
    "    [-9, None, 9, None, None, None, -8, None, None, 9],\n",
    "    [None, 8, 4, None, None, 2, 1, None, 7, 5],\n",
    "    [None, 6, None, None, 2, None, 6, None, None, None],\n",
    "    [3, None, 5, 8, 1, 6, None, 9, 5, 6],\n",
    "    [None, 7, 3, None, None, None, 9, None, 8, None],\n",
    "    [8, 7, 3, None, 6, None, None, None, 8, None],\n",
    "    [None, None, 3, 9, None, 8, 9, None, -7, None]]\n",
    "\n",
    "d4 = Johnson(G2)\n",
    "\n",
    "print_johnson(d4)"
   ]
  },
  {
   "source": [
    "Zgodnie z oczekiwaniami został wykryty ujemny cykl."
   ],
   "cell_type": "markdown",
   "metadata": {}
  },
  {
   "cell_type": "code",
   "execution_count": 10,
   "metadata": {
    "tags": []
   },
   "outputs": [
    {
     "output_type": "stream",
     "name": "stdout",
     "text": [
      "\n\nWierzchołek startowy: 0\nodległość od wierzchołka nr 0 : 0 . Wierzchołki przez które należy przejść: []\nodległość od wierzchołka nr 1 : 10 . Wierzchołki przez które należy przejść: [8]\nodległość od wierzchołka nr 2 : 6 . Wierzchołki przez które należy przejść: [8]\nodległość od wierzchołka nr 3 : 9 . Wierzchołki przez które należy przejść: []\nodległość od wierzchołka nr 4 : 9 . Wierzchołki przez które należy przejść: [8]\nodległość od wierzchołka nr 5 : 16 . Wierzchołki przez które należy przejść: [9]\nodległość od wierzchołka nr 6 : 10 . Wierzchołki przez które należy przejść: [2, 4]\nodległość od wierzchołka nr 7 : 9 . Wierzchołki przez które należy przejść: [2]\nodległość od wierzchołka nr 8 : 3 . Wierzchołki przez które należy przejść: []\nodległość od wierzchołka nr 9 : 8 . Wierzchołki przez które należy przejść: [2]\n\n\nWierzchołek startowy: 1\nodległość od wierzchołka nr 0 : 23 . Wierzchołki przez które należy przejść: [3, 8]\nodległość od wierzchołka nr 1 : 0 . Wierzchołki przez które należy przejść: []\nodległość od wierzchołka nr 2 : 9 . Wierzchołki przez które należy przejść: []\nodległość od wierzchołka nr 3 : 18 . Wierzchołki przez które należy przejść: [2]\nodległość od wierzchołka nr 4 : 8 . Wierzchołki przez które należy przejść: []\nodległość od wierzchołka nr 5 : 6 . Wierzchołki przez które należy przejść: []\nodległość od wierzchołka nr 6 : 9 . Wierzchołki przez które należy przejść: [5, 4]\nodległość od wierzchołka nr 7 : 12 . Wierzchołki przez które należy przejść: [2]\nodległość od wierzchołka nr 8 : 15 . Wierzchołki przez które należy przejść: [9, 4]\nodległość od wierzchołka nr 9 : 11 . Wierzchołki przez które należy przejść: [2]\n\n\nWierzchołek startowy: 2\nodległość od wierzchołka nr 0 : 17 . Wierzchołki przez które należy przejść: [3, 8]\nodległość od wierzchołka nr 1 : 9 . Wierzchołki przez które należy przejść: []\nodległość od wierzchołka nr 2 : 0 . Wierzchołki przez które należy przejść: []\nodległość od wierzchołka nr 3 : 9 . Wierzchołki przez które należy przejść: []\nodległość od wierzchołka nr 4 : 4 . Wierzchołki przez które należy przejść: []\nodległość od wierzchołka nr 5 : 10 . Wierzchołki przez które należy przejść: [9]\nodległość od wierzchołka nr 6 : 5 . Wierzchołki przez które należy przejść: []\nodległość od wierzchołka nr 7 : 3 . Wierzchołki przez które należy przejść: []\nodległość od wierzchołka nr 8 : 9 . Wierzchołki przez które należy przejść: [9]\nodległość od wierzchołka nr 9 : 2 . Wierzchołki przez które należy przejść: []\n\n\nWierzchołek startowy: 3\nodległość od wierzchołka nr 0 : 9 . Wierzchołki przez które należy przejść: []\nodległość od wierzchołka nr 1 : 18 . Wierzchołki przez które należy przejść: [2]\nodległość od wierzchołka nr 2 : 9 . Wierzchołki przez które należy przejść: []\nodległość od wierzchołka nr 3 : 0 . Wierzchołki przez które należy przejść: []\nodległość od wierzchołka nr 4 : 13 . Wierzchołki przez które należy przejść: [2]\nodległość od wierzchołka nr 5 : 17 . Wierzchołki przez które należy przejść: [9]\nodległość od wierzchołka nr 6 : 14 . Wierzchołki przez które należy przejść: [9, 2]\nodległość od wierzchołka nr 7 : 12 . Wierzchołki przez które należy przejść: [2]\nodległość od wierzchołka nr 8 : 12 . Wierzchołki przez które należy przejść: [9, 0]\nodległość od wierzchołka nr 9 : 9 . Wierzchołki przez które należy przejść: []\n\n\nWierzchołek startowy: 4\nodległość od wierzchołka nr 0 : 15 . Wierzchołki przez które należy przejść: [8]\nodległość od wierzchołka nr 1 : 8 . Wierzchołki przez które należy przejść: []\nodległość od wierzchołka nr 2 : 10 . Wierzchołki przez które należy przejść: [8]\nodległość od wierzchołka nr 3 : 19 . Wierzchołki przez które należy przejść: [2]\nodległość od wierzchołka nr 4 : 0 . Wierzchołki przez które należy przejść: []\nodległość od wierzchołka nr 5 : 7 . Wierzchołki przez które należy przejść: [6]\nodległość od wierzchołka nr 6 : 1 . Wierzchołki przez które należy przejść: []\nodległość od wierzchołka nr 7 : 10 . Wierzchołki przez które należy przejść: [6]\nodległość od wierzchołka nr 8 : 7 . Wierzchołki przez które należy przejść: []\nodległość od wierzchołka nr 9 : 12 . Wierzchołki przez które należy przejść: [2]\n\n\nWierzchołek startowy: 5\nodległość od wierzchołka nr 0 : 17 . Wierzchołki przez które należy przejść: [8]\nodległość od wierzchołka nr 1 : 6 . Wierzchołki przez które należy przejść: []\nodległość od wierzchołka nr 2 : 12 . Wierzchołki przez które należy przejść: [8]\nodległość od wierzchołka nr 3 : 21 . Wierzchołki przez które należy przejść: [2]\nodległość od wierzchołka nr 4 : 2 . Wierzchołki przez które należy przejść: []\nodległość od wierzchołka nr 5 : 0 . Wierzchołki przez które należy przejść: []\nodległość od wierzchołka nr 6 : 3 . Wierzchołki przez które należy przejść: [4]\nodległość od wierzchołka nr 7 : 12 . Wierzchołki przez które należy przejść: [6]\nodległość od wierzchołka nr 8 : 9 . Wierzchołki przez które należy przejść: [4]\nodległość od wierzchołka nr 9 : 14 . Wierzchołki przez które należy przejść: [2]\n\n\nWierzchołek startowy: 6\nodległość od wierzchołka nr 0 : 23 . Wierzchołki przez które należy przejść: [8]\nodległość od wierzchołka nr 1 : 12 . Wierzchołki przez które należy przejść: [5]\nodległość od wierzchołka nr 2 : 12 . Wierzchołki przez które należy przejść: [7]\nodległość od wierzchołka nr 3 : 21 . Wierzchołki przez które należy przejść: [2]\nodległość od wierzchołka nr 4 : 8 . Wierzchołki przez które należy przejść: [5]\nodległość od wierzchołka nr 5 : 6 . Wierzchołki przez które należy przejść: []\nodległość od wierzchołka nr 6 : 0 . Wierzchołki przez które należy przejść: []\nodległość od wierzchołka nr 7 : 9 . Wierzchołki przez które należy przejść: []\nodległość od wierzchołka nr 8 : 15 . Wierzchołki przez które należy przejść: [7, 4]\nodległość od wierzchołka nr 9 : 14 . Wierzchołki przez które należy przejść: [2]\n\n\nWierzchołek startowy: 7\nodległość od wierzchołka nr 0 : 16 . Wierzchołki przez które należy przejść: [8]\nodległość od wierzchołka nr 1 : 7 . Wierzchołki przez które należy przejść: []\nodległość od wierzchołka nr 2 : 3 . Wierzchołki przez które należy przejść: []\nodległość od wierzchołka nr 3 : 12 . Wierzchołki przez które należy przejść: [2]\nodległość od wierzchołka nr 4 : 7 . Wierzchołki przez które należy przejść: [2]\nodległość od wierzchołka nr 5 : 13 . Wierzchołki przez które należy przejść: [9]\nodległość od wierzchołka nr 6 : 8 . Wierzchołki przez które należy przejść: [2]\nodległość od wierzchołka nr 7 : 0 . Wierzchołki przez które należy przejść: []\nodległość od wierzchołka nr 8 : 8 . Wierzchołki przez które należy przejść: []\nodległość od wierzchołka nr 9 : 5 . Wierzchołki przez które należy przejść: [2]\n\n\nWierzchołek startowy: 8\nodległość od wierzchołka nr 0 : 8 . Wierzchołki przez które należy przejść: []\nodległość od wierzchołka nr 1 : 7 . Wierzchołki przez które należy przejść: []\nodległość od wierzchołka nr 2 : 3 . Wierzchołki przez które należy przejść: []\nodległość od wierzchołka nr 3 : 12 . Wierzchołki przez które należy przejść: [2]\nodległość od wierzchołka nr 4 : 6 . Wierzchołki przez które należy przejść: []\nodległość od wierzchołka nr 5 : 13 . Wierzchołki przez które należy przejść: [9]\nodległość od wierzchołka nr 6 : 7 . Wierzchołki przez które należy przejść: [2, 4]\nodległość od wierzchołka nr 7 : 6 . Wierzchołki przez które należy przejść: [2]\nodległość od wierzchołka nr 8 : 0 . Wierzchołki przez które należy przejść: []\nodległość od wierzchołka nr 9 : 5 . Wierzchołki przez które należy przejść: [2]\n\n\nWierzchołek startowy: 9\nodległość od wierzchołka nr 0 : 15 . Wierzchołki przez które należy przejść: [3, 8]\nodległość od wierzchołka nr 1 : 12 . Wierzchołki przez które należy przejść: [2]\nodległość od wierzchołka nr 2 : 3 . Wierzchołki przez które należy przejść: []\nodległość od wierzchołka nr 3 : 9 . Wierzchołki przez które należy przejść: []\nodległość od wierzchołka nr 4 : 7 . Wierzchołki przez które należy przejść: [2]\nodległość od wierzchołka nr 5 : 8 . Wierzchołki przez które należy przejść: []\nodległość od wierzchołka nr 6 : 8 . Wierzchołki przez które należy przejść: [2]\nodległość od wierzchołka nr 7 : 6 . Wierzchołki przez które należy przejść: [2]\nodległość od wierzchołka nr 8 : 7 . Wierzchołki przez które należy przejść: []\nodległość od wierzchołka nr 9 : 0 . Wierzchołki przez które należy przejść: []\n\n\n"
     ]
    }
   ],
   "source": [
    "G3 = [[None, -5, None, 9, None, None, -3, None, 3, 3],\n",
    "    [5, None, 9, None, 8, 6, None, 7, None, None],\n",
    "    [None, 9, None, 9, 4, None, 5, 3, None, 2],\n",
    "    [9, None, 9, None, None, None, -8, None, None, 9],\n",
    "    [None, 8, 4, None, None, 2, 1, None, 7, 5],\n",
    "    [None, 6, None, None, 2, None, 6, None, None, None],\n",
    "    [3, None, 5, 8, 1, 6, None, 9, 5, 6],\n",
    "    [None, 7, 3, None, None, None, 9, None, 8, None],\n",
    "    [8, 7, 3, None, 6, None, None, None, None, None],\n",
    "    [None, None, 3, 9, None, 8, 9, None, 7, None]]\n",
    "d4 = Johnson(G3)\n",
    "\n",
    "print_johnson(d4)"
   ]
  },
  {
   "source": [
    "Niestety po wprowadzeniu ujemnych wag, algorytm przestaje działać poprawnie. Pomimo kilkunastogodzinnego szukania błędu, nie jestem w stanie stwierdzić, gdzie leży przyczyna. Wszystkie algorytmy wydają się byc zaimplementowane poprawnie. Bellman-Ford i Dijkstra samodzielnie również działają poprawnie."
   ],
   "cell_type": "markdown",
   "metadata": {}
  },
  {
   "source": [
    "**Zadanie 3.**\n",
    "  \n",
    "Złożoność obliczeniowa algorytmu:\n",
    "O(n^2log(n) + en), gdzie n jest liczbą wierzchołków, a e liczbą krawędzi. Najbardziej kosztowne czasowo jest wywołanie algorytmy Dijkstry dla każdego wierzchołka. Dla grafu rzadkiego (optymistyczny przypadek) algorytm Johnsona jest szybszy niż Floyda-Warshalla.  \n",
    "Złożoność pamięciowa jest zależna od wielkości grafu, jednak przez fakt, że jest on reprezentowany jako macierz, to puste połączenia również zajmują miejsce. Nie ma więc znaczenia czy posiada wiele wierzchołków/krawędzi.\n"
   ],
   "cell_type": "markdown",
   "metadata": {}
  }
 ]
}