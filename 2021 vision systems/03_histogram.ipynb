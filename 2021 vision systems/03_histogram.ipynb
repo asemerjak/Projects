{
 "cells": [
  {
   "cell_type": "markdown",
   "metadata": {
    "pycharm": {
     "name": "#%% md\n"
    }
   },
   "source": [
    "# Histogram obrazu. Wyrównywanie histogramu."
   ]
  },
  {
   "cell_type": "markdown",
   "source": [
    "## Cel ćwiczenia\n",
    "\n",
    "- Zapoznanie z pojęciem histogramu obrazu (w odcieniach szarości i kolorze).\n",
    "- Zapoznanie z metodami modyfikacji histogramu (rozciąganie, wyrównywanie, dopasowywanie)."
   ],
   "metadata": {
    "collapsed": false,
    "pycharm": {
     "name": "#%% md\n"
    }
   }
  },
  {
   "cell_type": "markdown",
   "source": [
    "## Histogram\n",
    "\n",
    "- Histogramem obrazu nazywamy wykres słupkowy zdefiniowany następującymi zależnościami:<br>\n",
    "\\begin{equation}\n",
    "h(i) = \\sum_{x=0}^{N-1} \\sum_{y=0}^{M-1} p(i,(x,y))\n",
    "\\end{equation}<br>\n",
    "gdzie:<br>\n",
    "\\begin{equation}\n",
    "p(i) =  \\left\\{\n",
    "  \\begin{array}{l l}\n",
    "    1 & \\quad \\text{gdy} f(x,y) = i\\\\\n",
    "    0 & \\quad \\text{gdy} f(x,y) \\ne i\n",
    "  \\end{array} \\right.\n",
    "\\end{equation}\n",
    "\n",
    "- Inaczej mówiąc, histogram zawiera informacje na temat tego ile pikseli o danym poziomie jasności występuje na obrazie (w przypadku obrazu w odcieniach szarości). Określa się to także rozkładem empirycznym cechy.\n",
    "\n",
    "- Często wykorzystuje się tzw. znormalizowaną postać histogramu  – wszystkie wartości $h(i)$ są dzielone przez liczbę pikseli na obrazie.\n",
    "Otrzymana w ten sposób wielkość to gęstość prawdopodobieństwa wystąpienia na obrazie pikseli o odcieniu $i$.\n",
    "\n",
    "- Histogram można zdefiniować również dla obrazów kolorowych.\n",
    "Otrzymujemy wtedy 3 histogramy – po jednym dla danej składowej: R,G,B (lub HSV, YCbCr, itp.) lub histogram trójwymiarowy.\n",
    "\n",
    "- Histogram jest bardzo użyteczny w przetwarzaniu i analizie obrazów.\n",
    "Wykorzystywany jest przy binaryzacji (szerzej na jednym z kolejnych laboratoriów) oraz do oceny jakości (dynamiki, kontrastu) obrazu.\n",
    "W idealnym przypadku wszystkie poziomy jasności w obrazie powinny być wykorzystane (i to najlepiej w miarę jednolicie)  – obrazowo mówiąc histogram powinien rozciągać się od 0  – 255 (obraz w skali szarości).\n",
    "\n",
    "- W przypadku gdy  wykorzystujemy jedynie fragment dostępnego zakresu (wąski histogram)  lub histogram nie jest jednolity (występują dominujące grupy pikseli) obraz ma dość słaby kontrast.\n",
    "Cechę tę można poprawić stosując tzw. rozciąganie albo wyrównywanie histogramu (ang. *histogram equalization*).</div>"
   ],
   "metadata": {
    "collapsed": false,
    "pycharm": {
     "name": "#%% md\n"
    }
   }
  },
  {
   "cell_type": "markdown",
   "source": [
    "## Histogram dla obrazów w odcieniach szarości\n",
    "\n",
    "1. Zaimportuj potrzebne biblioteki: *OpenCV*, *pyplot* z *matplotlib* i *numpy*.\n",
    "        import cv2\n",
    "        from matplotlib import pyplot as plt\n",
    "        import numpy as np\n",
    "2. Wczytaj obrazy *lenaX.bmp* w skali szarości. *X* jest numerem wczytywanego obrazu (1 - 4).\n",
    "        I = cv2.imread('lenaX.bmp', cv2.IMREAD_GRAYSCALE)\n",
    "3. Oblicz histogram wczytanego obrazu wykorzystując funkcję `cv2.calcHist`.\n",
    "    - Pierwszym argumentem jest obraz, dla którego obliczony zostanie histogram.\n",
    "    Należy go przekazać w nawiasie kwadratowym.\n",
    "    - Drugim argumentem jest numer kanału, dla którego ma zostać obliczony histogram.\n",
    "    Również powinien być przekazany w nawiasie kwadratowym.\n",
    "    - Trzeci argument oznacza maskę, czyli obszar, dla którego ma zostać wyznaczony histogram.\n",
    "    Aby obliczyć dla całego obrazu należy przekazać *None*.\n",
    "    - Czwartym argumentem jest rozmiar histogramu (liczba przedziałów).\n",
    "    Argument powinien być w nawiasie kwadratowym. Dla pełnej skali należy przekazać wartość *256*.\n",
    "    - Ostatnim argumentem jest zakres wartości. Dla obrazów typu *uint8* powinien on wynosić *[0, 256]*.\n",
    "    - Funkcja zwraca obliczony histogram.\n",
    "4. Wyświetl wczytane obrazy i ich histogramy w jednym oknie. Użyj `plt.subplot()` w celu stworzenia siatki wykresów.\n",
    "        figLena, axsLena = plt.subplots(2, 4)\n",
    "Rozmiar utworzonego okna można zmienić wykorzystując instrukcję (uwaga w calach -  1 cal to 2.54cm):\n",
    "        figLena.set_size_inches(20, 10)\n",
    "Przykładowe wyświetlenie obrazu:\n",
    "        axsLena[0, 0].imshow(I1, 'gray', vmin=0, vmax=256)\n",
    "        axsLena[0, 0].axis('off')\n",
    "Przykładowe wyświetlenie histogramu:\n",
    "        axsLena[1, 0].plot(H1)\n",
    "        axsLena[1, 0].grid()\n",
    "5. Przeanalizuj (dokładnie) związek histogramu z jasnością i ostrością obrazu (tu rozumianą jako subiektywne odczucie)."
   ],
   "metadata": {
    "collapsed": false,
    "pycharm": {
     "name": "#%% md\n"
    }
   }
  },
  {
   "cell_type": "code",
   "execution_count": null,
   "metadata": {
    "pycharm": {
     "name": "#%% Zadanie 1 - wyświetlanie\n"
    }
   },
   "outputs": [],
   "source": [
    "import cv2\n",
    "import os\n",
    "from matplotlib import pyplot as plt\n",
    "import numpy as np\n",
    "\n",
    "if not os.path.exists(\"lena1.bmp\") :\n",
    "    !wget https://raw.githubusercontent.com/vision-agh/poc_sw/master/03_Histogram/lena1.bmp --no-check-certificate\n",
    "\n",
    "if not os.path.exists(\"lena2.bmp\") :\n",
    "    !wget https://raw.githubusercontent.com/vision-agh/poc_sw/master/03_Histogram/lena2.bmp --no-check-certificate\n",
    "\n",
    "if not os.path.exists(\"lena3.bmp\") :\n",
    "    !wget https://raw.githubusercontent.com/vision-agh/poc_sw/master/03_Histogram/lena3.bmp --no-check-certificate\n",
    "\n",
    "if not os.path.exists(\"lena4.bmp\") :\n",
    "    !wget https://raw.githubusercontent.com/vision-agh/poc_sw/master/03_Histogram/lena4.bmp --no-check-certificate\n",
    "\n",
    "lena1 = cv2.imread('lena1.bmp', cv2.IMREAD_GRAYSCALE)\n",
    "lena2 = cv2.imread('lena2.bmp', cv2.IMREAD_GRAYSCALE)\n",
    "lena3 = cv2.imread('lena3.bmp', cv2.IMREAD_GRAYSCALE)\n",
    "lena4 = cv2.imread('lena4.bmp', cv2.IMREAD_GRAYSCALE)"
   ]
  },
  {
   "cell_type": "code",
   "execution_count": null,
   "metadata": {},
   "outputs": [],
   "source": [
    "hist_lena1 = cv2.calcHist([lena1], [0], None, [256], [0, 256])\n",
    "hist_lena2 = cv2.calcHist([lena2], [0], None, [256], [0, 256])\n",
    "hist_lena3 = cv2.calcHist([lena3], [0], None, [256], [0, 256])\n",
    "hist_lena4 = cv2.calcHist([lena4], [0], None, [256], [0, 256])\n",
    "\n",
    "figLena, axsLena = plt.subplots(2, 4)\n",
    "figLena.set_size_inches(20, 10)\n",
    "axsLena[0, 0].imshow(lena1, 'gray', vmin=0, vmax=256)\n",
    "axsLena[0, 0].axis('off')\n",
    "axsLena[1, 0].plot(hist_lena1)\n",
    "axsLena[1, 0].grid()\n",
    "\n",
    "axsLena[0, 1].imshow(lena2, 'gray', vmin=0, vmax=256)\n",
    "axsLena[0, 1].axis('off')\n",
    "axsLena[1, 1].plot(hist_lena2)\n",
    "axsLena[1, 1].grid()\n",
    "\n",
    "axsLena[0, 2].imshow(lena3, 'gray', vmin=0, vmax=256)\n",
    "axsLena[0, 2].axis('off')\n",
    "axsLena[1, 2].plot(hist_lena3)\n",
    "axsLena[1, 2].grid()\n",
    "\n",
    "axsLena[0, 3].imshow(lena4, 'gray', vmin=0, vmax=256)\n",
    "axsLena[0, 3].axis('off')\n",
    "axsLena[1, 3].plot(hist_lena4)\n",
    "axsLena[1, 3].grid()"
   ]
  },
  {
   "source": [
    "Dla pierwszego obrazu histogram jest rozłożony dosyć równomiernie na środku, jedyne wyraźne spadki występują na brzegach przedziału. Obraz ma najlepszą ostrość. Drugi histogram składa się jedynie z wartości z przedziału około 75-150. Obraz sam w sobie ma bardzo niski kontrast i jest szary, a jego 'ostrość' jest najmniejsza. Kolejny (trzeci) obraz jest prześwietlony, ale dosyć ostry. Na histogramie widzimy niskie wartości dla zakresu 90-250 oraz bardzo wysokie dla >250. Ostatni obraz jest ciemny, o umiarkowanej ostrości. Dla wartości 0 osiąga bardzo wysoką wartość, dla przedziału 0-150 - wartości umiarkowane, a dla >150 bliskie zeru."
   ],
   "cell_type": "markdown",
   "metadata": {}
  },
  {
   "cell_type": "markdown",
   "source": [
    "## Rozciąganie histogramu\n",
    "\n",
    "Najprostszą metodą poprawienia jakości obrazu jest tzw. rozciągnięcie histogramu.\n",
    "Polega na przeskalowaniu wartości pikseli w obrazie tak, aby wykorzystać cały dostępny zakres [0-255] (oczywiście w przypadku obrazów w odcieniach szarości w reprezentacji 8-bitowej).\n",
    "\n",
    "1. Wczytaj obraz *hist1.bmp* w skali szarości.\n",
    "Oblicz i wyświetl histogram rozpatrywanego obrazu (na wspólnym rysunku z obrazem).\n",
    "Zwróć uwagę na ilość widocznych szczegółów.\n",
    "2. Rozciągnij histogram obrazu. W tym celu można wykorzystać funkcję `cv2.normalize`.\n",
    "    - Pierwszym argumentem funkcji jest obraz poddawany operacji.\n",
    "    - Drugim argumentem jest tablica do której zostanie wpisany wynik.\n",
    "    Należy ją najpierw zainicjalizować.\n",
    "    Najlepiej zrobić to funkcją `np.zeros`, której pierwszym argumentem jest rozmiar obrazu (`I.shape`), a drugim typ danych (`uint8`).\n",
    "    Można również przekazać `None`, a wynik przypisać do nowej zmiennej.\n",
    "    - Trzecim argumentem jest minimalna wartość po normalizacji.\n",
    "    - Czwartym argumentem jest wartość maksymalna po normalizacji.\n",
    "    - Ostatnim argumentem jest typ wykorzystanej normy (uogólnienie pojęcia długości wektora).\n",
    "    Należy wykorzystać normę `cv2.NORM_MINMAX`.\n",
    "3. Rezultat operacji wyświetl (obraz i jego histogram).\n",
    "4. Czy ilość \"widocznych\" szczegółów uległa zmianie?"
   ],
   "metadata": {
    "collapsed": false,
    "pycharm": {
     "name": "#%% md\n"
    }
   }
  },
  {
   "cell_type": "code",
   "execution_count": null,
   "outputs": [],
   "source": [
    "if not os.path.exists(\"hist1.bmp\") :\n",
    "    !wget https://raw.githubusercontent.com/vision-agh/poc_sw/master/03_Histogram/hist1.bmp --no-check-certificate\n",
    "\n",
    "if not os.path.exists(\"hist2.bmp\") :\n",
    "    !wget https://raw.githubusercontent.com/vision-agh/poc_sw/master/03_Histogram/hist2.bmp --no-check-certificate\n",
    "\n",
    "if not os.path.exists(\"hist3.bmp\") :\n",
    "    !wget https://raw.githubusercontent.com/vision-agh/poc_sw/master/03_Histogram/hist3.bmp --no-check-certificate\n",
    "\n",
    "if not os.path.exists(\"hist4.bmp\") :\n",
    "    !wget https://raw.githubusercontent.com/vision-agh/poc_sw/master/03_Histogram/hist4.bmp --no-check-certificate\n",
    "\n",
    "\n",
    "hist1 = cv2.imread('hist1.bmp', cv2.IMREAD_GRAYSCALE)\n",
    "hist2 = cv2.imread('hist2.bmp', cv2.IMREAD_GRAYSCALE)\n",
    "hist3 = cv2.imread('hist3.bmp', cv2.IMREAD_GRAYSCALE)\n",
    "hist4 = cv2.imread('hist4.bmp', cv2.IMREAD_GRAYSCALE)"
   ],
   "metadata": {
    "collapsed": false,
    "pycharm": {
     "name": "#%% Zadanie 2 - rozciąganie\n"
    }
   }
  },
  {
   "cell_type": "code",
   "execution_count": null,
   "metadata": {},
   "outputs": [],
   "source": [
    "hist_hist1 = cv2.calcHist([hist1], [0], None, [256], [0, 256])\n",
    "hist_hist2 = cv2.calcHist([hist2], [0], None, [256], [0, 256])\n",
    "hist_hist3 = cv2.calcHist([hist3], [0], None, [256], [0, 256])\n",
    "hist_hist4 = cv2.calcHist([hist4], [0], None, [256], [0, 256])\n",
    "\n",
    "figHist, axsHist = plt.subplots(2, 4)\n",
    "figHist.set_size_inches(20, 10)\n",
    "axsHist[0, 0].imshow(hist1, 'gray', vmin=0, vmax=256)\n",
    "axsHist[0, 0].axis('off')\n",
    "axsHist[1, 0].plot(hist_hist1)\n",
    "axsHist[1, 0].grid()\n",
    "\n",
    "axsHist[0, 1].imshow(hist2, 'gray', vmin=0, vmax=256)\n",
    "axsHist[0, 1].axis('off')\n",
    "axsHist[1, 1].plot(hist_hist2)\n",
    "axsHist[1, 1].grid()\n",
    "\n",
    "axsHist[0, 2].imshow(hist3, 'gray', vmin=0, vmax=256)\n",
    "axsHist[0, 2].axis('off')\n",
    "axsHist[1, 2].plot(hist_hist3)\n",
    "axsHist[1, 2].grid()\n",
    "\n",
    "axsHist[0, 3].imshow(hist4, 'gray', vmin=0, vmax=256)\n",
    "axsHist[0, 3].axis('off')\n",
    "axsHist[1, 3].plot(hist_hist4)\n",
    "axsHist[1, 3].grid()"
   ]
  },
  {
   "cell_type": "code",
   "execution_count": null,
   "metadata": {},
   "outputs": [],
   "source": [
    "hist1_norm = cv2.normalize(hist1, None, 0, 255, cv2.NORM_MINMAX)\n",
    "hist2_norm = cv2.normalize(hist2, None, 0, 255, cv2.NORM_MINMAX)\n",
    "hist3_norm = cv2.normalize(hist3, None, 0, 255, cv2.NORM_MINMAX)\n",
    "hist4_norm = cv2.normalize(hist4, None, 0, 255, cv2.NORM_MINMAX)\n",
    "\n",
    "hist_hist1_norm = cv2.calcHist([hist1_norm], [0], None, [256], [0, 256])\n",
    "hist_hist2_norm = cv2.calcHist([hist2_norm], [0], None, [256], [0, 256])\n",
    "hist_hist3_norm = cv2.calcHist([hist3_norm], [0], None, [256], [0, 256])\n",
    "hist_hist4_norm = cv2.calcHist([hist4_norm], [0], None, [256], [0, 256])\n",
    "\n",
    "figHist_norm, axsHist_norm = plt.subplots(2, 4)\n",
    "figHist_norm.set_size_inches(20, 10)\n",
    "axsHist_norm[0, 0].imshow(hist1_norm, 'gray', vmin=0, vmax=256)\n",
    "axsHist_norm[0, 0].axis('off')\n",
    "axsHist_norm[1, 0].plot(hist_hist1_norm)\n",
    "axsHist_norm[1, 0].grid()\n",
    "\n",
    "axsHist_norm[0, 1].imshow(hist2_norm, 'gray', vmin=0, vmax=256)\n",
    "axsHist_norm[0, 1].axis('off')\n",
    "axsHist_norm[1, 1].plot(hist_hist2_norm)\n",
    "axsHist_norm[1, 1].grid()\n",
    "\n",
    "axsHist_norm[0, 2].imshow(hist3_norm, 'gray', vmin=0, vmax=256)\n",
    "axsHist_norm[0, 2].axis('off')\n",
    "axsHist_norm[1, 2].plot(hist_hist3_norm)\n",
    "axsHist_norm[1, 2].grid()\n",
    "\n",
    "axsHist_norm[0, 3].imshow(hist4_norm, 'gray', vmin=0, vmax=256)\n",
    "axsHist_norm[0, 3].axis('off')\n",
    "axsHist_norm[1, 3].plot(hist_hist4_norm)\n",
    "axsHist_norm[1, 3].grid()"
   ]
  },
  {
   "source": [
    "Dla pierwszego obrazu normalizacja zadziałała bardzo dobrze - otrzymaliśmy równomiernie rozłożone wartości szczytujące dla około 125 (czyli równo połowy). Obraz ma większy kontrast i jest wyraźniejszy, uwidoczniła się spirala zamiast szarej plamy. Drugi obraz również został odpowiednio znormalizowany, zwiększył się jego kontrast, a wartości na histogramie sa bardziej rozciągnięte. Dla obrazu trzeciego i czwartego niewiele się zmieniło, a to dlatego, że ich wartości już były duże na brzegach, ewentualnym problemem było ich nierównomierne rozłożenie - czyli zbyt duży kontrast obrazu."
   ],
   "cell_type": "markdown",
   "metadata": {}
  },
  {
   "cell_type": "markdown",
   "source": [
    "## Wyrównywanie histogramu\n",
    "\n",
    "<div style=\"text-align: justify\">\n",
    "Bardziej zaawansowaną metodą jest tzw. wyrównywanie histogramu (ang. *histogram equalization – HE*).\n",
    "Idea jest następująca: z punktu widzenia lepszego wykorzystania dostępnych poziomów jasności pożądane jest rozciągnięcie \"szczytów\" histogramu, a~skompresowanie \"dolin\" tak, aby taka sama liczba pikseli reprezentowana była przez każdy z dostępnych poziomów jasności (a przynjamniej przybliżona).\n",
    "Warto zwrócić uwagę, że takie przekształcenie powoduje częściową utratę informacji o szczegółach w obszarach \"dolin\".\n",
    "Inaczej mówiąc, dążymy do sytuacji, aby histogram był względnie jednostajny.\n",
    "Operacją, która pozwala wykonać wyrównywanie histogramu, jest przekształcenie LUT z funkcją przejścia w postaci histogramu skumulowanego danego obrazu.</div><br>\n",
    "\n",
    "<div style=\"text-align: justify\">\n",
    "Histogram skumulowany to funkcja obliczona na podstawie histogramu.\n",
    "Jej pierwszy element to liczba pikseli o odcieniu $0$.\n",
    "Kolejne wartości to liczba pikseli o odcieniach od $0$ do $n$.</div>\n",
    "\n",
    "\\begin{equation}\n",
    "C(n) = \\sum_{i=0}^{n} h(i)\n",
    "\\end{equation}\n",
    "\n",
    "<div style=\"text-align: justify\">\n",
    "Jeżeli histogram jest w postaci znormalizowanej (gęstość rozkładu prawdopodobieństwa) to histogram skumulowany stanowi dystrybuantę rozkładu prawdopodobieństwa.</div><br>\n",
    "\n",
    "1. Wyznacz histogram skumulowany dla obrazu *hist1.bmp*.\n",
    "W tym celu wykorzystaj metodę `cumsum` dla histogramu wczytanego obrazu.\n",
    "Nie przyjmuje ona żadnych argumentów, a zwraca skumulowane wartości tablicy, dla której została użyta.\n",
    "Histogram należy wyliczyć dla **obrazka wejściowego**, a nie dla wyniku rozciągania.\n",
    "2. Histogram skumulowany wyświetl razem z histogramem zwykłym na jednym wykresie (nie obok siebie).\n",
    "Na potrzeby wyświetlenia przeskaluj histogram skumulowany tak, by miał taką samą wartość maksymalną jak zwykły histogram.\n",
    "W tym celu wykorzystaj metodę `max`.\n",
    "3. Wyświetlenie kilku linii na jednym wykresie może być zrealizowane w następujący sposób:\n",
    "        figHistCum, axsHistCum = plt.subplots()\n",
    "\n",
    "        axsHistCum.plot(HHist)\n",
    "        axsHistCum.plot(CHistNorm)\n",
    "        axsHistCum.grid()\n",
    "4. Teraz zaimplementuj klasyczny algorytm wyrównywania histogramu.\n",
    "Wykorzystać należy obliczony histogram skumulowany.\n",
    "Należy go przeskalować w taki sposób aby na jego podstawie zrealizować przekształcenie LUT, czyli do zakresu 0 - 255.\n",
    "\n",
    ">Uwaga. Opisany algorytm wyrównywania histogramu jest wersją uproszczoną.\n",
    ">W wersji pełnej należy podczas skalowania tablicy przekodowań LUT pominąć elementy równe *0*.\n",
    ">\n",
    ">W tym celu należy wykorzystać funkcje `np.ma.masked_equal` i `np.ma.filled`.\n",
    ">Pierwsza służy do ukrywania elementów tablicy, natomiast druga zamienia ukryte elementy na podaną wartość.\n",
    ">W tym przypadku elementem ukrywanym i wpisywaną wartością byłoby *0*.\n",
    "\n",
    "5. Na kolejnym rysunku wyświetl obrazek po przekształceniu, jego histogram oraz histogram skumulowany.\n",
    "Co szczególnego można powiedzieć o jego histogramie i histogramie skumulowanym?\n",
    "6. W bibliotece *OpenCV* dostępna jest funkcja wykonująca wyrównywanie histogramu `cv2.equalizeHist`.\n",
    "Jej argumentem jest obraz, którego histogram zostanie wyrównany. Zwraca natomiast obraz wynikowy.\n",
    "Na kolejnym rysunku wyświetl wynik funkcji, jego histogram oraz histogram skumulowany.\n",
    "7. W wykorzystywanej bibliotece zaimplementowana jest również metoda adaptacyjnego wyrównywania histogramu algorytmem CLAHE (ang. *Contrast Limited Adaptive Histogram Equalization*}.\n",
    "   Kilka słów wyjaśnienia.\n",
    "   Wadą poznanej metody HE jest jej \"globalność\" rozumiana jako nieuwzględnianie lokalnych właściwości obrazu.\n",
    "   Dlatego też powstała metoda adaptacyjnego wyrównywania histogramu (AHE).\n",
    "   Jest ona spotykana w dwóch wariantach:\n",
    "   - dla każdego piksela niezależnie, w pewnym jego otoczeniu, wyznaczany jest histogram i przeprowadzane wyrównywanie.\n",
    "     Jak nietrudno się domyślić rozwiązanie jest dość kosztowne obliczeniowo.\n",
    "   - obraz wejściowy dzielony jest na nienachodzące na siebie prostokątne okna.\n",
    "     W każdym z okien obliczany jest histogram i przeprowadzane jest wyrównywanie.\n",
    "     W celu eliminacji błędów na granicy okien, stosuje się interpolację.\n",
    "\n",
    "   Metoda AHE ma jednak tą wadę, że w obszarach jednorodnych wzmacnia szum.\n",
    "   Dlatego też zaproponowano rozwiązanie CLAHE, które zakłada ograniczenie kontrastu (CL).\n",
    "   W metodzie definiuje się maksymalną wartość danego przedziału histogramu (próg ograniczenia kontrastu).\n",
    "   Piksele, które przekraczają próg są następnie równomiernie rozdzielane pomiędzy poszczególne przedziały.\n",
    "   Bardziej szczegółowy opis obu metod dostępny jest na [Wikipedii](https://en.wikipedia.org/wiki/Adaptive_histogram_equalization).\n",
    "\n",
    "8.W celu użycia algorytmu należy wywołać funkcję `cv2.createCLAHE`.\n",
    "    - Pierwszym parametrem jest próg ograniczenia kontrastu.\n",
    "    - Drugi parametr definiuje na ile prostokątów zostanie podzielony obraz w rzęch i kolumnach.\n",
    "    - Zwracany jest zainicjalizowany *smart pointer* do klasy `cv::CLAHE`.\n",
    "9. Aby wykonać wyrównywanie należy użyć metody `apply`.\n",
    "Jej argumentem jest obraz wejściowy. Zwracany jest obraz o zmodyfikowanym histogramie.\n",
    "10. Przetestuj różne parametry algorytmu CLAHE.\n",
    "11. W kolejnym etapie należy przetestować operacje (rozciąganie, wyrównywanie (HE) i adaptacyjne wyrównywanie CLAHE)  na histogramie dla obrazów rzeczywistych. *hist2.bmp*, *hist3.bmp*, *hist4.jpg*.\n",
    "W jednym oknie wyświetl: obraz oryginalny, rozciąganie, wyrównywanie HE oraz wyrównywanie CLAHE."
   ],
   "metadata": {
    "collapsed": false,
    "pycharm": {
     "name": "#%% md\n"
    }
   }
  },
  {
   "cell_type": "code",
   "execution_count": null,
   "outputs": [],
   "source": [
    "hist1_cs = np.cumsum(hist_hist1)\n",
    "hist1_cs = hist1_cs*hist_hist1.max()/(hist1_cs.max())\n",
    "plt.plot(hist_hist1, label='histogram')\n",
    "plt.plot(hist1_cs, label='histogram skumulowany')\n",
    "plt.title(\"Wykres histogramu oraz histogramu skumulowanego\")\n",
    "plt.legend()\n",
    "plt.grid()\n",
    "plt.show()"
   ],
   "metadata": {
    "collapsed": false,
    "pycharm": {
     "name": "#%% Zadanie 3 - histogram skumulowany\n"
    }
   }
  },
  {
   "cell_type": "code",
   "execution_count": null,
   "outputs": [],
   "source": [
    "hist1_cs_0255 = hist1_cs*255/(hist1_cs.max())\n",
    "hist1_lut = cv2.LUT(hist1, hist1_cs_0255)\n",
    "\n",
    "\n",
    "hist_hist1_lut = cv2.calcHist([hist1_lut], [0], None, [256], [0, 256])\n",
    "\n",
    "hist1_cs_lut = np.cumsum(hist_hist1_lut)\n",
    "hist1_cs_lut = hist1_cs_lut*hist_hist1_lut.max()/(hist1_cs_lut.max())\n",
    "\n",
    "figHist1Lut, axHist1Lut = plt.subplots(1, 2)\n",
    "figHist1Lut.set_size_inches(10, 5)\n",
    "axHist1Lut[0].imshow(hist1_lut, 'gray', vmin=0, vmax=256)\n",
    "axHist1Lut[0].axis(\"off\")\n",
    "\n",
    "axHist1Lut[1].plot(hist_hist1_lut)\n",
    "axHist1Lut[1].plot(hist1_cs_lut)\n",
    "axHist1Lut[1].grid()"
   ],
   "metadata": {
    "collapsed": false,
    "pycharm": {
     "name": "#%% Zadanie 3 - wyrównywanie\n"
    }
   }
  },
  {
   "source": [
    "Obraz po przekształceniu ma dużo większy kontrast. Jego histogram jest rozłożony bardzo równomiernie, a histogram skumulowany wzrasta liniowo ('schodkami')."
   ],
   "cell_type": "markdown",
   "metadata": {}
  },
  {
   "cell_type": "code",
   "execution_count": null,
   "outputs": [],
   "source": [
    "hist1_cv2 = cv2.equalizeHist(hist1)\n",
    "hist_hist1_cv2 = cv2.calcHist([hist1_cv2], [0], None, [256], [0, 256])\n",
    "hist1_cs_cv2 = np.cumsum(hist_hist1_lut)\n",
    "hist1_cs_cv2 = hist1_cs_cv2*hist_hist1_cv2.max()/(hist1_cs_cv2.max())\n",
    "\n",
    "figHist1cv2, axHist1cv2 = plt.subplots(1, 2)\n",
    "figHist1cv2.set_size_inches(10, 5)\n",
    "axHist1cv2[0].imshow(hist1_cv2, 'gray', vmin=0, vmax=256)\n",
    "axHist1cv2[0].axis(\"off\")\n",
    "\n",
    "axHist1cv2[1].plot(hist_hist1_cv2)\n",
    "axHist1cv2[1].plot(hist1_cs_cv2)\n",
    "axHist1cv2[1].grid()"
   ],
   "metadata": {
    "collapsed": false,
    "pycharm": {
     "name": "#%% Zadanie 3 - wyrównywanie OpenCV\n"
    }
   }
  },
  {
   "source": [
    "Otrzymujemy bardzo podobny efekt, jak poprzednio w przypadku 'ręcznego' przekształcenia."
   ],
   "cell_type": "markdown",
   "metadata": {}
  },
  {
   "cell_type": "code",
   "execution_count": null,
   "outputs": [],
   "source": [
    "clahe_param1 = cv2.createCLAHE(clipLimit=10, tileGridSize=(2, 2))\n",
    "clahe1_param1 = clahe_param1.apply(hist1)\n",
    "plt.imshow(clahe1_param1, 'gray', vmin=0, vmax=256)\n",
    "plt.xticks([]), plt.yticks([])\n",
    "plt.show()\n",
    "\n",
    "clahe_param2 = cv2.createCLAHE(clipLimit=2, tileGridSize=(2, 2))\n",
    "clahe1_param2 = clahe_param2.apply(hist1)\n",
    "plt.imshow(clahe1_param2, 'gray', vmin=0, vmax=256)\n",
    "plt.xticks([]), plt.yticks([])\n",
    "plt.show()\n",
    "\n",
    "clahe_param3 = cv2.createCLAHE(clipLimit=10, tileGridSize=(15, 15))\n",
    "clahe1_param3 = clahe_param3.apply(hist1)\n",
    "plt.imshow(clahe1_param3, 'gray', vmin=0, vmax=256)\n",
    "plt.xticks([]), plt.yticks([])\n",
    "plt.show()\n",
    "\n",
    "clahe_param4 = cv2.createCLAHE(clipLimit=20, tileGridSize=(20, 20))\n",
    "clahe1_param4 = clahe_param4.apply(hist1)\n",
    "plt.imshow(clahe1_param4, 'gray', vmin=0, vmax=256)\n",
    "plt.xticks([]), plt.yticks([])\n",
    "plt.show()"
   ],
   "metadata": {
    "collapsed": false,
    "pycharm": {
     "name": "#%% Zadanie 3 - CLAHE\n"
    }
   }
  },
  {
   "source": [
    "Manipluacja parametrami daje różne wersje poziomu kontrastu."
   ],
   "cell_type": "markdown",
   "metadata": {}
  },
  {
   "cell_type": "code",
   "execution_count": null,
   "metadata": {},
   "outputs": [],
   "source": [
    "for img in [hist1, hist2, hist3, hist4]:\n",
    "    fig, ax = plt.subplots(1, 4)\n",
    "    fig.set_size_inches(20, 5)\n",
    "    ax[0].imshow(img, 'gray', vmin=0, vmax=256)\n",
    "    ax[0].axis('off')\n",
    "    ax[0].set_title(\"obraz oryginalny\")\n",
    "\n",
    "    img_norm = cv2.normalize(img, None, 0, 255, cv2.NORM_MINMAX)\n",
    "    ax[1].imshow(img_norm, 'gray', vmin=0, vmax=256)\n",
    "    ax[1].axis('off')\n",
    "    ax[1].set_title(\"rozciąganie\")\n",
    "\n",
    "    img_equal = cv2.equalizeHist(img)\n",
    "    ax[2].imshow(img_equal, 'gray', vmin=0, vmax=256)\n",
    "    ax[2].axis('off')\n",
    "    ax[2].set_title(\"wyrównanie\")\n",
    "\n",
    "    clahe = cv2.createCLAHE(clipLimit=20, tileGridSize=(8, 8))\n",
    "    img_clahe = clahe.apply(img)\n",
    "    ax[3].imshow(img_clahe, 'gray', vmin=0, vmax=256)\n",
    "    ax[3].axis('off')\n",
    "    ax[3].set_title(\"clahe\")\n",
    "\n",
    "    "
   ]
  },
  {
   "source": [
    "Najbardziej interesujące efekty otrzymujemy po zastosowaniu algorytmu CLAHE, szczególnie dla trzeciego i czwartego obrazu. Ich kontrast w oryginale był dosyć duży, jednak utrudniało to odbiór (szczególnie dla ostatniego obrazka). Zastosowanie algorytmu CLAHE pozwoliło wybić małe różnice jasności (osobno dla każdego prostokąta, na które podzielono obraz), dzięki czemu w części obrazu, która wcześniej była zbyt ciemna (głowa konia) teraz można bez problemu rozróżnić wszystkie szczegóły (podobnie z częścią zbyt jasną czyli niebem)."
   ],
   "cell_type": "markdown",
   "metadata": {}
  },
  {
   "cell_type": "markdown",
   "source": [
    "## Histogram dla obrazów kolorowych i jego wyrównywanie\n",
    "\n",
    "1. Wczytaj obraz *lenaRGB.bmp*.\n",
    "2. Wykonaj konwersję przestrzeni barw z BGR do RGB.\n",
    "3. Wyświetl wczytany obraz oraz histogram dla każdej składowej przestrzeni barw.\n",
    "W tym celu można użyć drugiego argumentu wykorzystywanej funkcji (numer kanału).\n",
    "4. Wykonaj wyrównywanie dla każdej składowej obrazu.\n",
    "Połącz otrzymane składowe w nowy obraz i wyświetl go.\n",
    "Jaka jest zasadnicza wada takiego podejścia?\n",
    "5. Przekształć obraz wejściowy do przestrzeni HSV (flaga `cv2.COLOR_BGR2HSV`).\n",
    "Wyświetl histogramy poszczególnych składowych.\n",
    "Manipulacji dokonujemy na składowej odpowiadającej za jasność, czyli V.\n",
    "Wykonaj wyrównywanie histogramu dla tej składowej.\n",
    "Dokonaj podmiany składowej V i wyświetl rezultat operacji.\n",
    "Uprzednio przeprowadź konwersję HSV->RGB (flaga `cv2.COLOR_HSV2RGB`).\n",
    "6. Wykonaj te same operacje dla obrazu *jezioro.jpg*."
   ],
   "metadata": {
    "collapsed": false,
    "pycharm": {
     "name": "#%% md\n"
    }
   }
  },
  {
   "cell_type": "code",
   "execution_count": null,
   "outputs": [],
   "source": [
    "if not os.path.exists(\"lenaRGB.bmp\") :\n",
    "    !wget https://raw.githubusercontent.com/vision-agh/poc_sw/master/03_Histogram/lenaRGB.bmp --no-check-certificate\n",
    "\n",
    "if not os.path.exists(\"jezioro.jpg\") :\n",
    "    !wget https://raw.githubusercontent.com/vision-agh/poc_sw/master/03_Histogram/jezioro.jpg --no-check-certificate\n",
    "\n",
    "lena = cv2.imread('lenaRGB.bmp')\n",
    "jezioro = cv2.imread('jezioro.jpg')\n"
   ],
   "metadata": {
    "collapsed": false,
    "pycharm": {
     "name": "#%% Zadanie 4 - histogram\n"
    }
   }
  },
  {
   "cell_type": "code",
   "execution_count": null,
   "outputs": [],
   "source": [
    "for img in [lena, jezioro]:\n",
    "    img = cv2.cvtColor(img, cv2.COLOR_BGR2RGB)\n",
    "    hist_1 = cv2.calcHist([img], [0], None, [256], [0, 256])\n",
    "    hist_2 = cv2.calcHist([img], [1], None, [256], [0, 256])\n",
    "    hist_3 = cv2.calcHist([img], [2], None, [256], [0, 256])\n",
    "\n",
    "    fig, ax = plt.subplots(1, 4)\n",
    "    fig.set_size_inches(20, 5)\n",
    "    ax[0].imshow(img)\n",
    "    ax[0].axis(\"off\")\n",
    "    ax[0].set_title(\"obraz oryginalny\")\n",
    "\n",
    "    ax[1].plot(hist_1)\n",
    "    ax[1].grid()\n",
    "    ax[1].set_title(\"Histogram dla I składowej\")\n",
    "\n",
    "    ax[2].plot(hist_2)\n",
    "    ax[2].grid()\n",
    "    ax[2].set_title(\"Histogram dla II składowej\")\n",
    "\n",
    "    ax[3].plot(hist_3)\n",
    "    ax[3].grid()\n",
    "    ax[3].set_title(\"Histogram dla III składowej\")\n",
    "    plt.show()\n",
    "\n",
    "    hist_1_cs = np.cumsum(hist_1)\n",
    "    hist_1_cs = hist_1_cs*hist_1.max()/(hist_1_cs.max())\n",
    "\n",
    "    hist_1_cs_0255 = hist_1_cs*255/(hist_1_cs.max())\n",
    "    img_1_lut = cv2.LUT(img, hist_1_cs_0255)\n",
    "\n",
    "    hist_2_cs = np.cumsum(hist_2)\n",
    "    hist_2_cs = hist_2_cs*hist_1.max()/(hist_2_cs.max())\n",
    "\n",
    "    hist_2_cs_0255 = hist_2_cs*255/(hist_2_cs.max())\n",
    "    img_2_lut = cv2.LUT(img, hist_2_cs_0255)\n",
    "\n",
    "    hist_3_cs = np.cumsum(hist_3)\n",
    "    hist_3_cs = hist_3_cs*hist_3.max()/(hist_3_cs.max())\n",
    "\n",
    "    hist_3_cs_0255 = hist_3_cs*255/(hist_3_cs.max())\n",
    "    img_3_lut = cv2.LUT(img, hist_3_cs_0255)\n",
    "\n",
    "    #niestety nie wiem jak złożyć obraz w całość. Jestem już godzinę po czasie, dlatego wysyłam notebooka w aktualnej niedokończonej wersji."
   ],
   "metadata": {
    "collapsed": false,
    "pycharm": {
     "name": "#%% Zadanie 4 - wyrównanie\n"
    }
   }
  },
  {
   "cell_type": "code",
   "execution_count": null,
   "outputs": [],
   "source": [],
   "metadata": {
    "collapsed": false,
    "pycharm": {
     "name": "#%% Zadanie 4 - HSV histogram\n"
    }
   }
  },
  {
   "cell_type": "code",
   "execution_count": null,
   "outputs": [],
   "source": [
    "\n"
   ],
   "metadata": {
    "collapsed": false,
    "pycharm": {
     "name": "#%% Zadanie 4 - HSV wyrównanie\n"
    }
   }
  }
 ],
 "metadata": {
  "kernelspec": {
   "display_name": "Python 3",
   "language": "python",
   "name": "python3"
  },
  "language_info": {
   "codemirror_mode": {
    "name": "ipython",
    "version": 3
   },
   "file_extension": ".py",
   "mimetype": "text/x-python",
   "name": "python",
   "nbconvert_exporter": "python",
   "pygments_lexer": "ipython3",
   "version": "3.8.3-final"
  }
 },
 "nbformat": 4,
 "nbformat_minor": 4
}