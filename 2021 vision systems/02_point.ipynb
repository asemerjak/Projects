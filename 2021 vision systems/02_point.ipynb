{
 "cells": [
  {
   "cell_type": "markdown",
   "metadata": {},
   "source": [
    "# Przekształcenia punktowe"
   ]
  },
  {
   "cell_type": "markdown",
   "metadata": {},
   "source": [
    "W trakcie niniejszego ćwiczenia zapoznamy się z podstawowymi operacjami punktowymi (bezkontekstowymi) przeprowadzanymi na obrazach cyfrowych:\n",
    "- typu LUT (operacja jednoargumentowa),\n",
    "- arytmetycznymi (operacje dwuargumentowe): dodawanie, odejmowanie, mnożenie, dzielenie,\n",
    "- logicznymi (operacje jedno i dwuargumentowe): AND, OR, XOR, NOT."
   ]
  },
  {
   "cell_type": "markdown",
   "metadata": {},
   "source": [
    "Na początku zaimportuj potrzebne biblioteki."
   ]
  },
  {
   "cell_type": "code",
   "execution_count": null,
   "metadata": {},
   "outputs": [],
   "source": [
    "import cv2\n",
    "import numpy as np\n",
    "import matplotlib.pyplot as plt\n",
    "import os"
   ]
  },
  {
   "cell_type": "markdown",
   "metadata": {},
   "source": [
    "## Operacja LUT\n",
    "\n",
    "**Operacja LUT** polega na przekształcaniu wartości poszczególnych pikseli obrazu przy użyciu z góry przygotowanych tabel przekodowań (tabel korekcji).\n",
    "\n",
    "W przetwarzaniu obrazów najczęściej wykorzystuje się następujące funkcje:\n",
    "- typu kwadratowa, pierwiastek kwadratowy\n",
    "- typu logarytm, odwrócony logarytm\n",
    "- typu wykładnicza,\n",
    "- inne (np. piłokształtna)."
   ]
  },
  {
   "cell_type": "markdown",
   "metadata": {},
   "source": [
    "W tym zadaniu zostały dla Państwa przygotowane tablice przekodowania.\n",
    "Proszę pobrać je z githuba `https://raw.githubusercontent.com/vision-agh/poc_sw/master/02_Point/lut.py` (można użyć znanego polecenia !wget), a następnie zaimportować je poleceniem `import lut`.\n",
    "Od tego momentu można się do nich odwoływać w następujący sposób: `lut.log` itd."
   ]
  },
  {
   "cell_type": "code",
   "execution_count": null,
   "metadata": {},
   "outputs": [],
   "source": [
    "if not os.path.exists(\"lut.py\"):\n",
    "    !wget https://raw.githubusercontent.com/vision-agh/poc_sw/master/02_Point/lut.py\n",
    "\n",
    "import lut"
   ]
  },
  {
   "cell_type": "markdown",
   "metadata": {},
   "source": [
    "Wyświetl przykładowe przekodowanie wykorzystując funkcję `plt.plot(lut.kwadratowa)`."
   ]
  },
  {
   "cell_type": "code",
   "execution_count": null,
   "metadata": {},
   "outputs": [],
   "source": [
    "plt.plot(lut.kwadratowa)\n",
    "plt.title(\"przekodowanie kwadratowa\")\n",
    "plt.show()"
   ]
  },
  {
   "cell_type": "markdown",
   "metadata": {},
   "source": [
    "Wybierz jeden z obrazów: _lena.bmp_ lub _jet.bmp_ (w razie potrzeby pobierz go z githuba):\n",
    "- https://raw.githubusercontent.com/vision-agh/poc_sw/master/02_Point/lena.bmp\n",
    "- https://raw.githubusercontent.com/vision-agh/poc_sw/master/02_Point/jet.bmp\n",
    "\n",
    "Wczytaj go i wyświetl."
   ]
  },
  {
   "cell_type": "code",
   "execution_count": null,
   "metadata": {},
   "outputs": [],
   "source": [
    "if not os.path.exists(\"lena.bmp\"):\n",
    "    !wget https://raw.githubusercontent.com/vision-agh/poc_sw/master/02_Point/lena.bmp\n",
    "\n",
    "lena = cv2.imread('lena.bmp')\n",
    "plt.imshow(lena)\n",
    "plt.xticks([]), plt.yticks([])\n",
    "plt.show()"
   ]
  },
  {
   "cell_type": "markdown",
   "metadata": {},
   "source": [
    "Na wybranym obrazie wykonaj operację LUT.\n",
    "Służy do tego funkcja `cv2.LUT` przyjmująca dwa argumenty: obraz oraz tablicę przekodowania.\n",
    "Wybierz dowolną z zaimportowanych tablic i wyświetl wynikowy obraz."
   ]
  },
  {
   "cell_type": "code",
   "execution_count": null,
   "metadata": {},
   "outputs": [],
   "source": [
    "lena_log = cv2.LUT(lena, lut.log)\n",
    "plt.imshow(lena_log)\n",
    "plt.xticks([]), plt.yticks([])\n",
    "plt.show()"
   ]
  },
  {
   "cell_type": "markdown",
   "metadata": {},
   "source": [
    "Aby lepiej zobaczyć w jaki sposób działają różne przekodowania LUT, skonstruujemy funkcję, która jako argumenty pobierać będzie obrazek oryginalny oraz tablicę przekodowania, a następnie na wspólnym rysunku będzie wyświetlać: funkcję, obraz wejściowy oraz wynik przekodowania.\n",
    "\n",
    "Przypomnienie składni tworzenia funkcji w pythonie:\n",
    "```{python}\n",
    "  def nazwa_funkcji(para, metry):\n",
    "  \t# cialo funkcji\n",
    "```"
   ]
  },
  {
   "cell_type": "code",
   "execution_count": null,
   "metadata": {},
   "outputs": [],
   "source": []
  },
  {
   "cell_type": "markdown",
   "metadata": {},
   "source": [
    "  - Stwórz nową funkcję i nazwij ją LUT.\n",
    "  - Funkcja powinna przyjmować dwa parametry: obraz oraz tablicę przekodowania.\n",
    "  - W ciele funkcji wykonaj przekodowanie LUT, podobnie jak wcześniej w przykładzie.\n",
    "  - Funkcja powinna wyświetlić wykres składający się z 3 umieszczonych obok siebie pól: wykres przekodowania, obraz oryginalny oraz obraz przekształcony.\n",
    "    Każdy z wykresów powinien być podpisany.\n",
    "    _(W razie problemów można przypomnieć sobie te zagadnienia z laboratorium wprowadzającego)_\n",
    "  - Jeśli wykres przekodowania jest zbyt rozciągnięty, można go wyrównać, np. `ax2.set_aspect('equal')`."
   ]
  },
  {
   "cell_type": "code",
   "execution_count": null,
   "metadata": {},
   "outputs": [],
   "source": [
    "def LUT(picture, code_table):\n",
    "    f, (ax1, ax2, ax3) = plt.subplots(1, 3)\n",
    "    ax1.set_title('Wykres przekodowania')\n",
    "    ax1.plot(code_table)\n",
    "    ax1.set_aspect('equal')\n",
    "    ax2.set_title('Obraz oryginalny')\n",
    "    ax2.imshow(picture)\n",
    "    ax2.set_xticks([]), ax2.set_yticks([])\n",
    "    changed_pictue  = cv2.LUT(picture, code_table)\n",
    "    ax3.set_title('Obraz przekształcony')\n",
    "    ax3.set_xticks([]), ax3.set_yticks([])\n",
    "    ax3.imshow(changed_pictue)"
   ]
  },
  {
   "cell_type": "markdown",
   "metadata": {},
   "source": [
    "Wywołaj przygotowaną funkcję dla każdego z przekształceń.\n",
    "W wyniku powinno powstać 7 wykresów."
   ]
  },
  {
   "cell_type": "code",
   "execution_count": null,
   "metadata": {},
   "outputs": [],
   "source": [
    "LUT(lena, lut.log)\n",
    "LUT(lena, lut.pila)\n",
    "LUT(lena, lut.odwlog)\n",
    "LUT(lena, lut.wykladnicza)\n",
    "LUT(lena, lut.kwadratowa)\n",
    "LUT(lena, lut.odwrotna)\n",
    "LUT(lena, lut.pierwiastkowa)"
   ]
  },
  {
   "cell_type": "markdown",
   "metadata": {},
   "source": [
    "## Operacja arytmetyczne\n",
    "\n",
    "### Dodawanie\n",
    "\n",
    "Wczytaj dwa obrazy _lena.bmp_ i _jet.bmp_ i wyświetl je."
   ]
  },
  {
   "cell_type": "code",
   "execution_count": null,
   "metadata": {},
   "outputs": [],
   "source": [
    "if not os.path.exists(\"jet.bmp\"):\n",
    "    !wget https://raw.githubusercontent.com/vision-agh/poc_sw/master/02_Point/jet.bmp\n",
    "\n",
    "jet = cv2.imread('jet.bmp')\n",
    "plt.imshow(jet)\n",
    "plt.xticks([]), plt.yticks([])\n",
    "plt.show()\n",
    "plt.imshow(lena)\n",
    "plt.xticks([]), plt.yticks([])\n",
    "plt.show()"
   ]
  },
  {
   "cell_type": "markdown",
   "metadata": {},
   "source": [
    "Dodaj obrazy _lena_ i _jet_, wykorzystaj funkcję `cv2.add`.\n",
    "Uzyskany wynik wyświetl."
   ]
  },
  {
   "cell_type": "code",
   "execution_count": null,
   "metadata": {},
   "outputs": [],
   "source": [
    "added = cv2.add(lena, jet)\n",
    "plt.imshow(added)\n",
    "plt.xticks([]), plt.yticks([])\n",
    "plt.show()"
   ]
  },
  {
   "cell_type": "markdown",
   "metadata": {},
   "source": [
    "Czy wynik sumowania jest satysfakcjonujący?\n",
    "Co może niekorzystnie wpływać na rezultat operacji?\n",
    "Spróbuj wykonać dodawanie ponownie wykorzystując typ uint16 (`jet.astype('uint16')`).\n",
    "Wynikowy obraz należy przeskalować do zakresu 0-255, zamienić na typ uint8 i wyświetlić. _\n",
    "Uwaga: operacja ta jest użyteczna w przypadku, gdy dane do wyświetlenia wykraczają poza zakres 0-255, w przeciwnym przypadku jej wykorzystanie może zniekształcić wyniki._"
   ]
  },
  {
   "source": [
    "Wynik sumowania nie jest satysfakcjonujący. Niekorzystny wpływ może mieć wykroczenie poza podstawowy zakres wartości (0-255)."
   ],
   "cell_type": "markdown",
   "metadata": {}
  },
  {
   "cell_type": "code",
   "execution_count": null,
   "metadata": {},
   "outputs": [],
   "source": [
    "added_again = cv2.add(lena.astype('uint16'), jet.astype('uint16'))\n",
    "plt.imshow(added_again.astype('uint8'))\n",
    "plt.xticks([]), plt.yticks([])\n",
    "plt.show()"
   ]
  },
  {
   "source": [
    "Rezultat dodawania wygląda inaczej (w szczególności jest mniej prześwietlony), jednak wciąż nie wygląda on zbyt dobrze, a nawet powiedziałabym, że sytuacja uległa pogorszeniu."
   ],
   "cell_type": "markdown",
   "metadata": {}
  },
  {
   "cell_type": "code",
   "execution_count": null,
   "metadata": {},
   "outputs": [],
   "source": [
    "added_again_2 = cv2.add(lena.astype('uint16'), jet.astype('uint16'))\n",
    "normalized = added_again_2\n",
    "cv2.normalize(added_again_2, normalized, alpha=0, beta=255, norm_type=cv2.NORM_MINMAX)\n",
    "plt.imshow(normalized)\n",
    "plt.xticks([]), plt.yticks([])\n",
    "plt.show()"
   ]
  },
  {
   "source": [
    "Dodawanie wydaje się być zakończone sukcesem. Rozwiązaniem okazało się użycie funkcji astype('uint16') dla każdego obrazu oraz funkcji normalize dla wyniku."
   ],
   "cell_type": "markdown",
   "metadata": {}
  },
  {
   "cell_type": "markdown",
   "metadata": {},
   "source": [
    "### Kombinacja liniowa\n",
    "\n",
    "Do wykonywania operacji kombinacji liniowej służy funkcja `cv2.addWeighted`.\n",
    "Zapoznaj się z dokumentacją tej funkcji i przetestuj kilka kombinacji liniowych obrazów _lena_ i _jet_.\n",
    "Wyświetl wynik dowolnej z nich."
   ]
  },
  {
   "cell_type": "code",
   "execution_count": null,
   "metadata": {},
   "outputs": [],
   "source": [
    "linear_comb = cv2.addWeighted(lena, 0.75, jet, 0.25, 0.0)\n",
    "plt.imshow(linear_comb)\n",
    "plt.xticks([]), plt.yticks([])\n",
    "plt.show()\n",
    "\n",
    "linear_comb = cv2.addWeighted(lena, 0.75, jet, 0.25, 40)\n",
    "plt.imshow(linear_comb)\n",
    "plt.xticks([]), plt.yticks([])\n",
    "plt.show()\n",
    "\n",
    "linear_comb = cv2.addWeighted(lena, 0.75, jet, 0.25, 100)\n",
    "plt.imshow(linear_comb)\n",
    "plt.xticks([]), plt.yticks([])\n",
    "plt.show()\n",
    "\n",
    "linear_comb = cv2.addWeighted(lena, 0.5, jet, 0.5, 0.0)\n",
    "plt.imshow(linear_comb)\n",
    "plt.xticks([]), plt.yticks([])\n",
    "plt.show()\n",
    "\n",
    "linear_comb = cv2.addWeighted(lena, 0.25, jet, 0.75, 0.0)\n",
    "plt.imshow(linear_comb)\n",
    "plt.xticks([]), plt.yticks([])\n",
    "plt.show()\n",
    "\n",
    "linear_comb = cv2.addWeighted(lena, 0.5, jet, 0.5, -50.0)\n",
    "plt.imshow(linear_comb)\n",
    "plt.xticks([]), plt.yticks([])\n",
    "plt.show()\n",
    "\n",
    "linear_comb = cv2.addWeighted(lena, -0.5, jet, 0.5, 0.0)\n",
    "plt.imshow(linear_comb)\n",
    "plt.xticks([]), plt.yticks([])\n",
    "plt.show()"
   ]
  },
  {
   "source": [
    "Przemnożenie pierwszego obrazu przez większą liczbę niż drugiego daje jego przewagę w obrazie wynikowym (natomiast ten drugi tylko lekko prześwituje). Stała dodawana na końcu (gamma) rozjaśnia (>0) bądź przyciemnia (<0) rezultat. Przemnożenie obrazu przez liczbę ujemną daje jego negatyw."
   ],
   "cell_type": "markdown",
   "metadata": {}
  },
  {
   "cell_type": "markdown",
   "metadata": {},
   "source": [
    "### Odejmowanie\n",
    "\n",
    "Wykorzystując funkcję `cv2.subtract` odejmij obrazy _lena_ i _jet_."
   ]
  },
  {
   "cell_type": "code",
   "execution_count": null,
   "metadata": {},
   "outputs": [],
   "source": [
    "substracted = cv2.subtract(lena, jet)\n",
    "plt.imshow(substracted)\n",
    "plt.xticks([]), plt.yticks([])\n",
    "plt.show()"
   ]
  },
  {
   "source": [
    "Powyższy wynik nie jest satysfakconujący. Przyczyną mogą być wartości ujemne."
   ],
   "cell_type": "markdown",
   "metadata": {}
  },
  {
   "cell_type": "markdown",
   "metadata": {},
   "source": [
    "Czy wynik odejmowania jest satysfakcjonujący?\n",
    "Co może niekorzystnie wpływać na rezultat operacji?\n",
    "Często zamiast zwykłego odejmowania wykorzystuje się operację wartość bezwzględna z różnicy (pozwala to między innymi uniknąć pokazanych powyżej problemów).\n",
    "Zamień typ obrazów _lena_ i _jet_ z uint8 na **int16**, odejmij je od siebie, a następnie wykorzystując funkcję `np.abs` wykonaj operację wartość bezwzględna z różnicy.\n",
    "Wyświetl ten obraz.\n",
    "Zastanów się, dlaczego ta zmiana poprawia wynik odejmowania?"
   ]
  },
  {
   "cell_type": "code",
   "execution_count": null,
   "metadata": {},
   "outputs": [],
   "source": [
    "substracted_abs = np.abs(cv2.subtract(lena.astype('uint16'), jet.astype('uint16')))\n",
    "plt.imshow(substracted_abs)\n",
    "plt.xticks([]), plt.yticks([])\n",
    "plt.show()"
   ]
  },
  {
   "source": [
    "Niestety nic się nie zmieniło."
   ],
   "cell_type": "markdown",
   "metadata": {}
  },
  {
   "cell_type": "code",
   "execution_count": null,
   "metadata": {},
   "outputs": [],
   "source": [
    "abs_diff = cv2.absdiff(lena,jet)\n",
    "plt.imshow(abs_diff)\n",
    "plt.xticks([]), plt.yticks([])\n",
    "plt.show()"
   ]
  },
  {
   "source": [
    "Wbudowana funkcja korzystająca od razu z wartości bezwzględnej dała chyba najlepszy rezultat."
   ],
   "cell_type": "markdown",
   "metadata": {}
  },
  {
   "source": [],
   "cell_type": "markdown",
   "metadata": {}
  },
  {
   "cell_type": "markdown",
   "metadata": {},
   "source": [
    "### Mnożenie\n",
    "\n",
    "Mnożenie dwóch obrazów pozwala wykonać funkcja `cv2.multiply`.\n",
    "Wykonaj mnożenie obrazów _lena_ i _jet_.\n",
    "Czy wynik takiej operacji zawiera jakąś istotną informację?\n",
    "Dlaczego?"
   ]
  },
  {
   "cell_type": "code",
   "execution_count": null,
   "metadata": {},
   "outputs": [],
   "source": [
    "multiplied = cv2.multiply(lena, jet)\n",
    "plt.imshow(multiplied)\n",
    "plt.xticks([]), plt.yticks([])\n",
    "plt.show()"
   ]
  },
  {
   "source": [
    "Po przemnożeniu przez siebie wartości są tak duże, że wszystkie dały wartość maksymalną (czyli kolor biały). Nie niesie on ze sobą żadnej istotnej informacji."
   ],
   "cell_type": "markdown",
   "metadata": {}
  },
  {
   "cell_type": "code",
   "execution_count": null,
   "metadata": {},
   "outputs": [],
   "source": [
    "multiplied_again = cv2.multiply(lena.astype('uint16'), jet.astype('uint16'))\n",
    "multiplied_again = multiplied_again*255.0/(multiplied_again.max())\n",
    "plt.imshow(multiplied_again.astype('uint8'))\n",
    "plt.xticks([]), plt.yticks([])\n",
    "plt.show()"
   ]
  },
  {
   "source": [
    "Rezultat jest znacznie lepszy niż poprzednio - nalezało przeskalować wynik."
   ],
   "cell_type": "markdown",
   "metadata": {}
  },
  {
   "cell_type": "markdown",
   "metadata": {},
   "source": [
    "Mnożenie częściej wykorzystuje się jako:\n",
    "  + mnożenie przez stałą $-$ co powoduje ogólne rozjaśnienie albo ściemnienie obrazu,\n",
    "  + mnożenie przez maskę $-$ czyli obraz binarny."
   ]
  },
  {
   "cell_type": "markdown",
   "metadata": {},
   "source": [
    "Wczytaj maskę _kolo.bmp_ (https://raw.githubusercontent.com/vision-agh/poc_sw/master/02_Point/kolo.bmp).\n",
    "Przemnóż wybrany obraz przez maskę i wyświetl wynik.\n",
    "Mnożenie przez maskę można zrealizować za pomocą funkcji `cv2.multiply`, ale maskę należy należy najpierw przekształcić z zakresu 0-255 do 0-1, na przykład `(maska).astype('bool').astype('uint8')`."
   ]
  },
  {
   "cell_type": "code",
   "execution_count": null,
   "metadata": {},
   "outputs": [],
   "source": [
    "if not os.path.exists(\"kolo.bmp\"):\n",
    "    !wget https://raw.githubusercontent.com/vision-agh/poc_sw/master/02_Point/kolo.bmp\n",
    "\n",
    "maska = cv2.imread('kolo.bmp')\n",
    "\n",
    "multiplied_mask = cv2.multiply(lena, maska.astype('bool').astype('uint8'))\n",
    "plt.imshow(multiplied_mask)\n",
    "plt.xticks([]), plt.yticks([])\n",
    "plt.show()"
   ]
  },
  {
   "cell_type": "markdown",
   "metadata": {},
   "source": [
    "### Negatyw\n",
    "\n",
    "Negatyw obrazu uzyskuje się za pomocą funkcji `cv2.bitwise_not(img)`\n",
    "Negatyw obrazu można również uzyskać wykorzystując przekodowanie LUT.\n",
    "Można w tym celu posłużyć się przygotowaną wcześniej tablicą `lut.odwrotna`.\n",
    "Przetestuj działanie tych funkcji i wykonaj negatyw obrazu _lena_ dowolnym sposobem."
   ]
  },
  {
   "cell_type": "code",
   "execution_count": null,
   "metadata": {},
   "outputs": [],
   "source": [
    "negatyw_lena = cv2.bitwise_not(lena)\n",
    "plt.imshow(negatyw_lena)\n",
    "plt.xticks([]), plt.yticks([])\n",
    "plt.show()\n",
    "\n",
    "LUT(lena, lut.odwrotna)"
   ]
  },
  {
   "cell_type": "markdown",
   "metadata": {},
   "source": [
    "## Operacje logiczne\n",
    "\n",
    "Na poszczególnych punktach obrazu (najczęściej binarnego $-$ czyli składającego się z dwóch kolorów: czarnego i białego) można wykonywać operacje logiczne: NOT, AND, OR, XOR itp.\n",
    "Wczytaj dwa obrazy: _kolo.bmp_ i _kwadrat.bmp_ (https://raw.githubusercontent.com/vision-agh/poc_sw/master/02_Point/kwadrat.bmp), następnie wyświetl je."
   ]
  },
  {
   "cell_type": "code",
   "execution_count": null,
   "metadata": {},
   "outputs": [],
   "source": [
    "if not os.path.exists(\"kwadrat.bmp\"):\n",
    "    !wget https://raw.githubusercontent.com/vision-agh/poc_sw/master/02_Point/kwadrat.bmp\n",
    "\n",
    "kwadrat = cv2.imread('kwadrat.bmp')\n",
    "kolo = maska\n",
    "\n",
    "plt.imshow(kolo)\n",
    "plt.xticks([]), plt.yticks([])\n",
    "plt.show()\n",
    "\n",
    "plt.imshow(kwadrat)\n",
    "plt.xticks([]), plt.yticks([])\n",
    "plt.show()"
   ]
  },
  {
   "cell_type": "markdown",
   "metadata": {},
   "source": [
    "Na wczytanych obrazach wykonaj wybrane operacje logiczne: NOT (operator `~`), AND (`&`), OR (`|`), XOR (`^`).\n",
    "Operator `~` jest jednoargumentowy, wszystkie pozostałe są dwuargumentowe.\n",
    "Alternatywnym sposobem jest wykorzystanie funkcji z biblioteki opencv: `cv2.bitwise_not`, `cv2.bitwise_and`, `cv2.bitwise_or`, `cv2.bitwise_xor`.\n",
    "Wyświetl rezultaty."
   ]
  },
  {
   "cell_type": "code",
   "execution_count": null,
   "metadata": {
    "pycharm": {
     "name": "#%%\n"
    }
   },
   "outputs": [],
   "source": [
    "kolo_not = ~ kolo\n",
    "plt.imshow(kolo_not)\n",
    "plt.xticks([]), plt.yticks([])\n",
    "plt.show()\n",
    "\n",
    "kolo_not_cv2 = cv2.bitwise_not(kolo)\n",
    "plt.imshow(kolo_not_cv2)\n",
    "plt.xticks([]), plt.yticks([])\n",
    "plt.show()\n",
    "\n",
    "kolo_and_kwadrat = kolo & kwadrat\n",
    "plt.imshow(kolo_and_kwadrat)\n",
    "plt.xticks([]), plt.yticks([])\n",
    "plt.show()\n",
    "\n",
    "kolo_and_kwadrat_cv2 = cv2.bitwise_and(kolo, kwadrat)\n",
    "plt.imshow(kolo_and_kwadrat_cv2)\n",
    "plt.xticks([]), plt.yticks([])\n",
    "plt.show()\n",
    "\n",
    "kolo_or_kwadrat = kolo | kwadrat\n",
    "plt.imshow(kolo_or_kwadrat)\n",
    "plt.xticks([]), plt.yticks([])\n",
    "plt.show()\n",
    "\n",
    "kolo_or_kwadrat_cv2 = cv2.bitwise_or(kolo, kwadrat)\n",
    "plt.imshow(kolo_or_kwadrat_cv2)\n",
    "plt.xticks([]), plt.yticks([])\n",
    "plt.show()\n",
    "\n",
    "kolo_xor_kwadrat = kolo ^ kwadrat\n",
    "plt.imshow(kolo_xor_kwadrat)\n",
    "plt.xticks([]), plt.yticks([])\n",
    "plt.show()"
   ]
  },
  {
   "cell_type": "code",
   "execution_count": null,
   "metadata": {},
   "outputs": [],
   "source": []
  }
 ],
 "metadata": {
  "kernelspec": {
   "display_name": "Python 3",
   "language": "python",
   "name": "python3"
  },
  "language_info": {
   "codemirror_mode": {
    "name": "ipython",
    "version": 3
   },
   "file_extension": ".py",
   "mimetype": "text/x-python",
   "name": "python",
   "nbconvert_exporter": "python",
   "pygments_lexer": "ipython3",
   "version": "3.8.3-final"
  }
 },
 "nbformat": 4,
 "nbformat_minor": 4
}