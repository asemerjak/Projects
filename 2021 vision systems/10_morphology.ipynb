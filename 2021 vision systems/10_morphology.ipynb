{
 "cells": [
  {
   "cell_type": "markdown",
   "metadata": {},
   "source": [
    "# Przekształcenia morfologiczne\n",
    "\n",
    "## Cel:\n",
    "- zapoznanie z podstawowymi przekształceniami morfologicznymi – erozją, dylatacją, otwarciem, zamknieciem, transformacją trafi, nie trafi,\n",
    "- zapoznanie ze złożonymi operacjami morfologicznymi wykorzystującymi rekonstrukcję morfologiczną,\n",
    "- zapoznanie z operacjami morfologicznym dla obrazów w odcieniach szarości – erozją, dylatacją, otwarciem, zamknieciem, filtrami top-hat i bottom-hat,\n",
    "- zapoznanie z wykorzystaniem złożonych operacji morfologicznych przy rozwiązywaniu konkretnego problemu,\n",
    "- zadanie domowe: wykorzystanie morfologii do implementacji ,,gry w życie''."
   ]
  },
  {
   "cell_type": "markdown",
   "metadata": {},
   "source": [
    "## Przypomnienie teorii\n",
    "\n",
    "### Element strukturalny\n",
    "\n",
    "Element strukturalny obrazu jest to pewien wycinek obrazu (przy dyskretnej reprezentacji obrazu – pewien podzbiór jego elementów). Najcześciej stosowanym elementem strukturalnym jest kwadratowa maska o rozmiarze 3×3 lub 5×5. Niekiedy pożądane są maski o innym kształcie, np. zbliżonym do elipsy.\n",
    "\n",
    "### Erozja\n",
    "\n",
    "Erozja (ang. _erosion_) jest podstawowym przekształceniem morfologicznym. Zakładamy, że obraz wyjściowy zawiera pewien obszar (figurę) X, wyróżniający się pewną charakterystyczną cechą (np. odróżniającą się od tła jasnością). Figura X po wykonaniu operacji erozji to zbiór punktów centralnych wszystkich elementów strukturalnych, które w całości mieszczą się we wnetrzu obszaru X. Miarą stopnia erozji jest wielkość elementu strukturalnego.\n",
    "\n",
    "Erozje można traktować jako filtr minimalny, tj. z danego otoczenia piksela (określanego przez maskę) do obrazu wynikowego wybierana jest wartość minimalna.\n",
    "\n",
    "### Dylatacja\n",
    "\n",
    "Dylatacja (ang. _dilation_): Zakładamy, że obraz wejściowy zawiera obszar X wyróżniający się pewną charakterystyczną cechą (np. jasnością). Figura przekształcona przez dylatacje to zbiór punktów centralnych wszystkich elementów strukturalnych, których którykolwiek punkt mieści sie we wnetrzu obszaru X. Miarą  dylatacji jest wielkość elementu strukturalnego.\n",
    "\n",
    "Dylatacje można traktować jako filtr maksymalny, tj. z danego otoczenia piksela (określanego\n",
    "przez maske) do obrazu wynikowego wybierana jest wartość maksymalna.\n",
    "\n",
    "### Otwarcie i zamknięcie\n",
    "\n",
    "Otwarcie (ang. _opening_) polega na wykonaniu najpierw operacji erozji, a nastepnie dylatacji.\n",
    "\n",
    "> Otwarcie = erozja + dylatacja\n",
    "\n",
    "Zamkniecie (ang. _closing_) polega na wykonaniu najpierw operacji dylatacji, a nastepnie erozji.\n",
    "\n",
    "> Zamkniecie = dylatacja + erozja\n",
    "\n",
    "### Obrazy w odcieniu szarości\n",
    "\n",
    "Obrazy w odcieniu szarości – detekcja dolin i szczytów (top-hat, bottom-hat):\n",
    "\n",
    "Aby wyodrebnić z obrazu lokalne ekstrema można wykorzystać zdefiniowane wcześniej przekształcenia: otwarcie i zamkniecie. W celu wyszukania lokalnych maksimów (szczytów) należy od wyniku otwarcia danego obrazu odjąć obraz wyjściowy. Analogicznie, aby wyodrebnić lokalne minima obrazu, należy dokonać podobnej operacji, z tym że pierwszą operacją bedzie zamkniecie. Uwaga! Należy zwrócić uwagę, że poniższe metody służą do detekcji (pokreślenia) tylko lokalnych ekstremów!"
   ]
  },
  {
   "cell_type": "markdown",
   "metadata": {},
   "source": [
    "## Podstawowe operacje morfologiczne: erozja, dylatacja, otwarcie, zamknięcie, trafi nie trafi\n",
    "\n",
    "1. Wczytaj obraz ertka.bmp\n",
    "2. Wykonaj operację erozji `cv2.erode`. Parametrami funkcji są obraz oraz element strukturalny. Element można stworzyć samodzielnie jako tablicę składającą się z 0 i 1 `np.ones((3,3))` lub posłużyć się funkcją `cv2.getStructuringElement`, do której należy podać kształt `cv2.MORPH_RECT` oraz wielkość elementu `(3,3)`. Na początku użyj kwadratu o rozmiarze 3 pikseli.\n",
    "3. Wyświetl obraz oryginalny oraz po wykonaniu erozji – najlepiej na wspólnym wykresie. Upewnij się, że rozumiesz, jak działa erozja.\n",
    "4. Zmień element strukturalny (inny kształt – koło, diament lub inny rozmiar). Ponownie wykonaj erozję, sprawdź rezultat działania operacji.\n",
    "5. Oprócz zmiany elementu strukturalnego na rezultat erozji można wpłynąć zwiększając liczbę iteracji (np. wykonać erozję trzykrotnie). Ustal element strukturalny na kwadrat o boku 3 piksele. Wykonaj erozję obrazu _ertka_ dwukrotnie, a następnie trzykrotnie. Zaobserwuj rezultaty. Wskazówka: warto zajrzeć do dokumentacji funkcji `erode`.\n",
    "6. Wczytaj obraz buzka.bmp. Dobierz element strukturalny (zdefiniuj go ręcznie jako macierz 0 i 1) w taki sposób, aby usunąć włosy o określonej orientacji (ukośnie lewo lub prawo).\n",
    "7. Uwaga: pokazane metody wpływania na rezultaty erozji wykorzystuje się identycznie dla pozostałych operacji morfologicznych – dylatacji, otwarcia i zamknięcia.\n",
    "8. Operacją odwrotną do erozji jest dylatacja `cv2.dilate`. Ustal element strukturalny na kwadrat o boku 3 piksele. Wykonaj dylatację obrazu _ertka_. Zapoznaj się z rezultatem działania.\n",
    "9. Na wspólnym wykresie wyświetl obraz oryginalny oraz obrazy po operacjach morfologicznych: erozja, dylatacja, otwarcie i zamkniecie. Otwarcie i zamknięcie można uzyskać za pomocą `cv2.morphologyEx(img, operacja, element_strukturalny)`, gdzie typem operacji jest `cv2.MORPH_OPEN` lub `cv2.MORPH_CLOSE`.\n",
    "10. Zmień obraz _ertka_ na _wyspa_, a następnie na _kolka_. Wykonaj na każdym cztery przedstawione operacje morfologiczne. Zaobserwuj rezultaty.\n",
    "11. Minizadanko: wykorzystując poznane operacje morfologiczne spowoduj, że na obrazie _ertka_ pozostanie tylko napis RT (bez wypustek i dziur).\n",
    "12. Niekiedy potrzebne jest wykrycie konkretnych konfiguracji pikseli na obrazie – przydaje się do tego transformacja trafi, nie trafi (ang. _hit-or-miss_). Pozwala ona wykryć na obrazie obecność elementów, które dokładnie odpowiadają masce.\n",
    "13. Wczytaj obraz hom.bmp. Wyświetl go. Załóżmy, że chcemy wykryć na obrazie krzyżyki 3x3. Zdefiniuj następujący element strukturalny:\n",
    "```\n",
    "[0,1,0]\n",
    "[1,1,1]\n",
    "[0,1,0]\n",
    "```\n",
    "Wykonaj transformację trafi, nie trafi – `cv2.morphologyEx(hom, cv2.MORPH_HITMISS, se1)`. Rezultat operacji wyświetl. Czy udało się zrealizować zadanie? Jeżeli pojawiają się u Państwa błędy związane z typem danych, należy obraz wejściowy przekonwertować na skalę szarości: `cv2.cvtColor(hom, cv2.COLOR_BGR2GRAY)`.\n"
   ]
  },
  {
   "cell_type": "code",
   "execution_count": null,
   "metadata": {},
   "outputs": [],
   "source": [
    "import matplotlib.pyplot as plt\n",
    "import cv2\n",
    "import numpy as np\n",
    "import os\n",
    "\n",
    "if not os.path.exists(\"buzka.bmp\") :\n",
    "    !wget https://raw.githubusercontent.com/vision-agh/poc_sw/master/10_Morfologia/buzka.bmp --no-check-certificate\n",
    "if not os.path.exists(\"calculator.bmp\") :\n",
    "    !wget https://raw.githubusercontent.com/vision-agh/poc_sw/master/10_Morfologia/calculator.bmp --no-check-certificate\n",
    "if not os.path.exists(\"ertka.bmp\") :\n",
    "    !wget https://raw.githubusercontent.com/vision-agh/poc_sw/master/10_Morfologia/ertka.bmp --no-check-certificate\n",
    "if not os.path.exists(\"ferrari.bmp\") :\n",
    "    !wget https://raw.githubusercontent.com/vision-agh/poc_sw/master/10_Morfologia/ferrari.bmp --no-check-certificate\n",
    "if not os.path.exists(\"fingerprint.bmp\") :\n",
    "    !wget https://raw.githubusercontent.com/vision-agh/poc_sw/master/10_Morfologia/fingerprint.bmp --no-check-certificate\n",
    "if not os.path.exists(\"hom.bmp\") :\n",
    "    !wget https://raw.githubusercontent.com/vision-agh/poc_sw/master/10_Morfologia/hom.bmp --no-check-certificate\n",
    "if not os.path.exists(\"kolka.bmp\") :\n",
    "    !wget https://raw.githubusercontent.com/vision-agh/poc_sw/master/10_Morfologia/kolka.bmp --no-check-certificate\n",
    "if not os.path.exists(\"kosc.bmp\") :\n",
    "    !wget https://raw.githubusercontent.com/vision-agh/poc_sw/master/10_Morfologia/kosc.bmp --no-check-certificate\n",
    "if not os.path.exists(\"szkielet.bmp\") :\n",
    "    !wget https://raw.githubusercontent.com/vision-agh/poc_sw/master/10_Morfologia/szkielet.bmp --no-check-certificate\n",
    "if not os.path.exists(\"text.bmp\") :\n",
    "    !wget https://raw.githubusercontent.com/vision-agh/poc_sw/master/10_Morfologia/text.bmp --no-check-certificate\n",
    "if not os.path.exists(\"wyspa.bmp\") :\n",
    "    !wget https://raw.githubusercontent.com/vision-agh/poc_sw/master/10_Morfologia/wyspa.bmp --no-check-certificate\n",
    "if not os.path.exists(\"rice.png\") :\n",
    "    !wget https://raw.githubusercontent.com/vision-agh/poc_sw/master/10_Morfologia/rice.png --no-check-certificate\n",
    "\n",
    "\n",
    "ertka = cv2.imread('ertka.bmp', cv2.IMREAD_GRAYSCALE)\n",
    "buzka = cv2.imread('buzka.bmp', cv2.IMREAD_GRAYSCALE)\n",
    "wyspa = cv2.imread('wyspa.bmp', cv2.IMREAD_GRAYSCALE)\n",
    "kolka = cv2.imread('kolka.bmp', cv2.IMREAD_GRAYSCALE)\n",
    "hom = cv2.imread('hom.bmp', cv2.IMREAD_GRAYSCALE)\n",
    "text = cv2.imread('text.bmp', cv2.IMREAD_GRAYSCALE)\n",
    "ferrari = cv2.imread('ferrari.bmp', cv2.IMREAD_GRAYSCALE)\n",
    "rice = cv2.imread('rice.png', cv2.IMREAD_GRAYSCALE)\n",
    "calc = cv2.imread('calculator.bmp', cv2.IMREAD_GRAYSCALE)"
   ]
  },
  {
   "cell_type": "code",
   "execution_count": null,
   "metadata": {},
   "outputs": [],
   "source": [
    "def basic_morph(img, operation='e', shape=cv2.MORPH_RECT, size=3, iter=1, kernel=None):\n",
    "    if kernel is None:\n",
    "        kernel = cv2.getStructuringElement(shape, (size, size))\n",
    "    if operation == 'e': #erode\n",
    "        result = cv2.erode(img, kernel, iterations=iter)\n",
    "        t = \"erozja\"\n",
    "    elif operation == 'd': #dilate\n",
    "        result = cv2.dilate(img, kernel, iterations=iter)\n",
    "        t = \"dylatacja\"\n",
    "    elif operation == 'o': #open\n",
    "        result = cv2.morphologyEx(img, cv2.MORPH_OPEN, kernel, iterations=iter)\n",
    "        t = \"otwarcie\"\n",
    "    elif operation == 'c': #close\n",
    "        result = cv2.morphologyEx(img, cv2.MORPH_CLOSE, kernel, iterations=iter)\n",
    "        t = 'zamknięcie'\n",
    "\n",
    "    fig, ax = plt.subplots(1, 2)\n",
    "    fig.set_size_inches(14, 7)\n",
    "    ax[0].imshow(img, cmap='gray', vmin=0, vmax=256)\n",
    "    ax[0].set_title(\"Obraz oryginalny\")\n",
    "    ax[0].axis(\"off\")\n",
    "\n",
    "    ax[1].imshow(result, cmap='gray', vmin=0, vmax=256)\n",
    "    ax[1].set_title(t)\n",
    "    ax[1].axis(\"off\")\n",
    "    plt.show()"
   ]
  },
  {
   "cell_type": "code",
   "execution_count": null,
   "metadata": {},
   "outputs": [],
   "source": [
    "basic_morph(ertka) #kwadrat"
   ]
  },
  {
   "source": [
    "Znikają linie na zewnątrz liter, natomiast te wewnątrz zostają pogrubione."
   ],
   "cell_type": "markdown",
   "metadata": {}
  },
  {
   "cell_type": "code",
   "execution_count": null,
   "metadata": {},
   "outputs": [],
   "source": [
    "basic_morph(ertka, shape=cv2.MORPH_CROSS) #krzyż"
   ]
  },
  {
   "cell_type": "code",
   "execution_count": null,
   "metadata": {},
   "outputs": [],
   "source": [
    "basic_morph(ertka, shape=cv2.MORPH_ELLIPSE) #elipsa"
   ]
  },
  {
   "cell_type": "code",
   "execution_count": null,
   "metadata": {},
   "outputs": [],
   "source": [
    "basic_morph(ertka, iter=2) #2 iteracje"
   ]
  },
  {
   "source": [
    "basic_morph(ertka, iter=3) #3 iteracje"
   ],
   "cell_type": "code",
   "metadata": {},
   "execution_count": null,
   "outputs": []
  },
  {
   "source": [
    "Liczba iteracji zwiększa grubość wyciętych lini."
   ],
   "cell_type": "markdown",
   "metadata": {}
  },
  {
   "cell_type": "code",
   "execution_count": null,
   "metadata": {},
   "outputs": [],
   "source": [
    "my_el = np.array([[1, 0, 0], [0, 1, 0], [0, 0, 1]], dtype='uint8')\n",
    "basic_morph(buzka, kernel=my_el)"
   ]
  },
  {
   "cell_type": "code",
   "execution_count": null,
   "metadata": {},
   "outputs": [],
   "source": [
    "basic_morph(ertka, operation='d')"
   ]
  },
  {
   "cell_type": "code",
   "execution_count": null,
   "metadata": {},
   "outputs": [],
   "source": [
    "def full_morph(img, shape=cv2.MORPH_RECT, size=3, iter=1, kernel=None):\n",
    "    if kernel is None:\n",
    "        kernel = cv2.getStructuringElement(shape, (size, size))\n",
    "    result = [None for _ in range(4)]\n",
    "    t = [None for _ in range(4)]\n",
    "\n",
    "    result[0] = cv2.erode(img, kernel, iterations=iter)\n",
    "    t[0] = \"erozja\"\n",
    "    result[1] = cv2.dilate(img, kernel, iterations=iter)\n",
    "    t[1] = \"dylatacja\"\n",
    "    result[2] = cv2.morphologyEx(img, cv2.MORPH_OPEN, kernel, iterations=iter)\n",
    "    t[2] = \"otwarcie\"\n",
    "    result[3] = cv2.morphologyEx(img, cv2.MORPH_CLOSE, kernel, iterations=iter)\n",
    "    t[3] = 'zamknięcie'\n",
    "\n",
    "    fig, ax = plt.subplots(1, 5)\n",
    "    fig.set_size_inches(25, 5)\n",
    "    ax[0].imshow(img, cmap='gray', vmin=0, vmax=256)\n",
    "    ax[0].set_title(\"Obraz oryginalny\")\n",
    "    ax[0].axis(\"off\")\n",
    "\n",
    "    ax[1].imshow(result[0], cmap='gray', vmin=0, vmax=256)\n",
    "    ax[1].set_title(t[0])\n",
    "    ax[1].axis(\"off\")\n",
    "\n",
    "    ax[2].imshow(result[1], cmap='gray', vmin=0, vmax=256)\n",
    "    ax[2].set_title(t[1])\n",
    "    ax[2].axis(\"off\")\n",
    "\n",
    "    ax[3].imshow(result[2], cmap='gray', vmin=0, vmax=256)\n",
    "    ax[3].set_title(t[2])\n",
    "    ax[3].axis(\"off\")\n",
    "\n",
    "    ax[4].imshow(result[3], cmap='gray', vmin=0, vmax=256)\n",
    "    ax[4].set_title(t[3])\n",
    "    ax[4].axis(\"off\")\n",
    "    plt.show()"
   ]
  },
  {
   "cell_type": "code",
   "execution_count": null,
   "metadata": {},
   "outputs": [],
   "source": [
    "full_morph(ertka)\n",
    "full_morph(wyspa)\n",
    "full_morph(kolka)\n"
   ]
  },
  {
   "source": [
    "Erozja - eliminacja punktów na zewnątrz i pogrubienie wewnątrz.  \n",
    "Dylaktacja - eliminacja punktów wewnątrz i pogrubienie na zewnątrz.  \n",
    "Otwarcie - eliminacja punktów na zewnątrz.  \n",
    "Zamknięcie - eliminacja punktów wewnątrz."
   ],
   "cell_type": "markdown",
   "metadata": {}
  },
  {
   "cell_type": "code",
   "execution_count": null,
   "metadata": {},
   "outputs": [],
   "source": [
    "mini = cv2.erode(ertka, cv2.getStructuringElement(cv2.MORPH_RECT, (3,3)))\n",
    "mini = cv2.dilate(mini, cv2.getStructuringElement(cv2.MORPH_RECT, (3,3)))\n",
    "mini = cv2.morphologyEx(mini, cv2.MORPH_CLOSE, cv2.getStructuringElement(cv2.MORPH_RECT, (3,3)))\n",
    "fig, ax = plt.subplots(1, 2)\n",
    "fig.set_size_inches(14, 7)\n",
    "ax[0].imshow(ertka, cmap='gray', vmin=0, vmax=256)\n",
    "ax[0].set_title(\"Obraz oryginalny\")\n",
    "ax[0].axis(\"off\")\n",
    "ax[1].imshow(mini, cmap='gray', vmin=0, vmax=256)\n",
    "ax[1].set_title(\"Po przekształceniu\")\n",
    "ax[1].axis(\"off\")\n",
    "plt.show()"
   ]
  },
  {
   "source": [
    "Przekształcenie przebiegło pomyślnie."
   ],
   "cell_type": "markdown",
   "metadata": {}
  },
  {
   "cell_type": "code",
   "execution_count": null,
   "metadata": {},
   "outputs": [],
   "source": [
    "hom = cv2.imread('hom.bmp', cv2.IMREAD_GRAYSCALE)\n",
    "my_el = np.array([[0, 1, 0], [1, 1, 1], [0, 1, 0]], 'uint8')\n",
    "hit_miss = cv2.morphologyEx(hom, cv2.MORPH_HITMISS, my_el)\n",
    "fig, ax = plt.subplots(1, 2)\n",
    "fig.set_size_inches(14, 7)\n",
    "ax[0].imshow(hom, cmap='gray', vmin=0, vmax=256)\n",
    "ax[0].set_title(\"Obraz oryginalny\")\n",
    "ax[0].axis(\"off\")\n",
    "ax[1].imshow(hit_miss, cmap='gray', vmin=0, vmax=256)\n",
    "ax[1].set_title(\"Po przekształceniu\")\n",
    "ax[1].axis(\"off\")\n",
    "plt.show()"
   ]
  },
  {
   "cell_type": "markdown",
   "metadata": {},
   "source": [
    "## Inne operacje morfologiczne\n",
    "Do innych operacji morfologicznych należą między innymi ścienianie (ang. _thinning_), szkieletyzacja (ang. _skeletonization_), rekonstrukcja morfologiczna (ang. _morphological reconstruction_), czyszczenie brzegu (ang. _clearing border_) i uzupełnianie dziur (ang. _filling holes_). W tym rozdziale zostanie zaprezentowana rekonstrukcja morfologiczna.\n",
    "\n",
    "Rekonstrukcja morfologiczna jest operacją trójargumentową. Wymaga podania markera (obrazu, od którego zacznie się transformacja), maski (ograniczenia transformacji) oraz elementu strukturalnego. Operacja polega na wykonywaniu kroków (dopóki w dwóch kolejnych iteracjach nic się nie zmieni):\n",
    "- dylatacja obrazu markera (z danym elementem strukturalnym),\n",
    "- nowy marker = część wspólna dylatacji starego markera i maski.\n",
    "\n",
    "Trzy operacje, które wykorzystują schemat rekonstrukcji to: \n",
    "- otwarcie poprzez rekonstrukcję,\n",
    "- wypełnianie dziur,\n",
    "- czyszczenie brzegu.\n",
    "\n",
    "### Otwarcie poprzez rekonstrukcję:\n",
    "- Wczytaj obraz text.bmp, wyświetl go.\n",
    "- Załóżmy, że chcemy wykryć na obrazie litery, które zawierają długie pionowe fragmenty. W pierwszym podejściu stosujemy morfologiczne otwarcie z maską pionową o wysokości 51 pikseli (taka jest średnia wysokość liter na obrazie – `np.ones((51,1))`. Sprawdź rezultat takiej operacji.\n",
    "- Detekcja wprawdzie sie udała, ale otrzymujemy tylko pionowe kreski.\n",
    "- Rozwiązaniem jest rekonstrukcja – jako marker wybieramy obraz oryginalny poddany erozji. Maskę stanowi obraz oryginalny. Samodzielnie dobierz element strukturalny.\n",
    "- Zaimplementuj rekonstrukcję i porównaj efekt otwarcia i rekonstrukcji.\n"
   ]
  },
  {
   "cell_type": "code",
   "execution_count": null,
   "metadata": {},
   "outputs": [],
   "source": [
    "fig, ax = plt.subplots(1, 1)\n",
    "fig.set_size_inches(7, 7)\n",
    "ax.imshow(text, cmap='gray', vmin=0, vmax=256)\n",
    "ax.set_title(\"Obraz oryginalny\")\n",
    "ax.axis(\"off\")\n",
    "plt.show()"
   ]
  },
  {
   "cell_type": "code",
   "execution_count": null,
   "metadata": {},
   "outputs": [],
   "source": [
    "my_el = np.ones((51, 1))\n",
    "text_open = cv2.morphologyEx(text, cv2.MORPH_OPEN, my_el)\n",
    "fig, ax = plt.subplots(1, 1)\n",
    "fig.set_size_inches(7, 7)\n",
    "ax.imshow(text_open, cmap='gray', vmin=0, vmax=256)\n",
    "ax.set_title(\"Po przekształceniu\")\n",
    "ax.axis(\"off\")\n",
    "plt.show()"
   ]
  },
  {
   "cell_type": "code",
   "execution_count": null,
   "metadata": {},
   "outputs": [],
   "source": [
    "def rec(img, mask, kernel):\n",
    "    while True:\n",
    "        img_dil = cv2.dilate(img, kernel)\n",
    "        img_dil = cv2.bitwise_and(img_dil, mask)\n",
    "        if (img == img_dil).all():\n",
    "            return img_dil\n",
    "        img = img_dil\n",
    "\n",
    "text_rec = rec(cv2.erode(text, np.ones((51,1))), text, np.ones((3,3), np.uint8))\n",
    "fig, ax = plt.subplots(1, 1)\n",
    "fig.set_size_inches(7, 7)\n",
    "ax.imshow(text_rec, cmap='gray', vmin=0, vmax=256)\n",
    "ax.set_title(\"Po rekonstrukcji\")\n",
    "ax.axis(\"off\")\n",
    "plt.show()"
   ]
  },
  {
   "cell_type": "markdown",
   "metadata": {},
   "source": [
    "## Operacje morfologiczne dla obrazów w skali szarości\n",
    "\n",
    "Wszystkie dotychczasowe operacje (oprócz transformacji trafi, nie trafi) mają swoje odpowieniki dla obrazów w skali szarości. Konieczne jest tylko podanie definicji erozji i dylatacji w nieco innej formie:\n",
    "- Erozja – filtr minimalny.\n",
    "- Dylatacja – filtr maksymalny.\n",
    "\n",
    "\n",
    "1. Wczytaj obraz ferrari.bmp i wykonaj operacje morfologiczne: erozję i dylatację. Element strukturalny ustal na kwadrat 3×3. Oblicz też różnicę pomiędzy obrazem po dylatacji a po erozji – czyli tzw. gradient morfologiczny. Rezultaty wyświetl na wspólnym wykresie.\n",
    "2. Otwarcie to tłumienie jasnych detali na obrazie. Zamkniecie to tłumienie ciemnych detali na obrazie. Potwierdź powyższe stwierdzenia wykonując obie operacje na obrazie _ferrari_.\n",
    "3. Wykonaj operacje top-hat i bottom-hat `cv2.morphologyEx(img, cv2.MORPH_TOPHAT, strel)` oraz `cv2.morphologyEx(img, cv2.MORPH_BLACKHAT, strel)` na obrazie _ferrari_. Jakie obszary udało sie wykryć za pomocą tej operacji? Z jakich operacji składa sie filtr top-hat?\n",
    "4. Wczytaj obraz rice.png (z laboratorium o binaryzacji). Wyświetl go. Zwróć uwage na niejednorodne oświetlenie. Wykonaj operacje top-hat z dużym elementem strukturalnym (np. koło o rozmiarze 10) na tym obrazie. Wynik wyświetl. Co stało się z niejednorodnością oświetlenia?"
   ]
  },
  {
   "cell_type": "code",
   "execution_count": null,
   "metadata": {
    "pycharm": {
     "name": "#%%\n"
    }
   },
   "outputs": [],
   "source": [
    "my_el = np.ones((3, 3))\n",
    "ferrari_erode = cv2.erode(ferrari, my_el)\n",
    "ferrari_dilate = cv2.dilate(ferrari, my_el)\n",
    "\n",
    "fig, axs = plt.subplots(1, 4)\n",
    "fig.set_size_inches(24, 6)\n",
    "\n",
    "axs[0].imshow(ferrari, cmap='gray', vmin=0, vmax=256)\n",
    "axs[0].axis('off')\n",
    "axs[0].set_title('Obraz oryginalny')\n",
    "\n",
    "axs[1].imshow(ferrari_erode, cmap='gray', vmin=0, vmax=256)\n",
    "axs[1].axis('off')\n",
    "axs[1].set_title('Erozja')\n",
    "\n",
    "axs[2].imshow(ferrari_dilate, cmap='gray', vmin=0, vmax=256)\n",
    "axs[2].axis('off')\n",
    "axs[2].set_title('Dylatacja')\n",
    "\n",
    "axs[3].imshow(abs(ferrari_dilate-ferrari_erode), cmap='gray', vmin=0, vmax=256)\n",
    "axs[3].axis('off')\n",
    "axs[3].set_title('moduł z różnicy dilate i erode')\n",
    "plt.show()"
   ]
  },
  {
   "cell_type": "code",
   "execution_count": null,
   "metadata": {},
   "outputs": [],
   "source": [
    "my_el = cv2.getStructuringElement(cv2.MORPH_RECT, (3, 3))\n",
    "ferrari_open = cv2.morphologyEx(ferrari, cv2.MORPH_OPEN, my_el)\n",
    "ferrari_close = cv2.morphologyEx(ferrari, cv2.MORPH_CLOSE, my_el)\n",
    "\n",
    "fig, axs = plt.subplots(1, 3)\n",
    "fig.set_size_inches(21, 7)\n",
    "\n",
    "axs[0].imshow(ferrari, cmap='gray', vmin=0, vmax=256)\n",
    "axs[0].axis('off')\n",
    "axs[0].set_title('Obraz oryginalny')\n",
    "\n",
    "axs[1].imshow(ferrari_open, cmap='gray', vmin=0, vmax=256)\n",
    "axs[1].axis('off')\n",
    "axs[1].set_title('Otwarcie')\n",
    "\n",
    "axs[2].imshow(ferrari_close, cmap='gray', vmin=0, vmax=256)\n",
    "axs[2].axis('off')\n",
    "axs[2].set_title('Zamknięcie')\n",
    "plt.show()"
   ]
  },
  {
   "cell_type": "code",
   "execution_count": null,
   "metadata": {},
   "outputs": [],
   "source": [
    "my_el = cv2.getStructuringElement(cv2.MORPH_RECT, (3, 3))\n",
    "top = cv2.morphologyEx(ferrari, cv2.MORPH_TOPHAT, my_el)\n",
    "bottom = cv2.morphologyEx(ferrari, cv2.MORPH_BLACKHAT, my_el)\n",
    "\n",
    "fig, axs = plt.subplots(1, 3)\n",
    "fig.set_size_inches(21, 7)\n",
    "\n",
    "axs[0].imshow(ferrari, cmap='gray', vmin=0, vmax=256)\n",
    "axs[0].axis('off')\n",
    "axs[0].set_title('Obraz oryginalny')\n",
    "\n",
    "axs[1].imshow(top, cmap='gray', vmin=0, vmax=256)\n",
    "axs[1].axis('off')\n",
    "axs[1].set_title('Tophat')\n",
    "\n",
    "axs[2].imshow(bottom, cmap='gray', vmin=0, vmax=256)\n",
    "axs[2].axis('off')\n",
    "axs[2].set_title('Bothat')\n",
    "plt.show()"
   ]
  },
  {
   "source": [
    "Tophat wykrywa najjaśniejsze elementy."
   ],
   "cell_type": "markdown",
   "metadata": {}
  },
  {
   "cell_type": "code",
   "execution_count": null,
   "metadata": {},
   "outputs": [],
   "source": [
    "my_el = cv2.getStructuringElement(cv2.MORPH_ELLIPSE, (10, 10))\r\n",
    "top = cv2.morphologyEx(rice, cv2.MORPH_TOPHAT, my_el)\r\n",
    "\r\n",
    "fig, axs = plt.subplots(1, 2)\r\n",
    "fig.set_size_inches(14, 7)\r\n",
    "axs[0].imshow(rice, 'gray')\r\n",
    "axs[0].axis('off')\r\n",
    "axs[0].set_title('Obraz oryginalny')\r\n",
    "axs[1].imshow(top, cmap='gray', vmin=0, vmax=256)\r\n",
    "axs[1].axis('off')\r\n",
    "axs[1].set_title('Tophat')\r\n",
    "plt.show()"
   ]
  },
  {
   "source": [
    "Tophat usuwa nierównomierne oświetlenie."
   ],
   "cell_type": "markdown",
   "metadata": {}
  },
  {
   "cell_type": "markdown",
   "metadata": {},
   "source": [
    "## Przykład zastosowania morfologii\n",
    "\n",
    "1. Wczytaj obraz calculator.bmp. Wyświetl go. Zadanie do realizacji: wyizolować tekst na klawiszach kalkulatora.\n",
    "2. W pierwszym kroku usunięte zostaną poziome odbicia znajdujące się na górnej krawędzi każdego z klawiszy. Wykorzystamy fakt, że odbicie jest dłuższe niż jakikolwiek pojedynczy znak. Wykonujemy otwarcie przez rekonstrukcję (można wykorzystać kod z wcześniejszego zadania, ale tym razem mamy do czynienia z obrazem w skali szarości zamiast z binarnym – proszę się zastanowić, jaka operacja jest odpowiednikiem operacji AND?):\n",
    "  - początkowo wykonujemy erozję z elementem strukturalnym w postaci poziomej linii — `np.ones((1,71))`,\n",
    "  - następnie dokonujemy rekonstrukcji: marker – obraz po erozji, maska – obraz oryginalny,\n",
    "  - wynik operacji wyświetl. Dla porównania wyświetl wynik klasycznego otwarcia z takim samym elementem strukturalnym. W czym otwarcie przez rekonstrukcję jest lepsze od klasycznego?\n",
    "3. W poprzednim kroku (tj. w wyniku otwarcia przez rekonstrukcję) uzyskaliśmy obraz tła. Należy go teraz odjąć od obrazu oryginalnego. Ten rodzaj operacji można nazwać top-hat poprzez rekonstrukcję. Wynik wyświetl. Dla porównania wyświetl wynik klasycznej operacji top-hat – różnicy miedzy obrazem oryginalnym a obrazem po klasycznym otwarciu.\n",
    "4. W podobny sposób należy zlikwidować odblaski pionowe:\n",
    "  - erozja z elementem strukturalnym w postaci poziomej linii – `np.ones((1,11))` – zostaną zachowane wszystkie znaki (bo prawie wszystkie są szersze). Uwaga. Operacje wykonujemy na uzyskanym w kroku 3 rezultacie odjęcia od obrazu oryginalnego, obrazu po rekonstrukcji.\n",
    "  - rekonstrukcja: marker – obraz po erozji, maska – obraz z punktu 3 (różnica oryginalnego i tła),\n",
    "  - wynik wyświetl.\n",
    "5. Rezultat jest niemal satysfakcjonujący, ale wystąpił problem z cienkimi pionowymi elementami napisów – np. I na klawiszu ASIN. Wykorzystując fakt, że usunięte znaki znajdują się w bezpośrednim sąsiedztwie istniejących znaków wykonujemy następujące operacje:\n",
    "  - dylatacja z elementem `np.ones((1,21))`,\n",
    "  - rekonstrukcja z markerem w postaci – minimum(obraz po dylatacji z punktu powyżej, obraz uzyskany w punkcie 3, tj. różnica oryginalnego i tła) oraz maską – obraz z pkt. 3.\n",
    "6. Rezultat wyświetl. Czy za pomocą zaproponowanych operacji udało się uzyskać zamierzony efekt – ekstrakcję napisów?\n"
   ]
  },
  {
   "cell_type": "code",
   "execution_count": null,
   "metadata": {
    "pycharm": {
     "name": "#%%\n"
    }
   },
   "outputs": [],
   "source": [
    "fig, ax = plt.subplots(1, 1)\n",
    "fig.set_size_inches(7, 7)\n",
    "ax.imshow(calc, cmap='gray', vmin=0, vmax=256)\n",
    "ax.set_title(\"Po rekonstrukcji\")\n",
    "ax.axis(\"off\")\n",
    "plt.show()"
   ]
  },
  {
   "cell_type": "code",
   "execution_count": null,
   "metadata": {},
   "outputs": [],
   "source": [
    "fig, axs = plt.subplots(1, 3)\n",
    "fig.set_size_inches(21, 7)\n",
    "\n",
    "axs[0].imshow(calc, cmap='gray', vmin=0, vmax=256)\n",
    "axs[0].axis('off')\n",
    "axs[0].set_title('Obraz oryginalny')\n",
    "\n",
    "calc_rec = rec(cv2.erode(calc, np.ones((1, 71))), calc, np.ones((3, 3), np.uint8))\n",
    "axs[1].imshow(calc_rec, cmap='gray', vmin=0, vmax=256)\n",
    "axs[1].axis('off')\n",
    "axs[1].set_title('Rekonstrukcja')\n",
    "\n",
    "calc_open = cv2.morphologyEx(calc, cv2.MORPH_OPEN, np.ones((1, 71)))\n",
    "axs[2].imshow(calc_open, cmap='gray', vmin=0, vmax=256)\n",
    "axs[2].axis('off')\n",
    "axs[2].set_title('Otwarcie')\n",
    "plt.show()"
   ]
  },
  {
   "cell_type": "code",
   "execution_count": null,
   "metadata": {},
   "outputs": [],
   "source": [
    "fig, axs = plt.subplots(1, 3)\n",
    "fig.set_size_inches(21, 7)\n",
    "\n",
    "axs[0].imshow(calc, cmap='gray', vmin=0, vmax=256)\n",
    "axs[0].axis('off')\n",
    "axs[0].set_title('Obraz oryginalny')\n",
    "\n",
    "axs[1].imshow(abs(calc-calc_rec), cmap='gray', vmin=0, vmax=256)\n",
    "axs[1].axis('off')\n",
    "axs[1].set_title('Tophat przez rek')\n",
    "\n",
    "axs[2].imshow(abs(calc-calc_open), cmap='gray', vmin=0, vmax=256)\n",
    "axs[2].axis('off')\n",
    "axs[2].set_title('Tophat')\n",
    "plt.show()"
   ]
  },
  {
   "cell_type": "code",
   "execution_count": null,
   "metadata": {},
   "outputs": [],
   "source": [
    "calc_rec1 = rec(cv2.erode(abs(calc-calc_rec), np.ones((11, 1))), abs(calc-calc_rec), np.ones((3, 3), np.uint8))\n",
    "fig, axs = plt.subplots(1, 3)\n",
    "fig.set_size_inches(21, 7)\n",
    "\n",
    "axs[0].imshow(calc, 'gray')\n",
    "axs[0].axis('off')\n",
    "axs[0].set_title('Obraz oryginalny')\n",
    "\n",
    "axs[1].imshow(calc_rec, cmap='gray', vmin=0, vmax=256)\n",
    "axs[1].axis('off')\n",
    "axs[1].set_title('Rekonstrukcja')\n",
    "\n",
    "axs[2].imshow(calc_rec1, cmap='gray', vmin=0, vmax=256)\n",
    "axs[2].axis('off')\n",
    "axs[2].set_title('II rekonstrukcja')\n",
    "plt.show()"
   ]
  },
  {
   "cell_type": "code",
   "execution_count": null,
   "metadata": {},
   "outputs": [],
   "source": [
    "calc_dil = cv2.dilate(calc_rec1, np.ones((1, 21)))\n",
    "calc_rec2 = rec(cv2.min(calc_dil, abs(calc-calc_rec)), abs(calc-calc_rec), np.ones((3, 3), np.uint8))\n",
    "\n",
    "fig, axs = plt.subplots(1, 4)\n",
    "fig.set_size_inches(24, 6)\n",
    "\n",
    "axs[0].imshow(calc, cmap='gray', vmin=0, vmax=256)\n",
    "axs[0].axis('off')\n",
    "axs[0].set_title('Obraz oryginalny')\n",
    "\n",
    "axs[1].imshow(calc_rec, cmap='gray', vmin=0, vmax=256)\n",
    "axs[1].axis('off')\n",
    "axs[1].set_title('Obraz po rekonstrukcji pierwszej')\n",
    "\n",
    "axs[2].imshow(calc_rec1, cmap='gray', vmin=0, vmax=256)\n",
    "axs[2].axis('off')\n",
    "axs[2].set_title('Obraz po rekonstrukcji drugiej')\n",
    "\n",
    "axs[3].imshow(calc_rec2, cmap='gray', vmin=0, vmax=256)\n",
    "axs[3].axis('off')\n",
    "axs[3].set_title('Obraz po rekonstrukcji trzeciej')\n",
    "plt.show()"
   ]
  },
  {
   "source": [
    "Udało się wyszczególnić napisy, jednak wciąż widoczny jest zarys przycisków."
   ],
   "cell_type": "markdown",
   "metadata": {}
  }
 ],
 "metadata": {
  "celltoolbar": "Raw Cell Format",
  "kernelspec": {
   "name": "python383jvsc74a57bd0c468bac67d804d57f893e0f9ada055e3f07962baf7e8a6539193483b2e095161",
   "display_name": "Python 3.8.3 64-bit ('base': conda)"
  },
  "language_info": {
   "codemirror_mode": {
    "name": "ipython",
    "version": 3
   },
   "file_extension": ".py",
   "mimetype": "text/x-python",
   "name": "python",
   "nbconvert_exporter": "python",
   "pygments_lexer": "ipython3",
   "version": "3.8.3"
  }
 },
 "nbformat": 4,
 "nbformat_minor": 4
}